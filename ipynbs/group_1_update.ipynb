{
 "cells": [
  {
   "cell_type": "code",
   "execution_count": 1,
   "metadata": {},
   "outputs": [],
   "source": [
    "import pandas as pd\n",
    "import numpy as np"
   ]
  },
  {
   "cell_type": "markdown",
   "metadata": {},
   "source": [
    "### Файлы для обработки"
   ]
  },
  {
   "cell_type": "code",
   "execution_count": 2,
   "metadata": {},
   "outputs": [
    {
     "data": {
      "text/plain": [
       "['dasha_f.csv', 'julia_s.csv', 'katya_v.csv', 'nastya_k.csv', 'oleg_s.csv']"
      ]
     },
     "execution_count": 2,
     "metadata": {},
     "output_type": "execute_result"
    }
   ],
   "source": [
    "from os import listdir\n",
    "from os.path import isfile, join\n",
    "\n",
    "\n",
    "data_catalog = \"..//..//Realtime-Emotion-Detection-master//video_emotions_recognized//1_group//\"\n",
    "data_files = [f for f in listdir(data_catalog) if isfile(join(data_catalog, f))]\n",
    "data_files = sorted(data_files)\n",
    "data_files"
   ]
  },
  {
   "cell_type": "markdown",
   "metadata": {},
   "source": [
    "### Имена участников"
   ]
  },
  {
   "cell_type": "code",
   "execution_count": 3,
   "metadata": {},
   "outputs": [],
   "source": [
    "name_1 = \"dasha_f\"\n",
    "name_2 = \"julia_s\"\n",
    "name_3 = \"katya_v\"\n",
    "name_4 = \"nastya_k\"\n",
    "name_5 = \"oleg_s\""
   ]
  },
  {
   "cell_type": "markdown",
   "metadata": {},
   "source": [
    "### 1 датасет"
   ]
  },
  {
   "cell_type": "code",
   "execution_count": 4,
   "metadata": {},
   "outputs": [
    {
     "data": {
      "text/html": [
       "<div>\n",
       "<style scoped>\n",
       "    .dataframe tbody tr th:only-of-type {\n",
       "        vertical-align: middle;\n",
       "    }\n",
       "\n",
       "    .dataframe tbody tr th {\n",
       "        vertical-align: top;\n",
       "    }\n",
       "\n",
       "    .dataframe thead th {\n",
       "        text-align: right;\n",
       "    }\n",
       "</style>\n",
       "<table border=\"1\" class=\"dataframe\">\n",
       "  <thead>\n",
       "    <tr style=\"text-align: right;\">\n",
       "      <th></th>\n",
       "      <th>number</th>\n",
       "      <th>emotion</th>\n",
       "    </tr>\n",
       "  </thead>\n",
       "  <tbody>\n",
       "    <tr>\n",
       "      <th>0</th>\n",
       "      <td>1</td>\n",
       "      <td>NaN</td>\n",
       "    </tr>\n",
       "    <tr>\n",
       "      <th>1</th>\n",
       "      <td>2</td>\n",
       "      <td>NaN</td>\n",
       "    </tr>\n",
       "    <tr>\n",
       "      <th>2</th>\n",
       "      <td>3</td>\n",
       "      <td>NaN</td>\n",
       "    </tr>\n",
       "    <tr>\n",
       "      <th>3</th>\n",
       "      <td>4</td>\n",
       "      <td>NaN</td>\n",
       "    </tr>\n",
       "    <tr>\n",
       "      <th>4</th>\n",
       "      <td>5</td>\n",
       "      <td>NaN</td>\n",
       "    </tr>\n",
       "  </tbody>\n",
       "</table>\n",
       "</div>"
      ],
      "text/plain": [
       "   number emotion\n",
       "0       1     NaN\n",
       "1       2     NaN\n",
       "2       3     NaN\n",
       "3       4     NaN\n",
       "4       5     NaN"
      ]
     },
     "execution_count": 4,
     "metadata": {},
     "output_type": "execute_result"
    }
   ],
   "source": [
    "df_1 = pd.read_csv(data_catalog + data_files[0], sep = \"\\t\", names = [\"number\", \"emotion\"])\n",
    "df_1.head()"
   ]
  },
  {
   "cell_type": "markdown",
   "metadata": {},
   "source": [
    "#### Базовая эмоция"
   ]
  },
  {
   "cell_type": "code",
   "execution_count": 5,
   "metadata": {},
   "outputs": [
    {
     "data": {
      "text/plain": [
       "happy       27422\n",
       "neutral      3343\n",
       "fear         1217\n",
       "surprise      567\n",
       "sad             1\n",
       "Name: emotion, dtype: int64"
      ]
     },
     "execution_count": 5,
     "metadata": {},
     "output_type": "execute_result"
    }
   ],
   "source": [
    "base_1 = df_1[\"emotion\"].value_counts()\n",
    "base_1"
   ]
  },
  {
   "cell_type": "code",
   "execution_count": 6,
   "metadata": {},
   "outputs": [
    {
     "data": {
      "text/html": [
       "<div>\n",
       "<style scoped>\n",
       "    .dataframe tbody tr th:only-of-type {\n",
       "        vertical-align: middle;\n",
       "    }\n",
       "\n",
       "    .dataframe tbody tr th {\n",
       "        vertical-align: top;\n",
       "    }\n",
       "\n",
       "    .dataframe thead th {\n",
       "        text-align: right;\n",
       "    }\n",
       "</style>\n",
       "<table border=\"1\" class=\"dataframe\">\n",
       "  <thead>\n",
       "    <tr style=\"text-align: right;\">\n",
       "      <th></th>\n",
       "      <th>number</th>\n",
       "      <th>emotion</th>\n",
       "      <th>emotion_mapped</th>\n",
       "    </tr>\n",
       "  </thead>\n",
       "  <tbody>\n",
       "    <tr>\n",
       "      <th>0</th>\n",
       "      <td>1</td>\n",
       "      <td>NaN</td>\n",
       "      <td>NaN</td>\n",
       "    </tr>\n",
       "    <tr>\n",
       "      <th>1</th>\n",
       "      <td>2</td>\n",
       "      <td>NaN</td>\n",
       "      <td>NaN</td>\n",
       "    </tr>\n",
       "    <tr>\n",
       "      <th>2</th>\n",
       "      <td>3</td>\n",
       "      <td>NaN</td>\n",
       "      <td>NaN</td>\n",
       "    </tr>\n",
       "    <tr>\n",
       "      <th>3</th>\n",
       "      <td>4</td>\n",
       "      <td>NaN</td>\n",
       "      <td>NaN</td>\n",
       "    </tr>\n",
       "    <tr>\n",
       "      <th>4</th>\n",
       "      <td>5</td>\n",
       "      <td>NaN</td>\n",
       "      <td>NaN</td>\n",
       "    </tr>\n",
       "  </tbody>\n",
       "</table>\n",
       "</div>"
      ],
      "text/plain": [
       "   number emotion emotion_mapped\n",
       "0       1     NaN            NaN\n",
       "1       2     NaN            NaN\n",
       "2       3     NaN            NaN\n",
       "3       4     NaN            NaN\n",
       "4       5     NaN            NaN"
      ]
     },
     "execution_count": 6,
     "metadata": {},
     "output_type": "execute_result"
    }
   ],
   "source": [
    "base_emotion_1 = base_1[base_1 == base_1.max()].index[0]\n",
    "\n",
    "df_1[\"emotion_mapped\"] = df_1[\"emotion\"].replace(base_emotion_1, \"base\")\n",
    "df_1[\"emotion_mapped\"] = df_1[\"emotion_mapped\"].map({\"neutral\": \"positive\", \"fear\": \"negative\", \n",
    "                                                     \"surprise\": \"positive\", \"happy\": \"positive\", \n",
    "                                                     \"sad\": \"negative\", \"base\": \"base\", \"angry\": \"negative\"})\n",
    "df_1.head()"
   ]
  },
  {
   "cell_type": "markdown",
   "metadata": {},
   "source": [
    "####  Отклонения от базовой эмоции"
   ]
  },
  {
   "cell_type": "code",
   "execution_count": 7,
   "metadata": {},
   "outputs": [],
   "source": [
    "deviations_1 = df_1[(pd.notnull(df_1.emotion)) & (df_1.emotion != base_emotion_1)][\"number\"]\n",
    "deviations_1 = list(deviations_1.values)"
   ]
  },
  {
   "cell_type": "markdown",
   "metadata": {},
   "source": [
    "### 2 датасет"
   ]
  },
  {
   "cell_type": "code",
   "execution_count": 8,
   "metadata": {},
   "outputs": [
    {
     "data": {
      "text/html": [
       "<div>\n",
       "<style scoped>\n",
       "    .dataframe tbody tr th:only-of-type {\n",
       "        vertical-align: middle;\n",
       "    }\n",
       "\n",
       "    .dataframe tbody tr th {\n",
       "        vertical-align: top;\n",
       "    }\n",
       "\n",
       "    .dataframe thead th {\n",
       "        text-align: right;\n",
       "    }\n",
       "</style>\n",
       "<table border=\"1\" class=\"dataframe\">\n",
       "  <thead>\n",
       "    <tr style=\"text-align: right;\">\n",
       "      <th></th>\n",
       "      <th>number</th>\n",
       "      <th>emotion</th>\n",
       "    </tr>\n",
       "  </thead>\n",
       "  <tbody>\n",
       "    <tr>\n",
       "      <th>0</th>\n",
       "      <td>1</td>\n",
       "      <td>NaN</td>\n",
       "    </tr>\n",
       "    <tr>\n",
       "      <th>1</th>\n",
       "      <td>2</td>\n",
       "      <td>NaN</td>\n",
       "    </tr>\n",
       "    <tr>\n",
       "      <th>2</th>\n",
       "      <td>3</td>\n",
       "      <td>NaN</td>\n",
       "    </tr>\n",
       "    <tr>\n",
       "      <th>3</th>\n",
       "      <td>4</td>\n",
       "      <td>NaN</td>\n",
       "    </tr>\n",
       "    <tr>\n",
       "      <th>4</th>\n",
       "      <td>5</td>\n",
       "      <td>NaN</td>\n",
       "    </tr>\n",
       "  </tbody>\n",
       "</table>\n",
       "</div>"
      ],
      "text/plain": [
       "   number emotion\n",
       "0       1     NaN\n",
       "1       2     NaN\n",
       "2       3     NaN\n",
       "3       4     NaN\n",
       "4       5     NaN"
      ]
     },
     "execution_count": 8,
     "metadata": {},
     "output_type": "execute_result"
    }
   ],
   "source": [
    "df_2 = pd.read_csv(data_catalog + data_files[1], sep = \"\\t\", names = [\"number\", \"emotion\"])\n",
    "\n",
    "df_2.head()\n"
   ]
  },
  {
   "cell_type": "markdown",
   "metadata": {},
   "source": [
    "#### Базовая эмоция"
   ]
  },
  {
   "cell_type": "code",
   "execution_count": 9,
   "metadata": {},
   "outputs": [
    {
     "data": {
      "text/plain": [
       "neutral    16721\n",
       "happy        419\n",
       "Name: emotion, dtype: int64"
      ]
     },
     "execution_count": 9,
     "metadata": {},
     "output_type": "execute_result"
    }
   ],
   "source": [
    "base_2 = df_2[\"emotion\"].value_counts()\n",
    "base_2"
   ]
  },
  {
   "cell_type": "code",
   "execution_count": 10,
   "metadata": {},
   "outputs": [
    {
     "data": {
      "text/html": [
       "<div>\n",
       "<style scoped>\n",
       "    .dataframe tbody tr th:only-of-type {\n",
       "        vertical-align: middle;\n",
       "    }\n",
       "\n",
       "    .dataframe tbody tr th {\n",
       "        vertical-align: top;\n",
       "    }\n",
       "\n",
       "    .dataframe thead th {\n",
       "        text-align: right;\n",
       "    }\n",
       "</style>\n",
       "<table border=\"1\" class=\"dataframe\">\n",
       "  <thead>\n",
       "    <tr style=\"text-align: right;\">\n",
       "      <th></th>\n",
       "      <th>number</th>\n",
       "      <th>emotion</th>\n",
       "      <th>emotion_mapped</th>\n",
       "    </tr>\n",
       "  </thead>\n",
       "  <tbody>\n",
       "    <tr>\n",
       "      <th>0</th>\n",
       "      <td>1</td>\n",
       "      <td>NaN</td>\n",
       "      <td>NaN</td>\n",
       "    </tr>\n",
       "    <tr>\n",
       "      <th>1</th>\n",
       "      <td>2</td>\n",
       "      <td>NaN</td>\n",
       "      <td>NaN</td>\n",
       "    </tr>\n",
       "    <tr>\n",
       "      <th>2</th>\n",
       "      <td>3</td>\n",
       "      <td>NaN</td>\n",
       "      <td>NaN</td>\n",
       "    </tr>\n",
       "    <tr>\n",
       "      <th>3</th>\n",
       "      <td>4</td>\n",
       "      <td>NaN</td>\n",
       "      <td>NaN</td>\n",
       "    </tr>\n",
       "    <tr>\n",
       "      <th>4</th>\n",
       "      <td>5</td>\n",
       "      <td>NaN</td>\n",
       "      <td>NaN</td>\n",
       "    </tr>\n",
       "  </tbody>\n",
       "</table>\n",
       "</div>"
      ],
      "text/plain": [
       "   number emotion emotion_mapped\n",
       "0       1     NaN            NaN\n",
       "1       2     NaN            NaN\n",
       "2       3     NaN            NaN\n",
       "3       4     NaN            NaN\n",
       "4       5     NaN            NaN"
      ]
     },
     "execution_count": 10,
     "metadata": {},
     "output_type": "execute_result"
    }
   ],
   "source": [
    "base_emotion_2 = base_2[base_2 == base_2.max()].index[0]\n",
    "\n",
    "\n",
    "df_2[\"emotion_mapped\"] = df_2[\"emotion\"].replace(base_emotion_2, \"base\")\n",
    "df_2[\"emotion_mapped\"] = df_2[\"emotion_mapped\"].map({\"neutral\": \"positive\", \"fear\": \"negative\", \n",
    "                                                     \"surprise\": \"positive\", \"happy\": \"positive\", \n",
    "                                                     \"sad\": \"negative\", \"base\": \"base\", \"angry\": \"negative\"})\n",
    "df_2.head()"
   ]
  },
  {
   "cell_type": "markdown",
   "metadata": {},
   "source": [
    "####  Отклонения от базовой эмоции"
   ]
  },
  {
   "cell_type": "code",
   "execution_count": 11,
   "metadata": {},
   "outputs": [],
   "source": [
    "deviations_2 = df_2[(pd.notnull(df_2.emotion)) & (df_2.emotion != base_emotion_2)][\"number\"]\n",
    "deviations_2 = list(deviations_2.values)"
   ]
  },
  {
   "cell_type": "markdown",
   "metadata": {},
   "source": [
    "### 3 датасет"
   ]
  },
  {
   "cell_type": "code",
   "execution_count": 12,
   "metadata": {},
   "outputs": [
    {
     "data": {
      "text/html": [
       "<div>\n",
       "<style scoped>\n",
       "    .dataframe tbody tr th:only-of-type {\n",
       "        vertical-align: middle;\n",
       "    }\n",
       "\n",
       "    .dataframe tbody tr th {\n",
       "        vertical-align: top;\n",
       "    }\n",
       "\n",
       "    .dataframe thead th {\n",
       "        text-align: right;\n",
       "    }\n",
       "</style>\n",
       "<table border=\"1\" class=\"dataframe\">\n",
       "  <thead>\n",
       "    <tr style=\"text-align: right;\">\n",
       "      <th></th>\n",
       "      <th>number</th>\n",
       "      <th>emotion</th>\n",
       "    </tr>\n",
       "  </thead>\n",
       "  <tbody>\n",
       "    <tr>\n",
       "      <th>0</th>\n",
       "      <td>1</td>\n",
       "      <td>NaN</td>\n",
       "    </tr>\n",
       "    <tr>\n",
       "      <th>1</th>\n",
       "      <td>2</td>\n",
       "      <td>NaN</td>\n",
       "    </tr>\n",
       "    <tr>\n",
       "      <th>2</th>\n",
       "      <td>3</td>\n",
       "      <td>NaN</td>\n",
       "    </tr>\n",
       "    <tr>\n",
       "      <th>3</th>\n",
       "      <td>4</td>\n",
       "      <td>NaN</td>\n",
       "    </tr>\n",
       "    <tr>\n",
       "      <th>4</th>\n",
       "      <td>5</td>\n",
       "      <td>NaN</td>\n",
       "    </tr>\n",
       "  </tbody>\n",
       "</table>\n",
       "</div>"
      ],
      "text/plain": [
       "   number emotion\n",
       "0       1     NaN\n",
       "1       2     NaN\n",
       "2       3     NaN\n",
       "3       4     NaN\n",
       "4       5     NaN"
      ]
     },
     "execution_count": 12,
     "metadata": {},
     "output_type": "execute_result"
    }
   ],
   "source": [
    "df_3 = pd.read_csv(data_catalog + data_files[2], sep = \"\\t\", names = [\"number\", \"emotion\"])\n",
    "df_3.head()"
   ]
  },
  {
   "cell_type": "markdown",
   "metadata": {},
   "source": [
    "#### Базовая эмоция"
   ]
  },
  {
   "cell_type": "code",
   "execution_count": 13,
   "metadata": {},
   "outputs": [
    {
     "data": {
      "text/plain": [
       "happy      30141\n",
       "neutral     1502\n",
       "fear         103\n",
       "Name: emotion, dtype: int64"
      ]
     },
     "execution_count": 13,
     "metadata": {},
     "output_type": "execute_result"
    }
   ],
   "source": [
    "base_3 = df_3[\"emotion\"].value_counts()\n",
    "base_3"
   ]
  },
  {
   "cell_type": "code",
   "execution_count": 14,
   "metadata": {},
   "outputs": [
    {
     "data": {
      "text/html": [
       "<div>\n",
       "<style scoped>\n",
       "    .dataframe tbody tr th:only-of-type {\n",
       "        vertical-align: middle;\n",
       "    }\n",
       "\n",
       "    .dataframe tbody tr th {\n",
       "        vertical-align: top;\n",
       "    }\n",
       "\n",
       "    .dataframe thead th {\n",
       "        text-align: right;\n",
       "    }\n",
       "</style>\n",
       "<table border=\"1\" class=\"dataframe\">\n",
       "  <thead>\n",
       "    <tr style=\"text-align: right;\">\n",
       "      <th></th>\n",
       "      <th>number</th>\n",
       "      <th>emotion</th>\n",
       "      <th>emotion_mapped</th>\n",
       "    </tr>\n",
       "  </thead>\n",
       "  <tbody>\n",
       "    <tr>\n",
       "      <th>0</th>\n",
       "      <td>1</td>\n",
       "      <td>NaN</td>\n",
       "      <td>NaN</td>\n",
       "    </tr>\n",
       "    <tr>\n",
       "      <th>1</th>\n",
       "      <td>2</td>\n",
       "      <td>NaN</td>\n",
       "      <td>NaN</td>\n",
       "    </tr>\n",
       "    <tr>\n",
       "      <th>2</th>\n",
       "      <td>3</td>\n",
       "      <td>NaN</td>\n",
       "      <td>NaN</td>\n",
       "    </tr>\n",
       "    <tr>\n",
       "      <th>3</th>\n",
       "      <td>4</td>\n",
       "      <td>NaN</td>\n",
       "      <td>NaN</td>\n",
       "    </tr>\n",
       "    <tr>\n",
       "      <th>4</th>\n",
       "      <td>5</td>\n",
       "      <td>NaN</td>\n",
       "      <td>NaN</td>\n",
       "    </tr>\n",
       "  </tbody>\n",
       "</table>\n",
       "</div>"
      ],
      "text/plain": [
       "   number emotion emotion_mapped\n",
       "0       1     NaN            NaN\n",
       "1       2     NaN            NaN\n",
       "2       3     NaN            NaN\n",
       "3       4     NaN            NaN\n",
       "4       5     NaN            NaN"
      ]
     },
     "execution_count": 14,
     "metadata": {},
     "output_type": "execute_result"
    }
   ],
   "source": [
    "base_emotion_3 = base_3[base_3 == base_3.max()].index[0]\n",
    "\n",
    "df_3[\"emotion_mapped\"] = df_3[\"emotion\"].replace(base_emotion_3, \"base\")\n",
    "df_3[\"emotion_mapped\"] = df_3[\"emotion_mapped\"].map({\"neutral\": \"positive\", \"fear\": \"negative\", \n",
    "                                                     \"surprise\": \"positive\", \"happy\": \"positive\", \n",
    "                                                     \"sad\": \"negative\", \"base\": \"base\", \"angry\": \"negative\"})\n",
    "df_3.head()"
   ]
  },
  {
   "cell_type": "markdown",
   "metadata": {},
   "source": [
    "####  Отклонения от базовой эмоции"
   ]
  },
  {
   "cell_type": "code",
   "execution_count": 15,
   "metadata": {},
   "outputs": [],
   "source": [
    "deviations_3 = df_3[(pd.notnull(df_3.emotion)) & (df_3.emotion != base_emotion_3)][\"number\"]\n",
    "deviations_3 = list(deviations_3.values)"
   ]
  },
  {
   "cell_type": "markdown",
   "metadata": {},
   "source": [
    "### 4 датасет"
   ]
  },
  {
   "cell_type": "code",
   "execution_count": 16,
   "metadata": {},
   "outputs": [
    {
     "data": {
      "text/html": [
       "<div>\n",
       "<style scoped>\n",
       "    .dataframe tbody tr th:only-of-type {\n",
       "        vertical-align: middle;\n",
       "    }\n",
       "\n",
       "    .dataframe tbody tr th {\n",
       "        vertical-align: top;\n",
       "    }\n",
       "\n",
       "    .dataframe thead th {\n",
       "        text-align: right;\n",
       "    }\n",
       "</style>\n",
       "<table border=\"1\" class=\"dataframe\">\n",
       "  <thead>\n",
       "    <tr style=\"text-align: right;\">\n",
       "      <th></th>\n",
       "      <th>number</th>\n",
       "      <th>emotion</th>\n",
       "    </tr>\n",
       "  </thead>\n",
       "  <tbody>\n",
       "    <tr>\n",
       "      <th>0</th>\n",
       "      <td>1</td>\n",
       "      <td>NaN</td>\n",
       "    </tr>\n",
       "    <tr>\n",
       "      <th>1</th>\n",
       "      <td>2</td>\n",
       "      <td>NaN</td>\n",
       "    </tr>\n",
       "    <tr>\n",
       "      <th>2</th>\n",
       "      <td>3</td>\n",
       "      <td>NaN</td>\n",
       "    </tr>\n",
       "    <tr>\n",
       "      <th>3</th>\n",
       "      <td>4</td>\n",
       "      <td>NaN</td>\n",
       "    </tr>\n",
       "    <tr>\n",
       "      <th>4</th>\n",
       "      <td>5</td>\n",
       "      <td>NaN</td>\n",
       "    </tr>\n",
       "  </tbody>\n",
       "</table>\n",
       "</div>"
      ],
      "text/plain": [
       "   number emotion\n",
       "0       1     NaN\n",
       "1       2     NaN\n",
       "2       3     NaN\n",
       "3       4     NaN\n",
       "4       5     NaN"
      ]
     },
     "execution_count": 16,
     "metadata": {},
     "output_type": "execute_result"
    }
   ],
   "source": [
    "df_4 = pd.read_csv(data_catalog + data_files[3], sep = \"\\t\", names = [\"number\", \"emotion\"])\n",
    "df_4.head()"
   ]
  },
  {
   "cell_type": "markdown",
   "metadata": {},
   "source": [
    "#### Базовая эмоция"
   ]
  },
  {
   "cell_type": "code",
   "execution_count": 17,
   "metadata": {},
   "outputs": [
    {
     "data": {
      "text/plain": [
       "happy       29719\n",
       "neutral       340\n",
       "fear           81\n",
       "surprise        2\n",
       "Name: emotion, dtype: int64"
      ]
     },
     "execution_count": 17,
     "metadata": {},
     "output_type": "execute_result"
    }
   ],
   "source": [
    "base_4 = df_4[\"emotion\"].value_counts()\n",
    "base_4"
   ]
  },
  {
   "cell_type": "code",
   "execution_count": 18,
   "metadata": {},
   "outputs": [
    {
     "data": {
      "text/html": [
       "<div>\n",
       "<style scoped>\n",
       "    .dataframe tbody tr th:only-of-type {\n",
       "        vertical-align: middle;\n",
       "    }\n",
       "\n",
       "    .dataframe tbody tr th {\n",
       "        vertical-align: top;\n",
       "    }\n",
       "\n",
       "    .dataframe thead th {\n",
       "        text-align: right;\n",
       "    }\n",
       "</style>\n",
       "<table border=\"1\" class=\"dataframe\">\n",
       "  <thead>\n",
       "    <tr style=\"text-align: right;\">\n",
       "      <th></th>\n",
       "      <th>number</th>\n",
       "      <th>emotion</th>\n",
       "      <th>emotion_mapped</th>\n",
       "    </tr>\n",
       "  </thead>\n",
       "  <tbody>\n",
       "    <tr>\n",
       "      <th>0</th>\n",
       "      <td>1</td>\n",
       "      <td>NaN</td>\n",
       "      <td>NaN</td>\n",
       "    </tr>\n",
       "    <tr>\n",
       "      <th>1</th>\n",
       "      <td>2</td>\n",
       "      <td>NaN</td>\n",
       "      <td>NaN</td>\n",
       "    </tr>\n",
       "    <tr>\n",
       "      <th>2</th>\n",
       "      <td>3</td>\n",
       "      <td>NaN</td>\n",
       "      <td>NaN</td>\n",
       "    </tr>\n",
       "    <tr>\n",
       "      <th>3</th>\n",
       "      <td>4</td>\n",
       "      <td>NaN</td>\n",
       "      <td>NaN</td>\n",
       "    </tr>\n",
       "    <tr>\n",
       "      <th>4</th>\n",
       "      <td>5</td>\n",
       "      <td>NaN</td>\n",
       "      <td>NaN</td>\n",
       "    </tr>\n",
       "  </tbody>\n",
       "</table>\n",
       "</div>"
      ],
      "text/plain": [
       "   number emotion emotion_mapped\n",
       "0       1     NaN            NaN\n",
       "1       2     NaN            NaN\n",
       "2       3     NaN            NaN\n",
       "3       4     NaN            NaN\n",
       "4       5     NaN            NaN"
      ]
     },
     "execution_count": 18,
     "metadata": {},
     "output_type": "execute_result"
    }
   ],
   "source": [
    "base_emotion_4 = base_4[base_4 == base_4.max()].index[0]\n",
    "\n",
    "\n",
    "df_4[\"emotion_mapped\"] = df_4[\"emotion\"].replace(base_emotion_4, \"base\")\n",
    "df_4[\"emotion_mapped\"] = df_4[\"emotion_mapped\"].map({\"neutral\": \"positive\", \"fear\": \"negative\", \n",
    "                                                     \"surprise\": \"positive\", \"happy\": \"positive\", \n",
    "                                                     \"sad\": \"negative\", \"base\": \"base\", \"angry\": \"negative\"})\n",
    "df_4.head()"
   ]
  },
  {
   "cell_type": "markdown",
   "metadata": {},
   "source": [
    "####  Отклонения от базовой эмоции"
   ]
  },
  {
   "cell_type": "code",
   "execution_count": 19,
   "metadata": {},
   "outputs": [],
   "source": [
    "deviations_4 = df_4[(pd.notnull(df_4.emotion)) & (df_4.emotion != base_emotion_4)][\"number\"]\n",
    "deviations_4 = list(deviations_4.values)"
   ]
  },
  {
   "cell_type": "markdown",
   "metadata": {},
   "source": [
    "### 5 датасет"
   ]
  },
  {
   "cell_type": "code",
   "execution_count": 20,
   "metadata": {},
   "outputs": [
    {
     "data": {
      "text/html": [
       "<div>\n",
       "<style scoped>\n",
       "    .dataframe tbody tr th:only-of-type {\n",
       "        vertical-align: middle;\n",
       "    }\n",
       "\n",
       "    .dataframe tbody tr th {\n",
       "        vertical-align: top;\n",
       "    }\n",
       "\n",
       "    .dataframe thead th {\n",
       "        text-align: right;\n",
       "    }\n",
       "</style>\n",
       "<table border=\"1\" class=\"dataframe\">\n",
       "  <thead>\n",
       "    <tr style=\"text-align: right;\">\n",
       "      <th></th>\n",
       "      <th>number</th>\n",
       "      <th>emotion</th>\n",
       "    </tr>\n",
       "  </thead>\n",
       "  <tbody>\n",
       "    <tr>\n",
       "      <th>0</th>\n",
       "      <td>1</td>\n",
       "      <td>NaN</td>\n",
       "    </tr>\n",
       "    <tr>\n",
       "      <th>1</th>\n",
       "      <td>2</td>\n",
       "      <td>NaN</td>\n",
       "    </tr>\n",
       "    <tr>\n",
       "      <th>2</th>\n",
       "      <td>3</td>\n",
       "      <td>NaN</td>\n",
       "    </tr>\n",
       "    <tr>\n",
       "      <th>3</th>\n",
       "      <td>4</td>\n",
       "      <td>NaN</td>\n",
       "    </tr>\n",
       "    <tr>\n",
       "      <th>4</th>\n",
       "      <td>5</td>\n",
       "      <td>NaN</td>\n",
       "    </tr>\n",
       "  </tbody>\n",
       "</table>\n",
       "</div>"
      ],
      "text/plain": [
       "   number emotion\n",
       "0       1     NaN\n",
       "1       2     NaN\n",
       "2       3     NaN\n",
       "3       4     NaN\n",
       "4       5     NaN"
      ]
     },
     "execution_count": 20,
     "metadata": {},
     "output_type": "execute_result"
    }
   ],
   "source": [
    "df_5 = pd.read_csv(data_catalog + data_files[4], sep = \"\\t\", names = [\"number\", \"emotion\"])\n",
    "df_5.head()"
   ]
  },
  {
   "cell_type": "markdown",
   "metadata": {},
   "source": [
    "#### Базовая эмоция"
   ]
  },
  {
   "cell_type": "code",
   "execution_count": 21,
   "metadata": {},
   "outputs": [
    {
     "data": {
      "text/plain": [
       "happy       19206\n",
       "neutral       943\n",
       "fear          139\n",
       "surprise        2\n",
       "Name: emotion, dtype: int64"
      ]
     },
     "execution_count": 21,
     "metadata": {},
     "output_type": "execute_result"
    }
   ],
   "source": [
    "base_5 = df_5[\"emotion\"].value_counts()\n",
    "base_5"
   ]
  },
  {
   "cell_type": "code",
   "execution_count": 22,
   "metadata": {},
   "outputs": [
    {
     "data": {
      "text/html": [
       "<div>\n",
       "<style scoped>\n",
       "    .dataframe tbody tr th:only-of-type {\n",
       "        vertical-align: middle;\n",
       "    }\n",
       "\n",
       "    .dataframe tbody tr th {\n",
       "        vertical-align: top;\n",
       "    }\n",
       "\n",
       "    .dataframe thead th {\n",
       "        text-align: right;\n",
       "    }\n",
       "</style>\n",
       "<table border=\"1\" class=\"dataframe\">\n",
       "  <thead>\n",
       "    <tr style=\"text-align: right;\">\n",
       "      <th></th>\n",
       "      <th>number</th>\n",
       "      <th>emotion</th>\n",
       "      <th>emotion_mapped</th>\n",
       "    </tr>\n",
       "  </thead>\n",
       "  <tbody>\n",
       "    <tr>\n",
       "      <th>0</th>\n",
       "      <td>1</td>\n",
       "      <td>NaN</td>\n",
       "      <td>NaN</td>\n",
       "    </tr>\n",
       "    <tr>\n",
       "      <th>1</th>\n",
       "      <td>2</td>\n",
       "      <td>NaN</td>\n",
       "      <td>NaN</td>\n",
       "    </tr>\n",
       "    <tr>\n",
       "      <th>2</th>\n",
       "      <td>3</td>\n",
       "      <td>NaN</td>\n",
       "      <td>NaN</td>\n",
       "    </tr>\n",
       "    <tr>\n",
       "      <th>3</th>\n",
       "      <td>4</td>\n",
       "      <td>NaN</td>\n",
       "      <td>NaN</td>\n",
       "    </tr>\n",
       "    <tr>\n",
       "      <th>4</th>\n",
       "      <td>5</td>\n",
       "      <td>NaN</td>\n",
       "      <td>NaN</td>\n",
       "    </tr>\n",
       "  </tbody>\n",
       "</table>\n",
       "</div>"
      ],
      "text/plain": [
       "   number emotion emotion_mapped\n",
       "0       1     NaN            NaN\n",
       "1       2     NaN            NaN\n",
       "2       3     NaN            NaN\n",
       "3       4     NaN            NaN\n",
       "4       5     NaN            NaN"
      ]
     },
     "execution_count": 22,
     "metadata": {},
     "output_type": "execute_result"
    }
   ],
   "source": [
    "base_emotion_5 = base_5[base_5 == base_5.max()].index[0]\n",
    "\n",
    "df_5[\"emotion_mapped\"] = df_5[\"emotion\"].replace(base_emotion_5, \"base\")\n",
    "df_5[\"emotion_mapped\"] = df_5[\"emotion_mapped\"].map({\"neutral\": \"positive\", \"fear\": \"negative\", \n",
    "                                                     \"surprise\": \"positive\", \"happy\": \"positive\", \n",
    "                                                     \"sad\": \"negative\", \"base\": \"base\", \"angry\": \"negative\"})\n",
    "df_5.head()"
   ]
  },
  {
   "cell_type": "markdown",
   "metadata": {},
   "source": [
    "####  Отклонения от базовой эмоции"
   ]
  },
  {
   "cell_type": "code",
   "execution_count": 23,
   "metadata": {},
   "outputs": [],
   "source": [
    "deviations_5 = df_5[(pd.notnull(df_5.emotion)) & (df_5.emotion != base_emotion_5)][\"number\"]\n",
    "deviations_5 = list(deviations_5.values)"
   ]
  },
  {
   "cell_type": "markdown",
   "metadata": {},
   "source": [
    "### 1 человек"
   ]
  },
  {
   "cell_type": "code",
   "execution_count": 24,
   "metadata": {},
   "outputs": [],
   "source": [
    "with_exitment_1 = pd.DataFrame(columns = [\"sender_name\", \"sender_id\", \"emotion_sent\", \"reciever_name\", \n",
    "                                          \"emotion_recieved\"])\n",
    "\n",
    "for number in deviations_1:\n",
    "    \n",
    "    temp_df_2 = df_2[(df_2.number >= number) & (df_2.number <= number + 100) & \n",
    "                     (df_2.emotion != base_emotion_2) & (pd.notnull(df_2.emotion))]\n",
    "    temp_df_3 = df_3[(df_3.number >= number) & (df_3.number <= number + 100) & \n",
    "                     (df_3.emotion != base_emotion_3) & (pd.notnull(df_3.emotion))]\n",
    "    temp_df_4 = df_4[(df_4.number >= number) & (df_4.number <= number + 100) & \n",
    "                     (df_4.emotion != base_emotion_4) & (pd.notnull(df_4.emotion))]\n",
    "    temp_df_5 = df_5[(df_5.number >= number) & (df_5.number <= number + 100) & \n",
    "                     (df_5.emotion != base_emotion_5) & (pd.notnull(df_5.emotion))]\n",
    "\n",
    "    emotion_sent = df_1.loc[number - 1, \"emotion_mapped\"]\n",
    "    sender_name = name_1\n",
    "    \n",
    "    if len(temp_df_2) != 0:\n",
    "        recieved = temp_df_2.iloc[:, 2].value_counts()\n",
    "        recieved_emotion = recieved[recieved == recieved.max()].index[0]\n",
    "        temp_dataset_2 = pd.DataFrame(data = {\"sender_name\": sender_name, \n",
    "                                              \"sender_id\": number, \n",
    "                                              \"emotion_sent\": emotion_sent,\n",
    "                                              \"reciever_name\": name_2, \n",
    "                                              \"emotion_recieved\": recieved_emotion}, index = [0])\n",
    "        with_exitment_1 = pd.concat([with_exitment_1, temp_dataset_2], ignore_index = True)\n",
    "\n",
    "    if len(temp_df_3) != 0:\n",
    "        recieved = temp_df_3.iloc[:, 2].value_counts()\n",
    "        recieved_emotion = recieved[recieved == recieved.max()].index[0]\n",
    "        temp_dataset_3 = pd.DataFrame(data = {\"sender_name\": sender_name, \n",
    "                                              \"sender_id\": number, \n",
    "                                              \"emotion_sent\": emotion_sent,\n",
    "                                              \"reciever_name\": name_3, \n",
    "                                              \"emotion_recieved\": recieved_emotion}, index = [0])\n",
    "        with_exitment_1 = pd.concat([with_exitment_1, temp_dataset_3], ignore_index = True)\n",
    "        \n",
    "    if len(temp_df_4) != 0:\n",
    "        recieved = temp_df_4.iloc[:, 2].value_counts()\n",
    "        recieved_emotion = recieved[recieved == recieved.max()].index[0]\n",
    "        temp_dataset_4 = pd.DataFrame(data = {\"sender_name\": sender_name, \n",
    "                                              \"sender_id\": number, \n",
    "                                              \"emotion_sent\": emotion_sent,\n",
    "                                              \"reciever_name\": name_4, \n",
    "                                              \"emotion_recieved\": recieved_emotion}, index = [0])\n",
    "        with_exitment_1 = pd.concat([with_exitment_1, temp_dataset_4], ignore_index = True)\n",
    "        \n",
    "    if len(temp_df_5) != 0:\n",
    "        recieved = temp_df_5.iloc[:, 2].value_counts()\n",
    "        recieved_emotion = recieved[recieved == recieved.max()].index[0]\n",
    "        temp_dataset_5 = pd.DataFrame(data = {\"sender_name\": sender_name, \n",
    "                                              \"sender_id\": number, \n",
    "                                              \"emotion_sent\": emotion_sent,\n",
    "                                              \"reciever_name\": name_5, \n",
    "                                              \"emotion_recieved\": recieved_emotion}, index = [0])\n",
    "        with_exitment_1 = pd.concat([with_exitment_1, temp_dataset_5], ignore_index = True)"
   ]
  },
  {
   "cell_type": "markdown",
   "metadata": {},
   "source": [
    "### 2 человек"
   ]
  },
  {
   "cell_type": "code",
   "execution_count": 25,
   "metadata": {},
   "outputs": [],
   "source": [
    "with_exitment_2 = pd.DataFrame(columns = [\"sender_name\", \"sender_id\", \"emotion_sent\", \"reciever_name\", \n",
    "                                          \"emotion_recieved\"])\n",
    "\n",
    "for number in deviations_2:\n",
    "    \n",
    "    temp_df_1 = df_1[(df_1.number >= number) & (df_1.number <= number + 100) & \n",
    "                     (df_1.emotion != base_emotion_1) & (pd.notnull(df_1.emotion))]\n",
    "    temp_df_3 = df_3[(df_3.number >= number) & (df_3.number <= number + 100) & \n",
    "                     (df_3.emotion != base_emotion_3) & (pd.notnull(df_3.emotion))]\n",
    "    temp_df_4 = df_4[(df_4.number >= number) & (df_4.number <= number + 100) & \n",
    "                     (df_4.emotion != base_emotion_4) & (pd.notnull(df_4.emotion))]\n",
    "    temp_df_5 = df_5[(df_5.number >= number) & (df_5.number <= number + 100) & \n",
    "                     (df_5.emotion != base_emotion_5) & (pd.notnull(df_5.emotion))]\n",
    "    \n",
    "    emotion_sent = df_2.loc[number - 1, \"emotion_mapped\"]\n",
    "    sender_name = name_2\n",
    "    \n",
    "    if len(temp_df_1) != 0:\n",
    "        recieved = temp_df_1.iloc[:, 2].value_counts()\n",
    "        recieved_emotion = recieved[recieved == recieved.max()].index[0]\n",
    "        temp_dataset_1 = pd.DataFrame(data = {\"sender_name\": sender_name, \n",
    "                                              \"sender_id\": number, \n",
    "                                              \"emotion_sent\": emotion_sent,\n",
    "                                              \"reciever_name\": name_1, \n",
    "                                              \"emotion_recieved\": recieved_emotion}, index = [0])\n",
    "        with_exitment_2 = pd.concat([with_exitment_2, temp_dataset_1], ignore_index = True)\n",
    "\n",
    "    if len(temp_df_3) != 0:\n",
    "        recieved = temp_df_3.iloc[:, 2].value_counts()\n",
    "        recieved_emotion = recieved[recieved == recieved.max()].index[0]\n",
    "        temp_dataset_3 = pd.DataFrame(data = {\"sender_name\": sender_name, \n",
    "                                              \"sender_id\": number, \n",
    "                                              \"emotion_sent\": emotion_sent,\n",
    "                                              \"reciever_name\": name_3, \n",
    "                                              \"emotion_recieved\": recieved_emotion}, index = [0])\n",
    "        with_exitment_2 = pd.concat([with_exitment_2, temp_dataset_3], ignore_index = True)\n",
    "        \n",
    "    if len(temp_df_4) != 0:\n",
    "        recieved = temp_df_4.iloc[:, 2].value_counts()\n",
    "        recieved_emotion = recieved[recieved == recieved.max()].index[0]\n",
    "        temp_dataset_4 = pd.DataFrame(data = {\"sender_name\": sender_name, \n",
    "                                              \"sender_id\": number, \n",
    "                                              \"emotion_sent\": emotion_sent,\n",
    "                                              \"reciever_name\": name_4, \n",
    "                                              \"emotion_recieved\": recieved_emotion}, index = [0])\n",
    "        with_exitment_2 = pd.concat([with_exitment_2, temp_dataset_4], ignore_index = True)\n",
    "        \n",
    "    if len(temp_df_5) != 0:\n",
    "        recieved = temp_df_5.iloc[:, 2].value_counts()\n",
    "        recieved_emotion = recieved[recieved == recieved.max()].index[0]\n",
    "        temp_dataset_5 = pd.DataFrame(data = {\"sender_name\": sender_name, \n",
    "                                              \"sender_id\": number, \n",
    "                                              \"emotion_sent\": emotion_sent,\n",
    "                                              \"reciever_name\": name_5, \n",
    "                                              \"emotion_recieved\": recieved_emotion}, index = [0])\n",
    "        with_exitment_2 = pd.concat([with_exitment_2, temp_dataset_5], ignore_index = True)"
   ]
  },
  {
   "cell_type": "markdown",
   "metadata": {},
   "source": [
    "### 3 человек"
   ]
  },
  {
   "cell_type": "code",
   "execution_count": 26,
   "metadata": {},
   "outputs": [],
   "source": [
    "with_exitment_3 = pd.DataFrame(columns = [\"sender_name\", \"sender_id\", \"emotion_sent\", \"reciever_name\", \n",
    "                                          \"emotion_recieved\"])\n",
    "\n",
    "for number in deviations_3:\n",
    "    \n",
    "    temp_df_1 = df_1[(df_1.number >= number) & (df_1.number <= number + 100) & \n",
    "                     (df_1.emotion != base_emotion_1) & (pd.notnull(df_1.emotion))]\n",
    "    temp_df_2 = df_2[(df_2.number >= number) & (df_2.number <= number + 100) & \n",
    "                     (df_2.emotion != base_emotion_2) & (pd.notnull(df_2.emotion))]\n",
    "    temp_df_4 = df_4[(df_4.number >= number) & (df_4.number <= number + 100) & \n",
    "                     (df_4.emotion != base_emotion_4) & (pd.notnull(df_4.emotion))]\n",
    "    temp_df_5 = df_5[(df_5.number >= number) & (df_5.number <= number + 100) & \n",
    "                     (df_5.emotion != base_emotion_5) & (pd.notnull(df_5.emotion))]\n",
    "    \n",
    "    emotion_sent = df_3.loc[number - 1, \"emotion_mapped\"]\n",
    "    sender_name = name_3\n",
    "    \n",
    "    if len(temp_df_1) != 0:\n",
    "        recieved = temp_df_1.iloc[:, 2].value_counts()\n",
    "        recieved_emotion = recieved[recieved == recieved.max()].index[0]\n",
    "        temp_dataset_1 = pd.DataFrame(data = {\"sender_name\": sender_name, \n",
    "                                              \"sender_id\": number, \n",
    "                                              \"emotion_sent\": emotion_sent,\n",
    "                                              \"reciever_name\": name_1, \n",
    "                                              \"emotion_recieved\": recieved_emotion}, index = [0])\n",
    "        with_exitment_3 = pd.concat([with_exitment_3, temp_dataset_1], ignore_index = True)\n",
    "\n",
    "    if len(temp_df_2) != 0:\n",
    "        recieved = temp_df_2.iloc[:, 2].value_counts()\n",
    "        recieved_emotion = recieved[recieved == recieved.max()].index[0]\n",
    "        temp_dataset_2 = pd.DataFrame(data = {\"sender_name\": sender_name, \n",
    "                                              \"sender_id\": number, \n",
    "                                              \"emotion_sent\": emotion_sent,\n",
    "                                              \"reciever_name\": name_2, \n",
    "                                              \"emotion_recieved\": recieved_emotion}, index = [0])\n",
    "        with_exitment_3 = pd.concat([with_exitment_3, temp_dataset_2], ignore_index = True)\n",
    "        \n",
    "    if len(temp_df_4) != 0:\n",
    "        recieved = temp_df_4.iloc[:, 2].value_counts()\n",
    "        recieved_emotion = recieved[recieved == recieved.max()].index[0]\n",
    "        temp_dataset_4 = pd.DataFrame(data = {\"sender_name\": sender_name, \n",
    "                                              \"sender_id\": number, \n",
    "                                              \"emotion_sent\": emotion_sent,\n",
    "                                              \"reciever_name\": name_4, \n",
    "                                              \"emotion_recieved\": recieved_emotion}, index = [0])\n",
    "        with_exitment_3 = pd.concat([with_exitment_3, temp_dataset_4], ignore_index = True)\n",
    "        \n",
    "    if len(temp_df_5) != 0:\n",
    "        recieved = temp_df_5.iloc[:, 2].value_counts()\n",
    "        recieved_emotion = recieved[recieved == recieved.max()].index[0]\n",
    "        temp_dataset_5 = pd.DataFrame(data = {\"sender_name\": sender_name, \n",
    "                                              \"sender_id\": number, \n",
    "                                              \"emotion_sent\": emotion_sent,\n",
    "                                              \"reciever_name\": name_5, \n",
    "                                              \"emotion_recieved\": recieved_emotion}, index = [0])\n",
    "        with_exitment_3 = pd.concat([with_exitment_3, temp_dataset_5], ignore_index = True)"
   ]
  },
  {
   "cell_type": "markdown",
   "metadata": {},
   "source": [
    "### 4 человек"
   ]
  },
  {
   "cell_type": "code",
   "execution_count": 27,
   "metadata": {},
   "outputs": [],
   "source": [
    "with_exitment_4 = pd.DataFrame(columns = [\"sender_name\", \"sender_id\", \"emotion_sent\", \"reciever_name\", \n",
    "                                          \"emotion_recieved\"])\n",
    "\n",
    "for number in deviations_4:\n",
    "    \n",
    "    temp_df_1 = df_1[(df_1.number >= number) & (df_1.number <= number + 100) & \n",
    "                     (df_1.emotion != base_emotion_1) & (pd.notnull(df_1.emotion))]\n",
    "    temp_df_2 = df_2[(df_2.number >= number) & (df_2.number <= number + 100) & \n",
    "                     (df_2.emotion != base_emotion_2) & (pd.notnull(df_2.emotion))]\n",
    "    temp_df_3 = df_3[(df_3.number >= number) & (df_3.number <= number + 100) & \n",
    "                     (df_3.emotion != base_emotion_3) & (pd.notnull(df_3.emotion))]\n",
    "    temp_df_5 = df_5[(df_5.number >= number) & (df_5.number <= number + 100) & \n",
    "                     (df_5.emotion != base_emotion_5) & (pd.notnull(df_5.emotion))]\n",
    "    \n",
    "    emotion_sent = df_4.loc[number - 1, \"emotion_mapped\"]\n",
    "    sender_name = name_4\n",
    "    \n",
    "    if len(temp_df_1) != 0:\n",
    "        recieved = temp_df_1.iloc[:, 2].value_counts()\n",
    "        recieved_emotion = recieved[recieved == recieved.max()].index[0]\n",
    "        temp_dataset_1 = pd.DataFrame(data = {\"sender_name\": sender_name, \n",
    "                                              \"sender_id\": number, \n",
    "                                              \"emotion_sent\": emotion_sent,\n",
    "                                              \"reciever_name\": name_1, \n",
    "                                              \"emotion_recieved\": recieved_emotion}, index = [0])\n",
    "        with_exitment_4 = pd.concat([with_exitment_4, temp_dataset_1], ignore_index = True)\n",
    "\n",
    "    if len(temp_df_2) != 0:\n",
    "        recieved = temp_df_2.iloc[:, 2].value_counts()\n",
    "        recieved_emotion = recieved[recieved == recieved.max()].index[0]\n",
    "        temp_dataset_2 = pd.DataFrame(data = {\"sender_name\": sender_name, \n",
    "                                              \"sender_id\": number, \n",
    "                                              \"emotion_sent\": emotion_sent,\n",
    "                                              \"reciever_name\": name_2, \n",
    "                                              \"emotion_recieved\": recieved_emotion}, index = [0])\n",
    "        with_exitment_4 = pd.concat([with_exitment_4, temp_dataset_2], ignore_index = True)\n",
    "        \n",
    "    if len(temp_df_3) != 0:\n",
    "        recieved = temp_df_3.iloc[:, 2].value_counts()\n",
    "        recieved_emotion = recieved[recieved == recieved.max()].index[0]\n",
    "        temp_dataset_3 = pd.DataFrame(data = {\"sender_name\": sender_name, \n",
    "                                              \"sender_id\": number, \n",
    "                                              \"emotion_sent\": emotion_sent,\n",
    "                                              \"reciever_name\": name_3, \n",
    "                                              \"emotion_recieved\": recieved_emotion}, index = [0])\n",
    "        with_exitment_4 = pd.concat([with_exitment_4, temp_dataset_3], ignore_index = True)\n",
    "        \n",
    "    if len(temp_df_5) != 0:\n",
    "        recieved = temp_df_5.iloc[:, 2].value_counts()\n",
    "        recieved_emotion = recieved[recieved == recieved.max()].index[0]\n",
    "        temp_dataset_5 = pd.DataFrame(data = {\"sender_name\": sender_name, \n",
    "                                              \"sender_id\": number, \n",
    "                                              \"emotion_sent\": emotion_sent,\n",
    "                                              \"reciever_name\": name_5, \n",
    "                                              \"emotion_recieved\": recieved_emotion}, index = [0])\n",
    "        with_exitment_4 = pd.concat([with_exitment_4, temp_dataset_5], ignore_index = True)"
   ]
  },
  {
   "cell_type": "markdown",
   "metadata": {},
   "source": [
    "### 5 человек"
   ]
  },
  {
   "cell_type": "code",
   "execution_count": 28,
   "metadata": {},
   "outputs": [],
   "source": [
    "with_exitment_5 = pd.DataFrame(columns = [\"sender_name\", \"sender_id\", \"emotion_sent\", \"reciever_name\", \n",
    "                                          \"emotion_recieved\"])\n",
    "\n",
    "for number in deviations_5:\n",
    "    \n",
    "    temp_df_1 = df_1[(df_1.number >= number) & (df_1.number <= number + 100) & \n",
    "                     (df_1.emotion != base_emotion_1) & (pd.notnull(df_1.emotion))]\n",
    "    temp_df_2 = df_2[(df_2.number >= number) & (df_2.number <= number + 100) & \n",
    "                     (df_2.emotion != base_emotion_2) & (pd.notnull(df_2.emotion))]\n",
    "    temp_df_3 = df_3[(df_3.number >= number) & (df_3.number <= number + 100) & \n",
    "                     (df_3.emotion != base_emotion_3) & (pd.notnull(df_3.emotion))]\n",
    "    temp_df_4 = df_4[(df_4.number >= number) & (df_4.number <= number + 100) & \n",
    "                     (df_4.emotion != base_emotion_4) & (pd.notnull(df_4.emotion))]\n",
    "    \n",
    "    emotion_sent = df_5.loc[number - 1, \"emotion_mapped\"]\n",
    "    sender_name = name_5\n",
    "    \n",
    "    if len(temp_df_1) != 0:\n",
    "        recieved = temp_df_1.iloc[:, 2].value_counts()\n",
    "        recieved_emotion = recieved[recieved == recieved.max()].index[0]\n",
    "        temp_dataset_1 = pd.DataFrame(data = {\"sender_name\": sender_name, \n",
    "                                              \"sender_id\": number, \n",
    "                                              \"emotion_sent\": emotion_sent,\n",
    "                                              \"reciever_name\": name_1, \n",
    "                                              \"emotion_recieved\": recieved_emotion}, index = [0])\n",
    "        with_exitment_5 = pd.concat([with_exitment_5, temp_dataset_1], ignore_index = True)\n",
    "\n",
    "    if len(temp_df_2) != 0:\n",
    "        recieved = temp_df_2.iloc[:, 2].value_counts()\n",
    "        recieved_emotion = recieved[recieved == recieved.max()].index[0]\n",
    "        temp_dataset_2 = pd.DataFrame(data = {\"sender_name\": sender_name,\n",
    "                                              \"sender_id\": number,\n",
    "                                              \"emotion_sent\": emotion_sent,\n",
    "                                              \"reciever_name\": name_2,\n",
    "                                              \"emotion_recieved\": recieved_emotion}, index = [0])\n",
    "        with_exitment_5 = pd.concat([with_exitment_5, temp_dataset_2], ignore_index = True)\n",
    "        \n",
    "    if len(temp_df_3) != 0:\n",
    "        recieved = temp_df_3.iloc[:, 2].value_counts()\n",
    "        recieved_emotion = recieved[recieved == recieved.max()].index[0]\n",
    "        temp_dataset_3 = pd.DataFrame(data = {\"sender_name\": sender_name,\n",
    "                                              \"sender_id\": number,\n",
    "                                              \"emotion_sent\": emotion_sent,\n",
    "                                              \"reciever_name\": name_3,\n",
    "                                              \"emotion_recieved\": recieved_emotion}, index = [0])\n",
    "        with_exitment_5 = pd.concat([with_exitment_5, temp_dataset_3], ignore_index = True)\n",
    "        \n",
    "    if len(temp_df_4) != 0:\n",
    "        recieved = temp_df_4.iloc[:, 2].value_counts()\n",
    "        recieved_emotion = recieved[recieved == recieved.max()].index[0]\n",
    "        temp_dataset_4 = pd.DataFrame(data = {\"sender_name\": sender_name,\n",
    "                                              \"sender_id\": number,\n",
    "                                              \"emotion_sent\": emotion_sent,\n",
    "                                              \"reciever_name\": name_4,\n",
    "                                              \"emotion_recieved\": recieved_emotion}, index = [0])\n",
    "        with_exitment_5 = pd.concat([with_exitment_5, temp_dataset_4], ignore_index = True)"
   ]
  },
  {
   "cell_type": "markdown",
   "metadata": {},
   "source": [
    "### Объединяем таблицы и сортируем"
   ]
  },
  {
   "cell_type": "code",
   "execution_count": 29,
   "metadata": {},
   "outputs": [
    {
     "data": {
      "text/html": [
       "<div>\n",
       "<style scoped>\n",
       "    .dataframe tbody tr th:only-of-type {\n",
       "        vertical-align: middle;\n",
       "    }\n",
       "\n",
       "    .dataframe tbody tr th {\n",
       "        vertical-align: top;\n",
       "    }\n",
       "\n",
       "    .dataframe thead th {\n",
       "        text-align: right;\n",
       "    }\n",
       "</style>\n",
       "<table border=\"1\" class=\"dataframe\">\n",
       "  <thead>\n",
       "    <tr style=\"text-align: right;\">\n",
       "      <th></th>\n",
       "      <th>emotion_recieved</th>\n",
       "      <th>emotion_sent</th>\n",
       "      <th>reciever_name</th>\n",
       "      <th>sender_id</th>\n",
       "      <th>sender_name</th>\n",
       "    </tr>\n",
       "  </thead>\n",
       "  <tbody>\n",
       "    <tr>\n",
       "      <th>0</th>\n",
       "      <td>positive</td>\n",
       "      <td>positive</td>\n",
       "      <td>katya_v</td>\n",
       "      <td>19</td>\n",
       "      <td>dasha_f</td>\n",
       "    </tr>\n",
       "    <tr>\n",
       "      <th>1</th>\n",
       "      <td>positive</td>\n",
       "      <td>positive</td>\n",
       "      <td>oleg_s</td>\n",
       "      <td>19</td>\n",
       "      <td>dasha_f</td>\n",
       "    </tr>\n",
       "    <tr>\n",
       "      <th>2</th>\n",
       "      <td>positive</td>\n",
       "      <td>positive</td>\n",
       "      <td>katya_v</td>\n",
       "      <td>22</td>\n",
       "      <td>dasha_f</td>\n",
       "    </tr>\n",
       "    <tr>\n",
       "      <th>3</th>\n",
       "      <td>positive</td>\n",
       "      <td>positive</td>\n",
       "      <td>oleg_s</td>\n",
       "      <td>22</td>\n",
       "      <td>dasha_f</td>\n",
       "    </tr>\n",
       "    <tr>\n",
       "      <th>4</th>\n",
       "      <td>positive</td>\n",
       "      <td>positive</td>\n",
       "      <td>katya_v</td>\n",
       "      <td>27</td>\n",
       "      <td>dasha_f</td>\n",
       "    </tr>\n",
       "    <tr>\n",
       "      <th>...</th>\n",
       "      <td>...</td>\n",
       "      <td>...</td>\n",
       "      <td>...</td>\n",
       "      <td>...</td>\n",
       "      <td>...</td>\n",
       "    </tr>\n",
       "    <tr>\n",
       "      <th>14607</th>\n",
       "      <td>positive</td>\n",
       "      <td>positive</td>\n",
       "      <td>julia_s</td>\n",
       "      <td>34346</td>\n",
       "      <td>oleg_s</td>\n",
       "    </tr>\n",
       "    <tr>\n",
       "      <th>14608</th>\n",
       "      <td>positive</td>\n",
       "      <td>positive</td>\n",
       "      <td>dasha_f</td>\n",
       "      <td>34505</td>\n",
       "      <td>oleg_s</td>\n",
       "    </tr>\n",
       "    <tr>\n",
       "      <th>14609</th>\n",
       "      <td>positive</td>\n",
       "      <td>positive</td>\n",
       "      <td>katya_v</td>\n",
       "      <td>34505</td>\n",
       "      <td>oleg_s</td>\n",
       "    </tr>\n",
       "    <tr>\n",
       "      <th>14610</th>\n",
       "      <td>positive</td>\n",
       "      <td>negative</td>\n",
       "      <td>julia_s</td>\n",
       "      <td>34695</td>\n",
       "      <td>oleg_s</td>\n",
       "    </tr>\n",
       "    <tr>\n",
       "      <th>14611</th>\n",
       "      <td>positive</td>\n",
       "      <td>negative</td>\n",
       "      <td>katya_v</td>\n",
       "      <td>34695</td>\n",
       "      <td>oleg_s</td>\n",
       "    </tr>\n",
       "  </tbody>\n",
       "</table>\n",
       "<p>14612 rows × 5 columns</p>\n",
       "</div>"
      ],
      "text/plain": [
       "      emotion_recieved emotion_sent reciever_name sender_id sender_name\n",
       "0             positive     positive       katya_v        19     dasha_f\n",
       "1             positive     positive        oleg_s        19     dasha_f\n",
       "2             positive     positive       katya_v        22     dasha_f\n",
       "3             positive     positive        oleg_s        22     dasha_f\n",
       "4             positive     positive       katya_v        27     dasha_f\n",
       "...                ...          ...           ...       ...         ...\n",
       "14607         positive     positive       julia_s     34346      oleg_s\n",
       "14608         positive     positive       dasha_f     34505      oleg_s\n",
       "14609         positive     positive       katya_v     34505      oleg_s\n",
       "14610         positive     negative       julia_s     34695      oleg_s\n",
       "14611         positive     negative       katya_v     34695      oleg_s\n",
       "\n",
       "[14612 rows x 5 columns]"
      ]
     },
     "execution_count": 29,
     "metadata": {},
     "output_type": "execute_result"
    }
   ],
   "source": [
    "union_table = pd.concat([with_exitment_1, with_exitment_2, with_exitment_3, with_exitment_4, with_exitment_5], \n",
    "          sort = True, ignore_index = True)\n",
    "union_table"
   ]
  },
  {
   "cell_type": "markdown",
   "metadata": {},
   "source": [
    "#### Получил и отправил одинаковые эмоции"
   ]
  },
  {
   "cell_type": "code",
   "execution_count": 30,
   "metadata": {},
   "outputs": [
    {
     "data": {
      "text/html": [
       "<div>\n",
       "<style scoped>\n",
       "    .dataframe tbody tr th:only-of-type {\n",
       "        vertical-align: middle;\n",
       "    }\n",
       "\n",
       "    .dataframe tbody tr th {\n",
       "        vertical-align: top;\n",
       "    }\n",
       "\n",
       "    .dataframe thead th {\n",
       "        text-align: right;\n",
       "    }\n",
       "</style>\n",
       "<table border=\"1\" class=\"dataframe\">\n",
       "  <thead>\n",
       "    <tr style=\"text-align: right;\">\n",
       "      <th></th>\n",
       "      <th>emotion_recieved</th>\n",
       "      <th>emotion_sent</th>\n",
       "      <th>reciever_name</th>\n",
       "      <th>sender_id</th>\n",
       "      <th>sender_name</th>\n",
       "    </tr>\n",
       "  </thead>\n",
       "  <tbody>\n",
       "    <tr>\n",
       "      <th>0</th>\n",
       "      <td>positive</td>\n",
       "      <td>positive</td>\n",
       "      <td>katya_v</td>\n",
       "      <td>19</td>\n",
       "      <td>dasha_f</td>\n",
       "    </tr>\n",
       "    <tr>\n",
       "      <th>1</th>\n",
       "      <td>positive</td>\n",
       "      <td>positive</td>\n",
       "      <td>oleg_s</td>\n",
       "      <td>19</td>\n",
       "      <td>dasha_f</td>\n",
       "    </tr>\n",
       "    <tr>\n",
       "      <th>2</th>\n",
       "      <td>positive</td>\n",
       "      <td>positive</td>\n",
       "      <td>katya_v</td>\n",
       "      <td>22</td>\n",
       "      <td>dasha_f</td>\n",
       "    </tr>\n",
       "    <tr>\n",
       "      <th>3</th>\n",
       "      <td>positive</td>\n",
       "      <td>positive</td>\n",
       "      <td>oleg_s</td>\n",
       "      <td>22</td>\n",
       "      <td>dasha_f</td>\n",
       "    </tr>\n",
       "    <tr>\n",
       "      <th>4</th>\n",
       "      <td>positive</td>\n",
       "      <td>positive</td>\n",
       "      <td>katya_v</td>\n",
       "      <td>27</td>\n",
       "      <td>dasha_f</td>\n",
       "    </tr>\n",
       "    <tr>\n",
       "      <th>...</th>\n",
       "      <td>...</td>\n",
       "      <td>...</td>\n",
       "      <td>...</td>\n",
       "      <td>...</td>\n",
       "      <td>...</td>\n",
       "    </tr>\n",
       "    <tr>\n",
       "      <th>14605</th>\n",
       "      <td>positive</td>\n",
       "      <td>positive</td>\n",
       "      <td>julia_s</td>\n",
       "      <td>34339</td>\n",
       "      <td>oleg_s</td>\n",
       "    </tr>\n",
       "    <tr>\n",
       "      <th>14606</th>\n",
       "      <td>positive</td>\n",
       "      <td>positive</td>\n",
       "      <td>julia_s</td>\n",
       "      <td>34345</td>\n",
       "      <td>oleg_s</td>\n",
       "    </tr>\n",
       "    <tr>\n",
       "      <th>14607</th>\n",
       "      <td>positive</td>\n",
       "      <td>positive</td>\n",
       "      <td>julia_s</td>\n",
       "      <td>34346</td>\n",
       "      <td>oleg_s</td>\n",
       "    </tr>\n",
       "    <tr>\n",
       "      <th>14608</th>\n",
       "      <td>positive</td>\n",
       "      <td>positive</td>\n",
       "      <td>dasha_f</td>\n",
       "      <td>34505</td>\n",
       "      <td>oleg_s</td>\n",
       "    </tr>\n",
       "    <tr>\n",
       "      <th>14609</th>\n",
       "      <td>positive</td>\n",
       "      <td>positive</td>\n",
       "      <td>katya_v</td>\n",
       "      <td>34505</td>\n",
       "      <td>oleg_s</td>\n",
       "    </tr>\n",
       "  </tbody>\n",
       "</table>\n",
       "<p>11388 rows × 5 columns</p>\n",
       "</div>"
      ],
      "text/plain": [
       "      emotion_recieved emotion_sent reciever_name sender_id sender_name\n",
       "0             positive     positive       katya_v        19     dasha_f\n",
       "1             positive     positive        oleg_s        19     dasha_f\n",
       "2             positive     positive       katya_v        22     dasha_f\n",
       "3             positive     positive        oleg_s        22     dasha_f\n",
       "4             positive     positive       katya_v        27     dasha_f\n",
       "...                ...          ...           ...       ...         ...\n",
       "14605         positive     positive       julia_s     34339      oleg_s\n",
       "14606         positive     positive       julia_s     34345      oleg_s\n",
       "14607         positive     positive       julia_s     34346      oleg_s\n",
       "14608         positive     positive       dasha_f     34505      oleg_s\n",
       "14609         positive     positive       katya_v     34505      oleg_s\n",
       "\n",
       "[11388 rows x 5 columns]"
      ]
     },
     "execution_count": 30,
     "metadata": {},
     "output_type": "execute_result"
    }
   ],
   "source": [
    "union_similar = union_table[union_table.emotion_recieved == union_table.emotion_sent]\n",
    "union_similar"
   ]
  },
  {
   "cell_type": "markdown",
   "metadata": {},
   "source": [
    "#### Человек, который больше всего заражал эмоциями"
   ]
  },
  {
   "cell_type": "code",
   "execution_count": 31,
   "metadata": {},
   "outputs": [
    {
     "data": {
      "text/plain": [
       "sender_name\n",
       "dasha_f     6201\n",
       "katya_v     2303\n",
       "oleg_s      1412\n",
       "julia_s      874\n",
       "nastya_k     598\n",
       "Name: sender_id, dtype: int64"
      ]
     },
     "execution_count": 31,
     "metadata": {},
     "output_type": "execute_result"
    }
   ],
   "source": [
    "max_emotion_sent = union_similar.groupby([\"sender_name\"]).count()[\"sender_id\"]\n",
    "max_emotion_sent.sort_values(ascending = False)"
   ]
  },
  {
   "cell_type": "code",
   "execution_count": 44,
   "metadata": {},
   "outputs": [
    {
     "data": {
      "text/plain": [
       "sender_name\n",
       "dasha_f     54.0\n",
       "julia_s      8.0\n",
       "katya_v     20.0\n",
       "nastya_k     5.0\n",
       "oleg_s      12.0\n",
       "Name: sender_id, dtype: float64"
      ]
     },
     "execution_count": 44,
     "metadata": {},
     "output_type": "execute_result"
    }
   ],
   "source": [
    "round(max_emotion_sent / len(union_similar) * 100)"
   ]
  },
  {
   "cell_type": "markdown",
   "metadata": {},
   "source": [
    "#### Человек, который больше всего принимал эмоции других"
   ]
  },
  {
   "cell_type": "code",
   "execution_count": 32,
   "metadata": {},
   "outputs": [
    {
     "data": {
      "text/plain": [
       "reciever_name\n",
       "katya_v     3334\n",
       "oleg_s      2935\n",
       "dasha_f     2107\n",
       "nastya_k    1998\n",
       "julia_s     1014\n",
       "Name: sender_id, dtype: int64"
      ]
     },
     "execution_count": 32,
     "metadata": {},
     "output_type": "execute_result"
    }
   ],
   "source": [
    "max_emotion_recieved = union_similar.groupby([\"reciever_name\"]).count()[\"sender_id\"]\n",
    "max_emotion_recieved.sort_values(ascending = False)"
   ]
  },
  {
   "cell_type": "markdown",
   "metadata": {},
   "source": [
    "### Устойчивые пары"
   ]
  },
  {
   "cell_type": "code",
   "execution_count": 33,
   "metadata": {},
   "outputs": [
    {
     "data": {
      "text/html": [
       "<div>\n",
       "<style scoped>\n",
       "    .dataframe tbody tr th:only-of-type {\n",
       "        vertical-align: middle;\n",
       "    }\n",
       "\n",
       "    .dataframe tbody tr th {\n",
       "        vertical-align: top;\n",
       "    }\n",
       "\n",
       "    .dataframe thead th {\n",
       "        text-align: right;\n",
       "    }\n",
       "</style>\n",
       "<table border=\"1\" class=\"dataframe\">\n",
       "  <thead>\n",
       "    <tr style=\"text-align: right;\">\n",
       "      <th></th>\n",
       "      <th>emotion_recieved</th>\n",
       "      <th>emotion_sent</th>\n",
       "      <th>reciever_name</th>\n",
       "      <th>sender_id</th>\n",
       "      <th>sender_name</th>\n",
       "    </tr>\n",
       "  </thead>\n",
       "  <tbody>\n",
       "    <tr>\n",
       "      <th>0</th>\n",
       "      <td>positive</td>\n",
       "      <td>positive</td>\n",
       "      <td>katya_v</td>\n",
       "      <td>19</td>\n",
       "      <td>dasha_f</td>\n",
       "    </tr>\n",
       "    <tr>\n",
       "      <th>1</th>\n",
       "      <td>positive</td>\n",
       "      <td>positive</td>\n",
       "      <td>oleg_s</td>\n",
       "      <td>19</td>\n",
       "      <td>dasha_f</td>\n",
       "    </tr>\n",
       "    <tr>\n",
       "      <th>2</th>\n",
       "      <td>positive</td>\n",
       "      <td>positive</td>\n",
       "      <td>katya_v</td>\n",
       "      <td>22</td>\n",
       "      <td>dasha_f</td>\n",
       "    </tr>\n",
       "    <tr>\n",
       "      <th>3</th>\n",
       "      <td>positive</td>\n",
       "      <td>positive</td>\n",
       "      <td>oleg_s</td>\n",
       "      <td>22</td>\n",
       "      <td>dasha_f</td>\n",
       "    </tr>\n",
       "    <tr>\n",
       "      <th>4</th>\n",
       "      <td>positive</td>\n",
       "      <td>positive</td>\n",
       "      <td>katya_v</td>\n",
       "      <td>27</td>\n",
       "      <td>dasha_f</td>\n",
       "    </tr>\n",
       "    <tr>\n",
       "      <th>...</th>\n",
       "      <td>...</td>\n",
       "      <td>...</td>\n",
       "      <td>...</td>\n",
       "      <td>...</td>\n",
       "      <td>...</td>\n",
       "    </tr>\n",
       "    <tr>\n",
       "      <th>14605</th>\n",
       "      <td>positive</td>\n",
       "      <td>positive</td>\n",
       "      <td>julia_s</td>\n",
       "      <td>34339</td>\n",
       "      <td>oleg_s</td>\n",
       "    </tr>\n",
       "    <tr>\n",
       "      <th>14606</th>\n",
       "      <td>positive</td>\n",
       "      <td>positive</td>\n",
       "      <td>julia_s</td>\n",
       "      <td>34345</td>\n",
       "      <td>oleg_s</td>\n",
       "    </tr>\n",
       "    <tr>\n",
       "      <th>14607</th>\n",
       "      <td>positive</td>\n",
       "      <td>positive</td>\n",
       "      <td>julia_s</td>\n",
       "      <td>34346</td>\n",
       "      <td>oleg_s</td>\n",
       "    </tr>\n",
       "    <tr>\n",
       "      <th>14608</th>\n",
       "      <td>positive</td>\n",
       "      <td>positive</td>\n",
       "      <td>dasha_f</td>\n",
       "      <td>34505</td>\n",
       "      <td>oleg_s</td>\n",
       "    </tr>\n",
       "    <tr>\n",
       "      <th>14609</th>\n",
       "      <td>positive</td>\n",
       "      <td>positive</td>\n",
       "      <td>katya_v</td>\n",
       "      <td>34505</td>\n",
       "      <td>oleg_s</td>\n",
       "    </tr>\n",
       "  </tbody>\n",
       "</table>\n",
       "<p>11388 rows × 5 columns</p>\n",
       "</div>"
      ],
      "text/plain": [
       "      emotion_recieved emotion_sent reciever_name sender_id sender_name\n",
       "0             positive     positive       katya_v        19     dasha_f\n",
       "1             positive     positive        oleg_s        19     dasha_f\n",
       "2             positive     positive       katya_v        22     dasha_f\n",
       "3             positive     positive        oleg_s        22     dasha_f\n",
       "4             positive     positive       katya_v        27     dasha_f\n",
       "...                ...          ...           ...       ...         ...\n",
       "14605         positive     positive       julia_s     34339      oleg_s\n",
       "14606         positive     positive       julia_s     34345      oleg_s\n",
       "14607         positive     positive       julia_s     34346      oleg_s\n",
       "14608         positive     positive       dasha_f     34505      oleg_s\n",
       "14609         positive     positive       katya_v     34505      oleg_s\n",
       "\n",
       "[11388 rows x 5 columns]"
      ]
     },
     "execution_count": 33,
     "metadata": {},
     "output_type": "execute_result"
    }
   ],
   "source": [
    "union_similar"
   ]
  },
  {
   "cell_type": "code",
   "execution_count": 34,
   "metadata": {},
   "outputs": [
    {
     "data": {
      "text/plain": [
       "sender_name  reciever_name  emotion_sent\n",
       "dasha_f      julia_s        positive         567\n",
       "             katya_v        negative          24\n",
       "                            positive        2440\n",
       "             nastya_k       negative          69\n",
       "                            positive        1229\n",
       "             oleg_s         negative          21\n",
       "                            positive        1851\n",
       "julia_s      dasha_f        positive         300\n",
       "             katya_v        positive         237\n",
       "             nastya_k       positive         136\n",
       "             oleg_s         positive         201\n",
       "katya_v      dasha_f        negative           2\n",
       "                            positive        1014\n",
       "             julia_s        positive         219\n",
       "             nastya_k       positive         364\n",
       "             oleg_s         positive         704\n",
       "nastya_k     dasha_f        negative           6\n",
       "                            positive         209\n",
       "             julia_s        positive          63\n",
       "             katya_v        positive         162\n",
       "             oleg_s         negative          15\n",
       "                            positive         143\n",
       "oleg_s       dasha_f        negative           2\n",
       "                            positive         574\n",
       "             julia_s        positive         165\n",
       "             katya_v        negative           1\n",
       "                            positive         470\n",
       "             nastya_k       positive         200\n",
       "Name: emotion_recieved, dtype: int64"
      ]
     },
     "execution_count": 34,
     "metadata": {},
     "output_type": "execute_result"
    }
   ],
   "source": [
    "union_similar.groupby([\"sender_name\", \"reciever_name\", \"emotion_sent\"]).count()[\"emotion_recieved\"]"
   ]
  },
  {
   "cell_type": "markdown",
   "metadata": {},
   "source": [
    "### Гистограммы"
   ]
  },
  {
   "cell_type": "code",
   "execution_count": 35,
   "metadata": {},
   "outputs": [],
   "source": [
    "import matplotlib.pyplot as plt"
   ]
  },
  {
   "cell_type": "markdown",
   "metadata": {},
   "source": [
    "#### Только позитивные и только негативные эмоции"
   ]
  },
  {
   "cell_type": "code",
   "execution_count": 36,
   "metadata": {},
   "outputs": [],
   "source": [
    "all_positive = union_similar[union_similar.emotion_sent == \"positive\"]\n",
    "all_negative = union_similar[union_similar.emotion_sent == \"negative\"]"
   ]
  },
  {
   "cell_type": "code",
   "execution_count": 63,
   "metadata": {},
   "outputs": [
    {
     "data": {
      "text/html": [
       "<div>\n",
       "<style scoped>\n",
       "    .dataframe tbody tr th:only-of-type {\n",
       "        vertical-align: middle;\n",
       "    }\n",
       "\n",
       "    .dataframe tbody tr th {\n",
       "        vertical-align: top;\n",
       "    }\n",
       "\n",
       "    .dataframe thead th {\n",
       "        text-align: right;\n",
       "    }\n",
       "</style>\n",
       "<table border=\"1\" class=\"dataframe\">\n",
       "  <thead>\n",
       "    <tr style=\"text-align: right;\">\n",
       "      <th></th>\n",
       "      <th>number</th>\n",
       "      <th>emotion</th>\n",
       "      <th>emotion_mapped</th>\n",
       "    </tr>\n",
       "  </thead>\n",
       "  <tbody>\n",
       "    <tr>\n",
       "      <th>0</th>\n",
       "      <td>1</td>\n",
       "      <td>NaN</td>\n",
       "      <td>NaN</td>\n",
       "    </tr>\n",
       "    <tr>\n",
       "      <th>1</th>\n",
       "      <td>2</td>\n",
       "      <td>NaN</td>\n",
       "      <td>NaN</td>\n",
       "    </tr>\n",
       "    <tr>\n",
       "      <th>2</th>\n",
       "      <td>3</td>\n",
       "      <td>NaN</td>\n",
       "      <td>NaN</td>\n",
       "    </tr>\n",
       "    <tr>\n",
       "      <th>3</th>\n",
       "      <td>4</td>\n",
       "      <td>NaN</td>\n",
       "      <td>NaN</td>\n",
       "    </tr>\n",
       "    <tr>\n",
       "      <th>4</th>\n",
       "      <td>5</td>\n",
       "      <td>NaN</td>\n",
       "      <td>NaN</td>\n",
       "    </tr>\n",
       "    <tr>\n",
       "      <th>...</th>\n",
       "      <td>...</td>\n",
       "      <td>...</td>\n",
       "      <td>...</td>\n",
       "    </tr>\n",
       "    <tr>\n",
       "      <th>34700</th>\n",
       "      <td>34701</td>\n",
       "      <td>happy</td>\n",
       "      <td>base</td>\n",
       "    </tr>\n",
       "    <tr>\n",
       "      <th>34701</th>\n",
       "      <td>34702</td>\n",
       "      <td>happy</td>\n",
       "      <td>base</td>\n",
       "    </tr>\n",
       "    <tr>\n",
       "      <th>34702</th>\n",
       "      <td>34703</td>\n",
       "      <td>happy</td>\n",
       "      <td>base</td>\n",
       "    </tr>\n",
       "    <tr>\n",
       "      <th>34703</th>\n",
       "      <td>34704</td>\n",
       "      <td>happy</td>\n",
       "      <td>base</td>\n",
       "    </tr>\n",
       "    <tr>\n",
       "      <th>34704</th>\n",
       "      <td>34705</td>\n",
       "      <td>happy</td>\n",
       "      <td>base</td>\n",
       "    </tr>\n",
       "  </tbody>\n",
       "</table>\n",
       "<p>34705 rows × 3 columns</p>\n",
       "</div>"
      ],
      "text/plain": [
       "       number emotion emotion_mapped\n",
       "0           1     NaN            NaN\n",
       "1           2     NaN            NaN\n",
       "2           3     NaN            NaN\n",
       "3           4     NaN            NaN\n",
       "4           5     NaN            NaN\n",
       "...       ...     ...            ...\n",
       "34700   34701   happy           base\n",
       "34701   34702   happy           base\n",
       "34702   34703   happy           base\n",
       "34703   34704   happy           base\n",
       "34704   34705   happy           base\n",
       "\n",
       "[34705 rows x 3 columns]"
      ]
     },
     "execution_count": 63,
     "metadata": {},
     "output_type": "execute_result"
    }
   ],
   "source": []
  },
  {
   "cell_type": "code",
   "execution_count": 67,
   "metadata": {},
   "outputs": [
    {
     "name": "stdout",
     "output_type": "stream",
     "text": [
      "0.0863059841782593\n",
      "0.09085009733939\n"
     ]
    }
   ],
   "source": [
    "positive_emotions = [\"neutral\", \"surprise\", \"happy\"]\n",
    "negative_emotions = [\"fear\", \"sad\", \"angry\"]\n",
    "\n",
    "positive_count = len(df_1[df_1.emotion.isin(positive_emotions)]) + len(df_2[df_2.emotion.isin(positive_emotions)]) + len(df_3[df_3.emotion.isin(positive_emotions)]) + len(df_4[df_4.emotion.isin(positive_emotions)]) + len(df_5[df_5.emotion.isin(positive_emotions)])\n",
    "negative_count = len(df_1[df_1.emotion.isin(negative_emotions)]) + len(df_2[df_2.emotion.isin(negative_emotions)]) + len(df_3[df_3.emotion.isin(negative_emotions)]) + len(df_4[df_4.emotion.isin(negative_emotions)]) + len(df_5[df_5.emotion.isin(negative_emotions)])\n",
    "print(len(all_positive) / positive_count)\n",
    "print(len(all_negative) / negative_count)\n"
   ]
  },
  {
   "cell_type": "markdown",
   "metadata": {},
   "source": [
    "#### Стадии"
   ]
  },
  {
   "cell_type": "code",
   "execution_count": 37,
   "metadata": {},
   "outputs": [],
   "source": [
    "stage_1 = 25440\n",
    "stage_2 = 26880\n",
    "stage_3 = 35400\n",
    "stage_4 = 39474"
   ]
  },
  {
   "cell_type": "markdown",
   "metadata": {},
   "source": [
    "#### Для негативных эмоций"
   ]
  },
  {
   "cell_type": "code",
   "execution_count": 38,
   "metadata": {},
   "outputs": [
    {
     "data": {
      "image/png": "[encoded data removed]",
      "text/plain": [
       "<Figure size 1440x1584 with 20 Axes>"
      ]
     },
     "metadata": {
      "needs_background": "light"
     },
     "output_type": "display_data"
    }
   ],
   "source": [
    "figsize = (20, 22)\n",
    "fig, axes = plt.subplots(nrows = 5, ncols = 4, figsize = figsize)\n",
    "\n",
    "# максимальное количество строк в датасетах\n",
    "count_elements = max([len(df_1), len(df_2), len(df_3), len(df_4), len(df_5)])\n",
    "# индекс отправителей\n",
    "sender_index = {name_1: 0, name_2: 1, name_3: 2, name_4: 3, name_5: 4}\n",
    "# отправители\n",
    "senders = [name_1, name_2, name_3, name_4, name_5]"
   ]
  },
  {
   "cell_type": "code",
   "execution_count": 39,
   "metadata": {},
   "outputs": [
    {
     "data": {
      "image/png": "[encoded data removed]",
      "text/plain": [
       "<Figure size 1440x1584 with 20 Axes>"
      ]
     },
     "execution_count": 39,
     "metadata": {},
     "output_type": "execute_result"
    }
   ],
   "source": [
    "for sender_name in senders:\n",
    "    sender = sender_name\n",
    "    recievers = [name_1, name_2, name_3, name_4, name_5]\n",
    "    recievers.remove(sender)\n",
    "\n",
    "    for reciever in recievers:\n",
    "        if reciever != sender:\n",
    "            negative = all_negative[(all_negative.sender_name == sender) & (all_negative.reciever_name == reciever)][\"sender_id\"]\n",
    "            negative_grid = pd.Series([0 for x in range(1, count_elements + 1)])\n",
    "\n",
    "            for i in negative_grid.index:\n",
    "                if i in negative.values:\n",
    "                    negative_grid[i] = 1\n",
    "\n",
    "            negative_grid = negative_grid[1:]\n",
    "\n",
    "            # нужно исправить логику деления на стадии\n",
    "            hist_negative = pd.DataFrame(negative_grid, columns = [\"contageon\"])\n",
    "            hist_negative[\"stage\"] = 1\n",
    "            hist_negative.loc[0: stage_1, \"stage\"] = 1\n",
    "            hist_negative.loc[stage_1 + 1:stage_2, \"stage\"] = 2\n",
    "            hist_negative.loc[stage_2 + 1:stage_3, \"stage\"] = 3\n",
    "            hist_negative.loc[stage_3 + 1:stage_4, \"stage\"] = 4\n",
    "\n",
    "            # Делим на части\n",
    "            parts_number = 10\n",
    "            part_name = 1\n",
    "            count_rows = 0\n",
    "            multiplier = 1\n",
    "            partition = round(len(hist_negative) / parts_number)\n",
    "\n",
    "            hist_negative[\"part\"] = 1\n",
    "\n",
    "            while count_rows <= len(hist_negative):\n",
    "                hist_negative.loc[count_rows:partition * multiplier, \"part\"] = part_name\n",
    "                count_rows += partition\n",
    "                multiplier += 1\n",
    "                part_name += 1\n",
    "\n",
    "            hist_data = hist_negative.groupby([\"part\", \"stage\"]).sum()\n",
    "            hist_data.plot(ax = axes[sender_index[sender], recievers.index(reciever)], kind = \"bar\", \n",
    "                           color = \"blue\", sharex = True, sharey = True, title = reciever, grid = True, legend = False)\n",
    "            axes[sender_index[sender], recievers.index(reciever)].set_ylabel(sender)\n",
    "fig"
   ]
  },
  {
   "cell_type": "markdown",
   "metadata": {},
   "source": [
    "#### Для позитивных эмоций"
   ]
  },
  {
   "cell_type": "code",
   "execution_count": 40,
   "metadata": {},
   "outputs": [
    {
     "data": {
      "image/png": "[encoded data removed]",
      "text/plain": [
       "<Figure size 1440x1584 with 20 Axes>"
      ]
     },
     "metadata": {
      "needs_background": "light"
     },
     "output_type": "display_data"
    }
   ],
   "source": [
    "figsize = (20, 22)\n",
    "fig, axes = plt.subplots(nrows = 5, ncols = 4, figsize = figsize)\n",
    "\n",
    "# максимальное количество строк в датасетах\n",
    "count_elements = max([len(df_1), len(df_2), len(df_3), len(df_4), len(df_5)])\n",
    "# индекс отправителей\n",
    "sender_index = {name_1: 0, name_2: 1, name_3: 2, name_4: 3, name_5: 4}\n",
    "# отправители\n",
    "senders = [name_1, name_2, name_3, name_4, name_5]"
   ]
  },
  {
   "cell_type": "code",
   "execution_count": 41,
   "metadata": {},
   "outputs": [
    {
     "data": {
      "image/png": "[encoded data removed]",
      "text/plain": [
       "<Figure size 1440x1584 with 20 Axes>"
      ]
     },
     "execution_count": 41,
     "metadata": {},
     "output_type": "execute_result"
    }
   ],
   "source": [
    "for sender_name in senders:\n",
    "    sender = sender_name\n",
    "    recievers = [name_1, name_2, name_3, name_4, name_5]\n",
    "    recievers.remove(sender)\n",
    "\n",
    "    for reciever in recievers:\n",
    "        if reciever != sender:\n",
    "            negative = all_positive[(all_positive.sender_name == sender) & (all_positive.reciever_name == reciever)][\"sender_id\"]\n",
    "            negative_grid = pd.Series([0 for x in range(1, count_elements + 1)])\n",
    "\n",
    "            for i in negative_grid.index:\n",
    "                if i in negative.values:\n",
    "                    negative_grid[i ] = 1\n",
    "\n",
    "            negative_grid = negative_grid[1:]\n",
    "\n",
    "            # нужно исправить логику деления на стадии\n",
    "            hist_negative = pd.DataFrame(negative_grid, columns = [\"contageon\"])\n",
    "            hist_negative[\"stage\"] = 1\n",
    "            hist_negative.loc[0: stage_1, \"stage\"] = 1\n",
    "            hist_negative.loc[stage_1 + 1:stage_2, \"stage\"] = 2\n",
    "            hist_negative.loc[stage_2 + 1:stage_3, \"stage\"] = 3\n",
    "            hist_negative.loc[stage_3 + 1:stage_4, \"stage\"] = 4\n",
    "\n",
    "            # Делим на части\n",
    "            parts_number = 10\n",
    "            part_name = 1\n",
    "            count_rows = 0\n",
    "            multiplier = 1\n",
    "            partition = round(len(hist_negative) / parts_number)\n",
    "\n",
    "            hist_negative[\"part\"] = 1\n",
    "\n",
    "            while count_rows <= len(hist_negative):\n",
    "                hist_negative.loc[count_rows:partition * multiplier, \"part\"] = part_name\n",
    "                count_rows += partition\n",
    "                multiplier += 1\n",
    "                part_name += 1\n",
    "\n",
    "            hist_data = hist_negative.groupby([\"part\", \"stage\"]).sum()\n",
    "            hist_data.plot(ax = axes[sender_index[sender], recievers.index(reciever)], kind = \"bar\", \n",
    "                           color = \"blue\", sharex = True, sharey = True, title = reciever, grid = True, legend = False)\n",
    "            axes[sender_index[sender], recievers.index(reciever)].set_ylabel(sender)\n",
    "fig"
   ]
  },
  {
   "cell_type": "markdown",
   "metadata": {},
   "source": [
    "#### Общая гистограмма"
   ]
  },
  {
   "cell_type": "code",
   "execution_count": 42,
   "metadata": {},
   "outputs": [
    {
     "data": {
      "text/plain": [
       "Text(0.5, 0, 'Стадии обсуждения')"
      ]
     },
     "execution_count": 42,
     "metadata": {},
     "output_type": "execute_result"
    },
    {
     "data": {
      "image/png": "[encoded data removed]",
      "text/plain": [
       "<Figure size 432x288 with 1 Axes>"
      ]
     },
     "metadata": {
      "needs_background": "light"
     },
     "output_type": "display_data"
    }
   ],
   "source": [
    "# Сначала нужно разделить на фазы общий датасет\n",
    "\n",
    "hist_union = union_similar.copy()\n",
    "\n",
    "hist_union[\"stage\"] = 1\n",
    "hist_union.loc[(hist_union[\"sender_id\"].astype(int) > stage_1) & (hist_union[\"sender_id\"].astype(int) <= stage_2), \"stage\"] = 2\n",
    "hist_union.loc[(hist_union[\"sender_id\"].astype(int) > stage_2) & (hist_union[\"sender_id\"].astype(int) <= stage_3), \"stage\"] = 3\n",
    "hist_union.loc[(hist_union[\"sender_id\"].astype(int) > stage_3), \"stage\"] = 4\n",
    "\n",
    "hist_union_grouped = hist_union.groupby([\"stage\", \"emotion_sent\"]).count()\n",
    "hist_union_grouped_plot = hist_union_grouped[\"emotion_recieved\"].plot(kind = \"bar\")\n",
    "hist_union_grouped_plot.set_ylabel(\"Количество заражений\")\n",
    "hist_union_grouped_plot.set_xlabel(\"Стадии обсуждения\")\n"
   ]
  },
  {
   "cell_type": "markdown",
   "metadata": {},
   "source": [
    "#### Сколько в среднем происходит заражений по фазам и эмоциям"
   ]
  },
  {
   "cell_type": "code",
   "execution_count": 46,
   "metadata": {},
   "outputs": [
    {
     "data": {
      "text/plain": [
       "sender_name  emotion_sent\n",
       "dasha_f      negative        1.106796\n",
       "             positive        1.815389\n",
       "julia_s      positive        2.223919\n",
       "katya_v      negative        1.000000\n",
       "             positive        1.752475\n",
       "nastya_k     negative        1.000000\n",
       "             positive        1.923333\n",
       "oleg_s       negative        1.000000\n",
       "             positive        1.709951\n",
       "Name: count, dtype: float64"
      ]
     },
     "execution_count": 46,
     "metadata": {},
     "output_type": "execute_result"
    }
   ],
   "source": [
    "hist_union[\"count\"] = 1\n",
    "hist_union_grouped = hist_union.groupby([\"sender_id\", \"sender_name\", \"emotion_sent\"]).sum().reset_index()\n",
    "\n",
    "hist_union_grouped.groupby([\"sender_name\", \"emotion_sent\"]).mean().astype(float)[\"count\"]\n",
    "#hist_union_grouped = hist_union.groupby([\"stage\", \"sender_name\", \"emotion_sent\"]).agg({\"count\": mean})"
   ]
  },
  {
   "cell_type": "code",
   "execution_count": null,
   "metadata": {},
   "outputs": [],
   "source": []
  }
 ],
 "metadata": {
  "kernelspec": {
   "display_name": "Python 3",
   "language": "python",
   "name": "python3"
  },
  "language_info": {
   "codemirror_mode": {
    "name": "ipython",
    "version": 3
   },
   "file_extension": ".py",
   "mimetype": "text/x-python",
   "name": "python",
   "nbconvert_exporter": "python",
   "pygments_lexer": "ipython3",
   "version": "3.7.6"
  }
 },
 "nbformat": 4,
 "nbformat_minor": 4
}
