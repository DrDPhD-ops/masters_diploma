{
 "cells": [
  {
   "cell_type": "code",
   "execution_count": 1,
   "metadata": {},
   "outputs": [],
   "source": [
    "import pandas as pd\n",
    "import numpy as np"
   ]
  },
  {
   "cell_type": "markdown",
   "metadata": {},
   "source": [
    "### Файлы для обработки"
   ]
  },
  {
   "cell_type": "code",
   "execution_count": 2,
   "metadata": {},
   "outputs": [
    {
     "data": {
      "text/plain": [
       "['dima.csv',\n",
       " 'dima_k_1.csv',\n",
       " 'dima_k_2.csv',\n",
       " 'dima_k_3.csv',\n",
       " 'ilya.csv',\n",
       " 'polina.csv',\n",
       " 'zhenya.csv']"
      ]
     },
     "execution_count": 2,
     "metadata": {},
     "output_type": "execute_result"
    }
   ],
   "source": [
    "from os import listdir\n",
    "from os.path import isfile, join\n",
    "\n",
    "\n",
    "data_catalog = \"..//..//Realtime-Emotion-Detection-master//video_emotions_recognized//4_group//\"\n",
    "data_files = [f for f in listdir(data_catalog) if isfile(join(data_catalog, f))]\n",
    "data_files = sorted(data_files)\n",
    "data_files"
   ]
  },
  {
   "cell_type": "markdown",
   "metadata": {},
   "source": [
    "### Имена участников"
   ]
  },
  {
   "cell_type": "code",
   "execution_count": 3,
   "metadata": {},
   "outputs": [],
   "source": [
    "name_1 = \"dima\"\n",
    "name_2 = \"dima_k\"\n",
    "name_3 = \"ilya\"\n",
    "name_4 = \"polina\"\n",
    "name_5 = \"zhenya\""
   ]
  },
  {
   "cell_type": "markdown",
   "metadata": {},
   "source": [
    "### 1 датасет"
   ]
  },
  {
   "cell_type": "code",
   "execution_count": 4,
   "metadata": {},
   "outputs": [
    {
     "data": {
      "text/html": [
       "<div>\n",
       "<style scoped>\n",
       "    .dataframe tbody tr th:only-of-type {\n",
       "        vertical-align: middle;\n",
       "    }\n",
       "\n",
       "    .dataframe tbody tr th {\n",
       "        vertical-align: top;\n",
       "    }\n",
       "\n",
       "    .dataframe thead th {\n",
       "        text-align: right;\n",
       "    }\n",
       "</style>\n",
       "<table border=\"1\" class=\"dataframe\">\n",
       "  <thead>\n",
       "    <tr style=\"text-align: right;\">\n",
       "      <th></th>\n",
       "      <th>number</th>\n",
       "      <th>emotion</th>\n",
       "    </tr>\n",
       "  </thead>\n",
       "  <tbody>\n",
       "    <tr>\n",
       "      <th>0</th>\n",
       "      <td>5555</td>\n",
       "      <td>NaN</td>\n",
       "    </tr>\n",
       "    <tr>\n",
       "      <th>1</th>\n",
       "      <td>5556</td>\n",
       "      <td>NaN</td>\n",
       "    </tr>\n",
       "    <tr>\n",
       "      <th>2</th>\n",
       "      <td>5557</td>\n",
       "      <td>NaN</td>\n",
       "    </tr>\n",
       "    <tr>\n",
       "      <th>3</th>\n",
       "      <td>5558</td>\n",
       "      <td>NaN</td>\n",
       "    </tr>\n",
       "    <tr>\n",
       "      <th>4</th>\n",
       "      <td>5559</td>\n",
       "      <td>NaN</td>\n",
       "    </tr>\n",
       "  </tbody>\n",
       "</table>\n",
       "</div>"
      ],
      "text/plain": [
       "   number emotion\n",
       "0    5555     NaN\n",
       "1    5556     NaN\n",
       "2    5557     NaN\n",
       "3    5558     NaN\n",
       "4    5559     NaN"
      ]
     },
     "execution_count": 4,
     "metadata": {},
     "output_type": "execute_result"
    }
   ],
   "source": [
    "df_1 = pd.read_csv(data_catalog + data_files[0], sep = \"\\t\", names = [\"number\", \"emotion\"])\n",
    "df_1.number = df_1.number + 5554\n",
    "df_1.head()"
   ]
  },
  {
   "cell_type": "markdown",
   "metadata": {},
   "source": [
    "#### Базовая эмоция"
   ]
  },
  {
   "cell_type": "code",
   "execution_count": 5,
   "metadata": {},
   "outputs": [
    {
     "data": {
      "text/plain": [
       "neutral     12886\n",
       "happy        8962\n",
       "fear          344\n",
       "surprise       56\n",
       "Name: emotion, dtype: int64"
      ]
     },
     "execution_count": 5,
     "metadata": {},
     "output_type": "execute_result"
    }
   ],
   "source": [
    "base_1 = df_1[\"emotion\"].value_counts()\n",
    "base_1"
   ]
  },
  {
   "cell_type": "code",
   "execution_count": 6,
   "metadata": {},
   "outputs": [
    {
     "data": {
      "text/html": [
       "<div>\n",
       "<style scoped>\n",
       "    .dataframe tbody tr th:only-of-type {\n",
       "        vertical-align: middle;\n",
       "    }\n",
       "\n",
       "    .dataframe tbody tr th {\n",
       "        vertical-align: top;\n",
       "    }\n",
       "\n",
       "    .dataframe thead th {\n",
       "        text-align: right;\n",
       "    }\n",
       "</style>\n",
       "<table border=\"1\" class=\"dataframe\">\n",
       "  <thead>\n",
       "    <tr style=\"text-align: right;\">\n",
       "      <th></th>\n",
       "      <th>number</th>\n",
       "      <th>emotion</th>\n",
       "      <th>emotion_mapped</th>\n",
       "    </tr>\n",
       "  </thead>\n",
       "  <tbody>\n",
       "    <tr>\n",
       "      <th>0</th>\n",
       "      <td>5555</td>\n",
       "      <td>NaN</td>\n",
       "      <td>NaN</td>\n",
       "    </tr>\n",
       "    <tr>\n",
       "      <th>1</th>\n",
       "      <td>5556</td>\n",
       "      <td>NaN</td>\n",
       "      <td>NaN</td>\n",
       "    </tr>\n",
       "    <tr>\n",
       "      <th>2</th>\n",
       "      <td>5557</td>\n",
       "      <td>NaN</td>\n",
       "      <td>NaN</td>\n",
       "    </tr>\n",
       "    <tr>\n",
       "      <th>3</th>\n",
       "      <td>5558</td>\n",
       "      <td>NaN</td>\n",
       "      <td>NaN</td>\n",
       "    </tr>\n",
       "    <tr>\n",
       "      <th>4</th>\n",
       "      <td>5559</td>\n",
       "      <td>NaN</td>\n",
       "      <td>NaN</td>\n",
       "    </tr>\n",
       "  </tbody>\n",
       "</table>\n",
       "</div>"
      ],
      "text/plain": [
       "   number emotion emotion_mapped\n",
       "0    5555     NaN            NaN\n",
       "1    5556     NaN            NaN\n",
       "2    5557     NaN            NaN\n",
       "3    5558     NaN            NaN\n",
       "4    5559     NaN            NaN"
      ]
     },
     "execution_count": 6,
     "metadata": {},
     "output_type": "execute_result"
    }
   ],
   "source": [
    "base_emotion_1_1 = \"neutral\"\n",
    "base_emotion_1_2 = \"happy\"\n",
    "\n",
    "df_1[\"emotion_mapped\"] = df_1[\"emotion\"].replace([base_emotion_1_1, base_emotion_1_2], \"base\")\n",
    "df_1[\"emotion_mapped\"] = df_1[\"emotion_mapped\"].map({\"neutral\": \"positive\", \"fear\": \"negative\", \n",
    "                                                     \"surprise\": \"positive\", \"happy\": \"positive\", \n",
    "                                                     \"sad\": \"negative\", \"base\": \"base\", \"angry\": \"negative\"})\n",
    "df_1.head()"
   ]
  },
  {
   "cell_type": "markdown",
   "metadata": {},
   "source": [
    "####  Отклонения от базовой эмоции"
   ]
  },
  {
   "cell_type": "code",
   "execution_count": 7,
   "metadata": {},
   "outputs": [],
   "source": [
    "deviations_1 = df_1[(pd.notnull(df_1.emotion)) & (df_1.emotion != base_emotion_1_1) & \n",
    "                    (df_1.emotion != base_emotion_1_2)][\"number\"]\n",
    "deviations_1 = list(deviations_1.values)"
   ]
  },
  {
   "cell_type": "markdown",
   "metadata": {},
   "source": [
    "### 2 датасет"
   ]
  },
  {
   "cell_type": "code",
   "execution_count": 8,
   "metadata": {},
   "outputs": [
    {
     "data": {
      "text/html": [
       "<div>\n",
       "<style scoped>\n",
       "    .dataframe tbody tr th:only-of-type {\n",
       "        vertical-align: middle;\n",
       "    }\n",
       "\n",
       "    .dataframe tbody tr th {\n",
       "        vertical-align: top;\n",
       "    }\n",
       "\n",
       "    .dataframe thead th {\n",
       "        text-align: right;\n",
       "    }\n",
       "</style>\n",
       "<table border=\"1\" class=\"dataframe\">\n",
       "  <thead>\n",
       "    <tr style=\"text-align: right;\">\n",
       "      <th></th>\n",
       "      <th>number</th>\n",
       "      <th>emotion</th>\n",
       "    </tr>\n",
       "  </thead>\n",
       "  <tbody>\n",
       "    <tr>\n",
       "      <th>0</th>\n",
       "      <td>1</td>\n",
       "      <td>NaN</td>\n",
       "    </tr>\n",
       "    <tr>\n",
       "      <th>1</th>\n",
       "      <td>2</td>\n",
       "      <td>NaN</td>\n",
       "    </tr>\n",
       "    <tr>\n",
       "      <th>2</th>\n",
       "      <td>3</td>\n",
       "      <td>NaN</td>\n",
       "    </tr>\n",
       "    <tr>\n",
       "      <th>3</th>\n",
       "      <td>4</td>\n",
       "      <td>NaN</td>\n",
       "    </tr>\n",
       "    <tr>\n",
       "      <th>4</th>\n",
       "      <td>5</td>\n",
       "      <td>NaN</td>\n",
       "    </tr>\n",
       "  </tbody>\n",
       "</table>\n",
       "</div>"
      ],
      "text/plain": [
       "   number emotion\n",
       "0       1     NaN\n",
       "1       2     NaN\n",
       "2       3     NaN\n",
       "3       4     NaN\n",
       "4       5     NaN"
      ]
     },
     "execution_count": 8,
     "metadata": {},
     "output_type": "execute_result"
    }
   ],
   "source": [
    "df_2_1 = pd.read_csv(data_catalog + data_files[1], sep = \"\\t\", names = [\"number\", \"emotion\"])\n",
    "df_2_2 = pd.read_csv(data_catalog + data_files[2], sep = \"\\t\", names = [\"number\", \"emotion\"])\n",
    "df_2_2.number = df_2_2.number + len(df_2_1)\n",
    "df_2_3 = pd.read_csv(data_catalog + data_files[3], sep = \"\\t\", names = [\"number\", \"emotion\"])\n",
    "df_2_3.number = df_2_3.number + len(df_2_2)\n",
    "df_2 = pd.concat([df_2_1, df_2_2, df_2_3], ignore_index = True)\n",
    "\n",
    "df_2.head()\n"
   ]
  },
  {
   "cell_type": "markdown",
   "metadata": {},
   "source": [
    "#### Базовая эмоция"
   ]
  },
  {
   "cell_type": "code",
   "execution_count": 9,
   "metadata": {},
   "outputs": [
    {
     "data": {
      "text/plain": [
       "neutral    3621\n",
       "happy       162\n",
       "fear         14\n",
       "Name: emotion, dtype: int64"
      ]
     },
     "execution_count": 9,
     "metadata": {},
     "output_type": "execute_result"
    }
   ],
   "source": [
    "base_2 = df_2[\"emotion\"].value_counts()\n",
    "base_2"
   ]
  },
  {
   "cell_type": "code",
   "execution_count": 10,
   "metadata": {},
   "outputs": [
    {
     "data": {
      "text/html": [
       "<div>\n",
       "<style scoped>\n",
       "    .dataframe tbody tr th:only-of-type {\n",
       "        vertical-align: middle;\n",
       "    }\n",
       "\n",
       "    .dataframe tbody tr th {\n",
       "        vertical-align: top;\n",
       "    }\n",
       "\n",
       "    .dataframe thead th {\n",
       "        text-align: right;\n",
       "    }\n",
       "</style>\n",
       "<table border=\"1\" class=\"dataframe\">\n",
       "  <thead>\n",
       "    <tr style=\"text-align: right;\">\n",
       "      <th></th>\n",
       "      <th>number</th>\n",
       "      <th>emotion</th>\n",
       "      <th>emotion_mapped</th>\n",
       "    </tr>\n",
       "  </thead>\n",
       "  <tbody>\n",
       "    <tr>\n",
       "      <th>0</th>\n",
       "      <td>1</td>\n",
       "      <td>NaN</td>\n",
       "      <td>NaN</td>\n",
       "    </tr>\n",
       "    <tr>\n",
       "      <th>1</th>\n",
       "      <td>2</td>\n",
       "      <td>NaN</td>\n",
       "      <td>NaN</td>\n",
       "    </tr>\n",
       "    <tr>\n",
       "      <th>2</th>\n",
       "      <td>3</td>\n",
       "      <td>NaN</td>\n",
       "      <td>NaN</td>\n",
       "    </tr>\n",
       "    <tr>\n",
       "      <th>3</th>\n",
       "      <td>4</td>\n",
       "      <td>NaN</td>\n",
       "      <td>NaN</td>\n",
       "    </tr>\n",
       "    <tr>\n",
       "      <th>4</th>\n",
       "      <td>5</td>\n",
       "      <td>NaN</td>\n",
       "      <td>NaN</td>\n",
       "    </tr>\n",
       "  </tbody>\n",
       "</table>\n",
       "</div>"
      ],
      "text/plain": [
       "   number emotion emotion_mapped\n",
       "0       1     NaN            NaN\n",
       "1       2     NaN            NaN\n",
       "2       3     NaN            NaN\n",
       "3       4     NaN            NaN\n",
       "4       5     NaN            NaN"
      ]
     },
     "execution_count": 10,
     "metadata": {},
     "output_type": "execute_result"
    }
   ],
   "source": [
    "base_emotion_2 = base_2[base_2 == base_2.max()].index[0]\n",
    "\n",
    "\n",
    "df_2[\"emotion_mapped\"] = df_2[\"emotion\"].replace(base_emotion_2, \"base\")\n",
    "df_2[\"emotion_mapped\"] = df_2[\"emotion_mapped\"].map({\"neutral\": \"positive\", \"fear\": \"negative\", \n",
    "                                                     \"surprise\": \"positive\", \"happy\": \"positive\", \n",
    "                                                     \"sad\": \"negative\", \"base\": \"base\", \"angry\": \"negative\"})\n",
    "df_2.head()"
   ]
  },
  {
   "cell_type": "markdown",
   "metadata": {},
   "source": [
    "####  Отклонения от базовой эмоции"
   ]
  },
  {
   "cell_type": "code",
   "execution_count": 11,
   "metadata": {},
   "outputs": [],
   "source": [
    "deviations_2 = df_2[(pd.notnull(df_2.emotion)) & (df_2.emotion != base_emotion_2)][\"number\"]\n",
    "deviations_2 = list(deviations_2.values)"
   ]
  },
  {
   "cell_type": "markdown",
   "metadata": {},
   "source": [
    "### 3 датасет"
   ]
  },
  {
   "cell_type": "code",
   "execution_count": 12,
   "metadata": {},
   "outputs": [
    {
     "data": {
      "text/html": [
       "<div>\n",
       "<style scoped>\n",
       "    .dataframe tbody tr th:only-of-type {\n",
       "        vertical-align: middle;\n",
       "    }\n",
       "\n",
       "    .dataframe tbody tr th {\n",
       "        vertical-align: top;\n",
       "    }\n",
       "\n",
       "    .dataframe thead th {\n",
       "        text-align: right;\n",
       "    }\n",
       "</style>\n",
       "<table border=\"1\" class=\"dataframe\">\n",
       "  <thead>\n",
       "    <tr style=\"text-align: right;\">\n",
       "      <th></th>\n",
       "      <th>number</th>\n",
       "      <th>emotion</th>\n",
       "    </tr>\n",
       "  </thead>\n",
       "  <tbody>\n",
       "    <tr>\n",
       "      <th>0</th>\n",
       "      <td>1</td>\n",
       "      <td>fear</td>\n",
       "    </tr>\n",
       "    <tr>\n",
       "      <th>1</th>\n",
       "      <td>2</td>\n",
       "      <td>fear</td>\n",
       "    </tr>\n",
       "    <tr>\n",
       "      <th>2</th>\n",
       "      <td>3</td>\n",
       "      <td>fear</td>\n",
       "    </tr>\n",
       "    <tr>\n",
       "      <th>3</th>\n",
       "      <td>4</td>\n",
       "      <td>fear</td>\n",
       "    </tr>\n",
       "    <tr>\n",
       "      <th>4</th>\n",
       "      <td>5</td>\n",
       "      <td>fear</td>\n",
       "    </tr>\n",
       "  </tbody>\n",
       "</table>\n",
       "</div>"
      ],
      "text/plain": [
       "   number emotion\n",
       "0       1    fear\n",
       "1       2    fear\n",
       "2       3    fear\n",
       "3       4    fear\n",
       "4       5    fear"
      ]
     },
     "execution_count": 12,
     "metadata": {},
     "output_type": "execute_result"
    }
   ],
   "source": [
    "df_3 = pd.read_csv(data_catalog + data_files[4], sep = \"\\t\", names = [\"number\", \"emotion\"])\n",
    "df_3.head()"
   ]
  },
  {
   "cell_type": "markdown",
   "metadata": {},
   "source": [
    "#### Базовая эмоция"
   ]
  },
  {
   "cell_type": "code",
   "execution_count": 13,
   "metadata": {},
   "outputs": [
    {
     "data": {
      "text/plain": [
       "happy       19923\n",
       "fear        18396\n",
       "neutral      9739\n",
       "surprise     1094\n",
       "sad            80\n",
       "Name: emotion, dtype: int64"
      ]
     },
     "execution_count": 13,
     "metadata": {},
     "output_type": "execute_result"
    }
   ],
   "source": [
    "base_3 = df_3[\"emotion\"].value_counts()\n",
    "base_3"
   ]
  },
  {
   "cell_type": "code",
   "execution_count": 14,
   "metadata": {},
   "outputs": [
    {
     "data": {
      "text/html": [
       "<div>\n",
       "<style scoped>\n",
       "    .dataframe tbody tr th:only-of-type {\n",
       "        vertical-align: middle;\n",
       "    }\n",
       "\n",
       "    .dataframe tbody tr th {\n",
       "        vertical-align: top;\n",
       "    }\n",
       "\n",
       "    .dataframe thead th {\n",
       "        text-align: right;\n",
       "    }\n",
       "</style>\n",
       "<table border=\"1\" class=\"dataframe\">\n",
       "  <thead>\n",
       "    <tr style=\"text-align: right;\">\n",
       "      <th></th>\n",
       "      <th>number</th>\n",
       "      <th>emotion</th>\n",
       "      <th>emotion_mapped</th>\n",
       "    </tr>\n",
       "  </thead>\n",
       "  <tbody>\n",
       "    <tr>\n",
       "      <th>0</th>\n",
       "      <td>1</td>\n",
       "      <td>fear</td>\n",
       "      <td>base</td>\n",
       "    </tr>\n",
       "    <tr>\n",
       "      <th>1</th>\n",
       "      <td>2</td>\n",
       "      <td>fear</td>\n",
       "      <td>base</td>\n",
       "    </tr>\n",
       "    <tr>\n",
       "      <th>2</th>\n",
       "      <td>3</td>\n",
       "      <td>fear</td>\n",
       "      <td>base</td>\n",
       "    </tr>\n",
       "    <tr>\n",
       "      <th>3</th>\n",
       "      <td>4</td>\n",
       "      <td>fear</td>\n",
       "      <td>base</td>\n",
       "    </tr>\n",
       "    <tr>\n",
       "      <th>4</th>\n",
       "      <td>5</td>\n",
       "      <td>fear</td>\n",
       "      <td>base</td>\n",
       "    </tr>\n",
       "  </tbody>\n",
       "</table>\n",
       "</div>"
      ],
      "text/plain": [
       "   number emotion emotion_mapped\n",
       "0       1    fear           base\n",
       "1       2    fear           base\n",
       "2       3    fear           base\n",
       "3       4    fear           base\n",
       "4       5    fear           base"
      ]
     },
     "execution_count": 14,
     "metadata": {},
     "output_type": "execute_result"
    }
   ],
   "source": [
    "base_emotion_3_1 = base_3[base_3 == base_3.max()].index[0]\n",
    "base_emotion_3_2 = \"neutral\"\n",
    "base_emotion_3_3 = \"fear\"\n",
    "\n",
    "\n",
    "df_3[\"emotion_mapped\"] = df_3[\"emotion\"].replace([base_emotion_3_1, base_emotion_3_2, base_emotion_3_3], \"base\")\n",
    "df_3[\"emotion_mapped\"] = df_3[\"emotion_mapped\"].map({\"neutral\": \"positive\", \"fear\": \"negative\", \n",
    "                                                     \"surprise\": \"positive\", \"happy\": \"positive\", \n",
    "                                                     \"sad\": \"negative\", \"base\": \"base\", \"angry\": \"negative\"})\n",
    "df_3.head()"
   ]
  },
  {
   "cell_type": "markdown",
   "metadata": {},
   "source": [
    "####  Отклонения от базовой эмоции"
   ]
  },
  {
   "cell_type": "code",
   "execution_count": 15,
   "metadata": {},
   "outputs": [],
   "source": [
    "deviations_3 = df_3[(pd.notnull(df_3.emotion)) & (df_3.emotion != base_emotion_3_1) &\n",
    "                   (df_3.emotion != base_emotion_3_2) & (df_3.emotion != base_emotion_3_3)][\"number\"]\n",
    "deviations_3 = list(deviations_3.values)"
   ]
  },
  {
   "cell_type": "markdown",
   "metadata": {},
   "source": [
    "### 4 датасет"
   ]
  },
  {
   "cell_type": "code",
   "execution_count": 16,
   "metadata": {},
   "outputs": [
    {
     "data": {
      "text/html": [
       "<div>\n",
       "<style scoped>\n",
       "    .dataframe tbody tr th:only-of-type {\n",
       "        vertical-align: middle;\n",
       "    }\n",
       "\n",
       "    .dataframe tbody tr th {\n",
       "        vertical-align: top;\n",
       "    }\n",
       "\n",
       "    .dataframe thead th {\n",
       "        text-align: right;\n",
       "    }\n",
       "</style>\n",
       "<table border=\"1\" class=\"dataframe\">\n",
       "  <thead>\n",
       "    <tr style=\"text-align: right;\">\n",
       "      <th></th>\n",
       "      <th>number</th>\n",
       "      <th>emotion</th>\n",
       "    </tr>\n",
       "  </thead>\n",
       "  <tbody>\n",
       "    <tr>\n",
       "      <th>0</th>\n",
       "      <td>1</td>\n",
       "      <td>NaN</td>\n",
       "    </tr>\n",
       "    <tr>\n",
       "      <th>1</th>\n",
       "      <td>2</td>\n",
       "      <td>NaN</td>\n",
       "    </tr>\n",
       "    <tr>\n",
       "      <th>2</th>\n",
       "      <td>3</td>\n",
       "      <td>NaN</td>\n",
       "    </tr>\n",
       "    <tr>\n",
       "      <th>3</th>\n",
       "      <td>4</td>\n",
       "      <td>NaN</td>\n",
       "    </tr>\n",
       "    <tr>\n",
       "      <th>4</th>\n",
       "      <td>5</td>\n",
       "      <td>NaN</td>\n",
       "    </tr>\n",
       "  </tbody>\n",
       "</table>\n",
       "</div>"
      ],
      "text/plain": [
       "   number emotion\n",
       "0       1     NaN\n",
       "1       2     NaN\n",
       "2       3     NaN\n",
       "3       4     NaN\n",
       "4       5     NaN"
      ]
     },
     "execution_count": 16,
     "metadata": {},
     "output_type": "execute_result"
    }
   ],
   "source": [
    "df_4 = pd.read_csv(data_catalog + data_files[5], sep = \"\\t\", names = [\"number\", \"emotion\"])\n",
    "df_4.head()"
   ]
  },
  {
   "cell_type": "markdown",
   "metadata": {},
   "source": [
    "#### Базовая эмоция"
   ]
  },
  {
   "cell_type": "code",
   "execution_count": 17,
   "metadata": {},
   "outputs": [
    {
     "data": {
      "text/plain": [
       "happy      30843\n",
       "neutral     3515\n",
       "fear         651\n",
       "Name: emotion, dtype: int64"
      ]
     },
     "execution_count": 17,
     "metadata": {},
     "output_type": "execute_result"
    }
   ],
   "source": [
    "base_4 = df_4[\"emotion\"].value_counts()\n",
    "base_4"
   ]
  },
  {
   "cell_type": "code",
   "execution_count": 18,
   "metadata": {},
   "outputs": [
    {
     "data": {
      "text/html": [
       "<div>\n",
       "<style scoped>\n",
       "    .dataframe tbody tr th:only-of-type {\n",
       "        vertical-align: middle;\n",
       "    }\n",
       "\n",
       "    .dataframe tbody tr th {\n",
       "        vertical-align: top;\n",
       "    }\n",
       "\n",
       "    .dataframe thead th {\n",
       "        text-align: right;\n",
       "    }\n",
       "</style>\n",
       "<table border=\"1\" class=\"dataframe\">\n",
       "  <thead>\n",
       "    <tr style=\"text-align: right;\">\n",
       "      <th></th>\n",
       "      <th>number</th>\n",
       "      <th>emotion</th>\n",
       "      <th>emotion_mapped</th>\n",
       "    </tr>\n",
       "  </thead>\n",
       "  <tbody>\n",
       "    <tr>\n",
       "      <th>0</th>\n",
       "      <td>1</td>\n",
       "      <td>NaN</td>\n",
       "      <td>NaN</td>\n",
       "    </tr>\n",
       "    <tr>\n",
       "      <th>1</th>\n",
       "      <td>2</td>\n",
       "      <td>NaN</td>\n",
       "      <td>NaN</td>\n",
       "    </tr>\n",
       "    <tr>\n",
       "      <th>2</th>\n",
       "      <td>3</td>\n",
       "      <td>NaN</td>\n",
       "      <td>NaN</td>\n",
       "    </tr>\n",
       "    <tr>\n",
       "      <th>3</th>\n",
       "      <td>4</td>\n",
       "      <td>NaN</td>\n",
       "      <td>NaN</td>\n",
       "    </tr>\n",
       "    <tr>\n",
       "      <th>4</th>\n",
       "      <td>5</td>\n",
       "      <td>NaN</td>\n",
       "      <td>NaN</td>\n",
       "    </tr>\n",
       "  </tbody>\n",
       "</table>\n",
       "</div>"
      ],
      "text/plain": [
       "   number emotion emotion_mapped\n",
       "0       1     NaN            NaN\n",
       "1       2     NaN            NaN\n",
       "2       3     NaN            NaN\n",
       "3       4     NaN            NaN\n",
       "4       5     NaN            NaN"
      ]
     },
     "execution_count": 18,
     "metadata": {},
     "output_type": "execute_result"
    }
   ],
   "source": [
    "base_emotion_4 = base_4[base_4 == base_4.max()].index[0]\n",
    "\n",
    "\n",
    "df_4[\"emotion_mapped\"] = df_4[\"emotion\"].replace(base_emotion_4, \"base\")\n",
    "df_4[\"emotion_mapped\"] = df_4[\"emotion_mapped\"].map({\"neutral\": \"positive\", \"fear\": \"negative\", \n",
    "                                                     \"surprise\": \"positive\", \"happy\": \"positive\", \n",
    "                                                     \"sad\": \"negative\", \"base\": \"base\", \"angry\": \"negative\"})\n",
    "df_4.head()"
   ]
  },
  {
   "cell_type": "markdown",
   "metadata": {},
   "source": [
    "####  Отклонения от базовой эмоции"
   ]
  },
  {
   "cell_type": "code",
   "execution_count": 19,
   "metadata": {},
   "outputs": [],
   "source": [
    "deviations_4 = df_4[(pd.notnull(df_4.emotion)) & (df_4.emotion != base_emotion_4)][\"number\"]\n",
    "deviations_4 = list(deviations_4.values)"
   ]
  },
  {
   "cell_type": "markdown",
   "metadata": {},
   "source": [
    "### 5 датасет"
   ]
  },
  {
   "cell_type": "code",
   "execution_count": 20,
   "metadata": {},
   "outputs": [
    {
     "data": {
      "text/html": [
       "<div>\n",
       "<style scoped>\n",
       "    .dataframe tbody tr th:only-of-type {\n",
       "        vertical-align: middle;\n",
       "    }\n",
       "\n",
       "    .dataframe tbody tr th {\n",
       "        vertical-align: top;\n",
       "    }\n",
       "\n",
       "    .dataframe thead th {\n",
       "        text-align: right;\n",
       "    }\n",
       "</style>\n",
       "<table border=\"1\" class=\"dataframe\">\n",
       "  <thead>\n",
       "    <tr style=\"text-align: right;\">\n",
       "      <th></th>\n",
       "      <th>number</th>\n",
       "      <th>emotion</th>\n",
       "    </tr>\n",
       "  </thead>\n",
       "  <tbody>\n",
       "    <tr>\n",
       "      <th>0</th>\n",
       "      <td>1</td>\n",
       "      <td>surprise</td>\n",
       "    </tr>\n",
       "    <tr>\n",
       "      <th>1</th>\n",
       "      <td>2</td>\n",
       "      <td>surprise</td>\n",
       "    </tr>\n",
       "    <tr>\n",
       "      <th>2</th>\n",
       "      <td>3</td>\n",
       "      <td>surprise</td>\n",
       "    </tr>\n",
       "    <tr>\n",
       "      <th>3</th>\n",
       "      <td>4</td>\n",
       "      <td>surprise</td>\n",
       "    </tr>\n",
       "    <tr>\n",
       "      <th>4</th>\n",
       "      <td>5</td>\n",
       "      <td>surprise</td>\n",
       "    </tr>\n",
       "  </tbody>\n",
       "</table>\n",
       "</div>"
      ],
      "text/plain": [
       "   number   emotion\n",
       "0       1  surprise\n",
       "1       2  surprise\n",
       "2       3  surprise\n",
       "3       4  surprise\n",
       "4       5  surprise"
      ]
     },
     "execution_count": 20,
     "metadata": {},
     "output_type": "execute_result"
    }
   ],
   "source": [
    "df_5 = pd.read_csv(data_catalog + data_files[6], sep = \"\\t\", names = [\"number\", \"emotion\"])\n",
    "df_5.head()"
   ]
  },
  {
   "cell_type": "markdown",
   "metadata": {},
   "source": [
    "#### Базовая эмоция"
   ]
  },
  {
   "cell_type": "code",
   "execution_count": 21,
   "metadata": {},
   "outputs": [
    {
     "data": {
      "text/plain": [
       "happy       14821\n",
       "neutral      6891\n",
       "surprise      610\n",
       "fear          598\n",
       "sad            15\n",
       "Name: emotion, dtype: int64"
      ]
     },
     "execution_count": 21,
     "metadata": {},
     "output_type": "execute_result"
    }
   ],
   "source": [
    "base_5 = df_5[\"emotion\"].value_counts()\n",
    "base_5"
   ]
  },
  {
   "cell_type": "code",
   "execution_count": 22,
   "metadata": {},
   "outputs": [
    {
     "data": {
      "text/html": [
       "<div>\n",
       "<style scoped>\n",
       "    .dataframe tbody tr th:only-of-type {\n",
       "        vertical-align: middle;\n",
       "    }\n",
       "\n",
       "    .dataframe tbody tr th {\n",
       "        vertical-align: top;\n",
       "    }\n",
       "\n",
       "    .dataframe thead th {\n",
       "        text-align: right;\n",
       "    }\n",
       "</style>\n",
       "<table border=\"1\" class=\"dataframe\">\n",
       "  <thead>\n",
       "    <tr style=\"text-align: right;\">\n",
       "      <th></th>\n",
       "      <th>number</th>\n",
       "      <th>emotion</th>\n",
       "      <th>emotion_mapped</th>\n",
       "    </tr>\n",
       "  </thead>\n",
       "  <tbody>\n",
       "    <tr>\n",
       "      <th>0</th>\n",
       "      <td>1</td>\n",
       "      <td>surprise</td>\n",
       "      <td>positive</td>\n",
       "    </tr>\n",
       "    <tr>\n",
       "      <th>1</th>\n",
       "      <td>2</td>\n",
       "      <td>surprise</td>\n",
       "      <td>positive</td>\n",
       "    </tr>\n",
       "    <tr>\n",
       "      <th>2</th>\n",
       "      <td>3</td>\n",
       "      <td>surprise</td>\n",
       "      <td>positive</td>\n",
       "    </tr>\n",
       "    <tr>\n",
       "      <th>3</th>\n",
       "      <td>4</td>\n",
       "      <td>surprise</td>\n",
       "      <td>positive</td>\n",
       "    </tr>\n",
       "    <tr>\n",
       "      <th>4</th>\n",
       "      <td>5</td>\n",
       "      <td>surprise</td>\n",
       "      <td>positive</td>\n",
       "    </tr>\n",
       "  </tbody>\n",
       "</table>\n",
       "</div>"
      ],
      "text/plain": [
       "   number   emotion emotion_mapped\n",
       "0       1  surprise       positive\n",
       "1       2  surprise       positive\n",
       "2       3  surprise       positive\n",
       "3       4  surprise       positive\n",
       "4       5  surprise       positive"
      ]
     },
     "execution_count": 22,
     "metadata": {},
     "output_type": "execute_result"
    }
   ],
   "source": [
    "base_emotion_5_1 = base_5[base_5 == base_5.max()].index[0]\n",
    "base_emotion_5_2 = \"neutral\"\n",
    "\n",
    "df_5[\"emotion_mapped\"] = df_5[\"emotion\"].replace([base_emotion_5_1, base_emotion_5_2], \"base\")\n",
    "df_5[\"emotion_mapped\"] = df_5[\"emotion_mapped\"].map({\"neutral\": \"positive\", \"fear\": \"negative\", \n",
    "                                                     \"surprise\": \"positive\", \"happy\": \"positive\", \n",
    "                                                     \"sad\": \"negative\", \"base\": \"base\", \"angry\": \"negative\"})\n",
    "df_5.head()"
   ]
  },
  {
   "cell_type": "markdown",
   "metadata": {},
   "source": [
    "####  Отклонения от базовой эмоции"
   ]
  },
  {
   "cell_type": "code",
   "execution_count": 23,
   "metadata": {},
   "outputs": [],
   "source": [
    "deviations_5 = df_5[(pd.notnull(df_5.emotion)) & (df_5.emotion != base_emotion_5_1) & \n",
    "                    (df_5.emotion != base_emotion_5_2)][\"number\"]\n",
    "deviations_5 = list(deviations_5.values)"
   ]
  },
  {
   "cell_type": "markdown",
   "metadata": {},
   "source": [
    "### 1 человек"
   ]
  },
  {
   "cell_type": "code",
   "execution_count": 24,
   "metadata": {},
   "outputs": [],
   "source": [
    "with_exitment_1 = pd.DataFrame(columns = [\"sender_name\", \"sender_id\", \"emotion_sent\", \"reciever_name\", \n",
    "                                          \"emotion_recieved\"])\n",
    "\n",
    "for number in deviations_1:\n",
    "    \n",
    "    temp_df_2 = df_2[(df_2.number >= number) & (df_2.number <= number + 100) & \n",
    "                     (df_2.emotion != base_emotion_2) & (pd.notnull(df_2.emotion))]\n",
    "    temp_df_3 = df_3[(df_3.number >= number) & (df_3.number <= number + 100) & \n",
    "                     (df_3.emotion != base_emotion_3_1) & (df_3.emotion != base_emotion_3_2) & \n",
    "                     (df_3.emotion != base_emotion_3_3) & (pd.notnull(df_3.emotion))]\n",
    "    temp_df_4 = df_4[(df_4.number >= number) & (df_4.number <= number + 100) & \n",
    "                     (df_4.emotion != base_emotion_4) & (pd.notnull(df_4.emotion))]\n",
    "    temp_df_5 = df_5[(df_5.number >= number) & (df_5.number <= number + 100) & \n",
    "                     (df_5.emotion != base_emotion_5_1) & (df_5.emotion != base_emotion_5_2) &\n",
    "                     (pd.notnull(df_5.emotion))]\n",
    "\n",
    "    emotion_sent = df_1.loc[number - 1, \"emotion_mapped\"]\n",
    "    sender_name = name_1\n",
    "    \n",
    "    if len(temp_df_2) != 0:\n",
    "        recieved = temp_df_2.iloc[:, 2].value_counts()\n",
    "        recieved_emotion = recieved[recieved == recieved.max()].index[0]\n",
    "        temp_dataset_2 = pd.DataFrame(data = {\"sender_name\": sender_name, \n",
    "                                              \"sender_id\": number, \n",
    "                                              \"emotion_sent\": emotion_sent,\n",
    "                                              \"reciever_name\": name_2, \n",
    "                                              \"emotion_recieved\": recieved_emotion}, index = [0])\n",
    "        with_exitment_1 = pd.concat([with_exitment_1, temp_dataset_2], ignore_index = True)\n",
    "\n",
    "    if len(temp_df_3) != 0:\n",
    "        recieved = temp_df_3.iloc[:, 2].value_counts()\n",
    "        recieved_emotion = recieved[recieved == recieved.max()].index[0]\n",
    "        temp_dataset_3 = pd.DataFrame(data = {\"sender_name\": sender_name, \n",
    "                                              \"sender_id\": number, \n",
    "                                              \"emotion_sent\": emotion_sent,\n",
    "                                              \"reciever_name\": name_3, \n",
    "                                              \"emotion_recieved\": recieved_emotion}, index = [0])\n",
    "        with_exitment_1 = pd.concat([with_exitment_1, temp_dataset_3], ignore_index = True)\n",
    "        \n",
    "    if len(temp_df_4) != 0:\n",
    "        recieved = temp_df_4.iloc[:, 2].value_counts()\n",
    "        recieved_emotion = recieved[recieved == recieved.max()].index[0]\n",
    "        temp_dataset_4 = pd.DataFrame(data = {\"sender_name\": sender_name, \n",
    "                                              \"sender_id\": number, \n",
    "                                              \"emotion_sent\": emotion_sent,\n",
    "                                              \"reciever_name\": name_4, \n",
    "                                              \"emotion_recieved\": recieved_emotion}, index = [0])\n",
    "        with_exitment_1 = pd.concat([with_exitment_1, temp_dataset_4], ignore_index = True)\n",
    "        \n",
    "    if len(temp_df_5) != 0:\n",
    "        recieved = temp_df_5.iloc[:, 2].value_counts()\n",
    "        recieved_emotion = recieved[recieved == recieved.max()].index[0]\n",
    "        temp_dataset_5 = pd.DataFrame(data = {\"sender_name\": sender_name, \n",
    "                                              \"sender_id\": number, \n",
    "                                              \"emotion_sent\": emotion_sent,\n",
    "                                              \"reciever_name\": name_5, \n",
    "                                              \"emotion_recieved\": recieved_emotion}, index = [0])\n",
    "        with_exitment_1 = pd.concat([with_exitment_1, temp_dataset_5], ignore_index = True)"
   ]
  },
  {
   "cell_type": "markdown",
   "metadata": {},
   "source": [
    "### 2 человек"
   ]
  },
  {
   "cell_type": "code",
   "execution_count": 25,
   "metadata": {},
   "outputs": [],
   "source": [
    "with_exitment_2 = pd.DataFrame(columns = [\"sender_name\", \"sender_id\", \"emotion_sent\", \"reciever_name\", \n",
    "                                          \"emotion_recieved\"])\n",
    "\n",
    "for number in deviations_2:\n",
    "    \n",
    "    temp_df_1 = df_1[(df_1.number >= number) & (df_1.number <= number + 100) & \n",
    "                     (df_1.emotion != base_emotion_1_1) & (df_1.emotion != base_emotion_1_2) &\n",
    "                     (pd.notnull(df_1.emotion))]\n",
    "    temp_df_3 = df_3[(df_3.number >= number) & (df_3.number <= number + 100) & \n",
    "                     (df_3.emotion != base_emotion_3_1) & (df_3.emotion != base_emotion_3_2) & \n",
    "                     (df_3.emotion != base_emotion_3_3) & (pd.notnull(df_3.emotion))]\n",
    "    temp_df_4 = df_4[(df_4.number >= number) & (df_4.number <= number + 100) & \n",
    "                     (df_4.emotion != base_emotion_4) & (pd.notnull(df_4.emotion))]\n",
    "    temp_df_5 = df_5[(df_5.number >= number) & (df_5.number <= number + 100) & \n",
    "                     (df_5.emotion != base_emotion_5_1) & (df_5.emotion != base_emotion_5_2) &\n",
    "                     (pd.notnull(df_5.emotion))]\n",
    "    \n",
    "    emotion_sent = df_2.loc[number - 1, \"emotion_mapped\"]\n",
    "    sender_name = name_2\n",
    "    \n",
    "    if len(temp_df_1) != 0:\n",
    "        recieved = temp_df_1.iloc[:, 2].value_counts()\n",
    "        recieved_emotion = recieved[recieved == recieved.max()].index[0]\n",
    "        temp_dataset_1 = pd.DataFrame(data = {\"sender_name\": sender_name, \n",
    "                                              \"sender_id\": number, \n",
    "                                              \"emotion_sent\": emotion_sent,\n",
    "                                              \"reciever_name\": name_1, \n",
    "                                              \"emotion_recieved\": recieved_emotion}, index = [0])\n",
    "        with_exitment_2 = pd.concat([with_exitment_2, temp_dataset_1], ignore_index = True)\n",
    "\n",
    "    if len(temp_df_3) != 0:\n",
    "        recieved = temp_df_3.iloc[:, 2].value_counts()\n",
    "        recieved_emotion = recieved[recieved == recieved.max()].index[0]\n",
    "        temp_dataset_3 = pd.DataFrame(data = {\"sender_name\": sender_name, \n",
    "                                              \"sender_id\": number, \n",
    "                                              \"emotion_sent\": emotion_sent,\n",
    "                                              \"reciever_name\": name_3, \n",
    "                                              \"emotion_recieved\": recieved_emotion}, index = [0])\n",
    "        with_exitment_2 = pd.concat([with_exitment_2, temp_dataset_3], ignore_index = True)\n",
    "        \n",
    "    if len(temp_df_4) != 0:\n",
    "        recieved = temp_df_4.iloc[:, 2].value_counts()\n",
    "        recieved_emotion = recieved[recieved == recieved.max()].index[0]\n",
    "        temp_dataset_4 = pd.DataFrame(data = {\"sender_name\": sender_name, \n",
    "                                              \"sender_id\": number, \n",
    "                                              \"emotion_sent\": emotion_sent,\n",
    "                                              \"reciever_name\": name_4, \n",
    "                                              \"emotion_recieved\": recieved_emotion}, index = [0])\n",
    "        with_exitment_2 = pd.concat([with_exitment_2, temp_dataset_4], ignore_index = True)\n",
    "        \n",
    "    if len(temp_df_5) != 0:\n",
    "        recieved = temp_df_5.iloc[:, 2].value_counts()\n",
    "        recieved_emotion = recieved[recieved == recieved.max()].index[0]\n",
    "        temp_dataset_5 = pd.DataFrame(data = {\"sender_name\": sender_name, \n",
    "                                              \"sender_id\": number, \n",
    "                                              \"emotion_sent\": emotion_sent,\n",
    "                                              \"reciever_name\": name_5, \n",
    "                                              \"emotion_recieved\": recieved_emotion}, index = [0])\n",
    "        with_exitment_2 = pd.concat([with_exitment_2, temp_dataset_5], ignore_index = True)"
   ]
  },
  {
   "cell_type": "markdown",
   "metadata": {},
   "source": [
    "### 3 человек"
   ]
  },
  {
   "cell_type": "code",
   "execution_count": 26,
   "metadata": {},
   "outputs": [],
   "source": [
    "with_exitment_3 = pd.DataFrame(columns = [\"sender_name\", \"sender_id\", \"emotion_sent\", \"reciever_name\", \n",
    "                                          \"emotion_recieved\"])\n",
    "\n",
    "for number in deviations_3:\n",
    "    \n",
    "    temp_df_1 = df_1[(df_1.number >= number) & (df_1.number <= number + 100) & \n",
    "                     (df_1.emotion != base_emotion_1_1) & (df_1.emotion != base_emotion_1_2) &\n",
    "                     (pd.notnull(df_1.emotion))]\n",
    "    temp_df_2 = df_2[(df_2.number >= number) & (df_2.number <= number + 100) & \n",
    "                     (df_2.emotion != base_emotion_2) & (pd.notnull(df_2.emotion))]\n",
    "    temp_df_4 = df_4[(df_4.number >= number) & (df_4.number <= number + 100) & \n",
    "                     (df_4.emotion != base_emotion_4) & (pd.notnull(df_4.emotion))]\n",
    "    temp_df_5 = df_5[(df_5.number >= number) & (df_5.number <= number + 100) & \n",
    "                     (df_5.emotion != base_emotion_5_1) & (df_5.emotion != base_emotion_5_2) &\n",
    "                     (pd.notnull(df_5.emotion))]\n",
    "    \n",
    "    emotion_sent = df_3.loc[number - 1, \"emotion_mapped\"]\n",
    "    sender_name = name_3\n",
    "    \n",
    "    if len(temp_df_1) != 0:\n",
    "        recieved = temp_df_1.iloc[:, 2].value_counts()\n",
    "        recieved_emotion = recieved[recieved == recieved.max()].index[0]\n",
    "        temp_dataset_1 = pd.DataFrame(data = {\"sender_name\": sender_name, \n",
    "                                              \"sender_id\": number, \n",
    "                                              \"emotion_sent\": emotion_sent,\n",
    "                                              \"reciever_name\": name_1, \n",
    "                                              \"emotion_recieved\": recieved_emotion}, index = [0])\n",
    "        with_exitment_3 = pd.concat([with_exitment_3, temp_dataset_1], ignore_index = True)\n",
    "\n",
    "    if len(temp_df_2) != 0:\n",
    "        recieved = temp_df_2.iloc[:, 2].value_counts()\n",
    "        recieved_emotion = recieved[recieved == recieved.max()].index[0]\n",
    "        temp_dataset_2 = pd.DataFrame(data = {\"sender_name\": sender_name, \n",
    "                                              \"sender_id\": number, \n",
    "                                              \"emotion_sent\": emotion_sent,\n",
    "                                              \"reciever_name\": name_2, \n",
    "                                              \"emotion_recieved\": recieved_emotion}, index = [0])\n",
    "        with_exitment_3 = pd.concat([with_exitment_3, temp_dataset_2], ignore_index = True)\n",
    "        \n",
    "    if len(temp_df_4) != 0:\n",
    "        recieved = temp_df_4.iloc[:, 2].value_counts()\n",
    "        recieved_emotion = recieved[recieved == recieved.max()].index[0]\n",
    "        temp_dataset_4 = pd.DataFrame(data = {\"sender_name\": sender_name, \n",
    "                                              \"sender_id\": number, \n",
    "                                              \"emotion_sent\": emotion_sent,\n",
    "                                              \"reciever_name\": name_4, \n",
    "                                              \"emotion_recieved\": recieved_emotion}, index = [0])\n",
    "        with_exitment_3 = pd.concat([with_exitment_3, temp_dataset_4], ignore_index = True)\n",
    "        \n",
    "    if len(temp_df_5) != 0:\n",
    "        recieved = temp_df_5.iloc[:, 2].value_counts()\n",
    "        recieved_emotion = recieved[recieved == recieved.max()].index[0]\n",
    "        temp_dataset_5 = pd.DataFrame(data = {\"sender_name\": sender_name, \n",
    "                                              \"sender_id\": number, \n",
    "                                              \"emotion_sent\": emotion_sent,\n",
    "                                              \"reciever_name\": name_5, \n",
    "                                              \"emotion_recieved\": recieved_emotion}, index = [0])\n",
    "        with_exitment_3 = pd.concat([with_exitment_3, temp_dataset_5], ignore_index = True)"
   ]
  },
  {
   "cell_type": "markdown",
   "metadata": {},
   "source": [
    "### 4 человек"
   ]
  },
  {
   "cell_type": "code",
   "execution_count": 27,
   "metadata": {},
   "outputs": [],
   "source": [
    "with_exitment_4 = pd.DataFrame(columns = [\"sender_name\", \"sender_id\", \"emotion_sent\", \"reciever_name\", \n",
    "                                          \"emotion_recieved\"])\n",
    "\n",
    "for number in deviations_4:\n",
    "    \n",
    "    temp_df_1 = df_1[(df_1.number >= number) & (df_1.number <= number + 100) & \n",
    "                     (df_1.emotion != base_emotion_1_1) & (df_1.emotion != base_emotion_1_2) &\n",
    "                     (pd.notnull(df_1.emotion))]\n",
    "    temp_df_2 = df_2[(df_2.number >= number) & (df_2.number <= number + 100) & \n",
    "                     (df_2.emotion != base_emotion_2) & (pd.notnull(df_2.emotion))]\n",
    "    temp_df_3 = df_3[(df_3.number >= number) & (df_3.number <= number + 100) & \n",
    "                     (df_3.emotion != base_emotion_3_1) & (df_3.emotion != base_emotion_3_2) & \n",
    "                     (df_3.emotion != base_emotion_3_3) & (pd.notnull(df_3.emotion))]\n",
    "    temp_df_5 = df_5[(df_5.number >= number) & (df_5.number <= number + 100) & \n",
    "                     (df_5.emotion != base_emotion_5_1) & (df_5.emotion != base_emotion_5_2) &\n",
    "                     (pd.notnull(df_5.emotion))]\n",
    "    \n",
    "    emotion_sent = df_4.loc[number - 1, \"emotion_mapped\"]\n",
    "    sender_name = name_4\n",
    "    \n",
    "    if len(temp_df_1) != 0:\n",
    "        recieved = temp_df_1.iloc[:, 2].value_counts()\n",
    "        recieved_emotion = recieved[recieved == recieved.max()].index[0]\n",
    "        temp_dataset_1 = pd.DataFrame(data = {\"sender_name\": sender_name, \n",
    "                                              \"sender_id\": number, \n",
    "                                              \"emotion_sent\": emotion_sent,\n",
    "                                              \"reciever_name\": name_1, \n",
    "                                              \"emotion_recieved\": recieved_emotion}, index = [0])\n",
    "        with_exitment_4 = pd.concat([with_exitment_4, temp_dataset_1], ignore_index = True)\n",
    "\n",
    "    if len(temp_df_2) != 0:\n",
    "        recieved = temp_df_2.iloc[:, 2].value_counts()\n",
    "        recieved_emotion = recieved[recieved == recieved.max()].index[0]\n",
    "        temp_dataset_2 = pd.DataFrame(data = {\"sender_name\": sender_name, \n",
    "                                              \"sender_id\": number, \n",
    "                                              \"emotion_sent\": emotion_sent,\n",
    "                                              \"reciever_name\": name_2, \n",
    "                                              \"emotion_recieved\": recieved_emotion}, index = [0])\n",
    "        with_exitment_4 = pd.concat([with_exitment_4, temp_dataset_2], ignore_index = True)\n",
    "        \n",
    "    if len(temp_df_3) != 0:\n",
    "        recieved = temp_df_3.iloc[:, 2].value_counts()\n",
    "        recieved_emotion = recieved[recieved == recieved.max()].index[0]\n",
    "        temp_dataset_3 = pd.DataFrame(data = {\"sender_name\": sender_name, \n",
    "                                              \"sender_id\": number, \n",
    "                                              \"emotion_sent\": emotion_sent,\n",
    "                                              \"reciever_name\": name_3, \n",
    "                                              \"emotion_recieved\": recieved_emotion}, index = [0])\n",
    "        with_exitment_4 = pd.concat([with_exitment_4, temp_dataset_3], ignore_index = True)\n",
    "        \n",
    "    if len(temp_df_5) != 0:\n",
    "        recieved = temp_df_5.iloc[:, 2].value_counts()\n",
    "        recieved_emotion = recieved[recieved == recieved.max()].index[0]\n",
    "        temp_dataset_5 = pd.DataFrame(data = {\"sender_name\": sender_name, \n",
    "                                              \"sender_id\": number, \n",
    "                                              \"emotion_sent\": emotion_sent,\n",
    "                                              \"reciever_name\": name_5, \n",
    "                                              \"emotion_recieved\": recieved_emotion}, index = [0])\n",
    "        with_exitment_4 = pd.concat([with_exitment_4, temp_dataset_5], ignore_index = True)"
   ]
  },
  {
   "cell_type": "markdown",
   "metadata": {},
   "source": [
    "### 5 человек"
   ]
  },
  {
   "cell_type": "code",
   "execution_count": 28,
   "metadata": {},
   "outputs": [],
   "source": [
    "with_exitment_5 = pd.DataFrame(columns = [\"sender_name\", \"sender_id\", \"emotion_sent\", \"reciever_name\", \n",
    "                                          \"emotion_recieved\"])\n",
    "\n",
    "for number in deviations_5:\n",
    "    \n",
    "    temp_df_1 = df_1[(df_1.number >= number) & (df_1.number <= number + 100) & \n",
    "                     (df_1.emotion != base_emotion_1_1) & (df_1.emotion != base_emotion_1_2) &\n",
    "                     (pd.notnull(df_1.emotion))]\n",
    "    temp_df_2 = df_2[(df_2.number >= number) & (df_2.number <= number + 100) & \n",
    "                     (df_2.emotion != base_emotion_2) & (pd.notnull(df_2.emotion))]\n",
    "    temp_df_3 = df_3[(df_3.number >= number) & (df_3.number <= number + 100) & \n",
    "                     (df_3.emotion != base_emotion_3_1) & (df_3.emotion != base_emotion_3_2) & \n",
    "                     (df_3.emotion != base_emotion_3_3) & (pd.notnull(df_3.emotion))]\n",
    "    temp_df_4 = df_4[(df_4.number >= number) & (df_4.number <= number + 100) & \n",
    "                     (df_4.emotion != base_emotion_4) & (pd.notnull(df_4.emotion))]\n",
    "    \n",
    "    emotion_sent = df_5.loc[number - 1, \"emotion_mapped\"]\n",
    "    sender_name = name_5\n",
    "    \n",
    "    if len(temp_df_1) != 0:\n",
    "        recieved = temp_df_1.iloc[:, 2].value_counts()\n",
    "        recieved_emotion = recieved[recieved == recieved.max()].index[0]\n",
    "        temp_dataset_1 = pd.DataFrame(data = {\"sender_name\": sender_name, \n",
    "                                              \"sender_id\": number, \n",
    "                                              \"emotion_sent\": emotion_sent,\n",
    "                                              \"reciever_name\": name_1, \n",
    "                                              \"emotion_recieved\": recieved_emotion}, index = [0])\n",
    "        with_exitment_5 = pd.concat([with_exitment_5, temp_dataset_1], ignore_index = True)\n",
    "\n",
    "    if len(temp_df_2) != 0:\n",
    "        recieved = temp_df_2.iloc[:, 2].value_counts()\n",
    "        recieved_emotion = recieved[recieved == recieved.max()].index[0]\n",
    "        temp_dataset_2 = pd.DataFrame(data = {\"sender_name\": sender_name,\n",
    "                                              \"sender_id\": number,\n",
    "                                              \"emotion_sent\": emotion_sent,\n",
    "                                              \"reciever_name\": name_2,\n",
    "                                              \"emotion_recieved\": recieved_emotion}, index = [0])\n",
    "        with_exitment_5 = pd.concat([with_exitment_5, temp_dataset_2], ignore_index = True)\n",
    "        \n",
    "    if len(temp_df_3) != 0:\n",
    "        recieved = temp_df_3.iloc[:, 2].value_counts()\n",
    "        recieved_emotion = recieved[recieved == recieved.max()].index[0]\n",
    "        temp_dataset_3 = pd.DataFrame(data = {\"sender_name\": sender_name,\n",
    "                                              \"sender_id\": number,\n",
    "                                              \"emotion_sent\": emotion_sent,\n",
    "                                              \"reciever_name\": name_3,\n",
    "                                              \"emotion_recieved\": recieved_emotion}, index = [0])\n",
    "        with_exitment_5 = pd.concat([with_exitment_5, temp_dataset_3], ignore_index = True)\n",
    "        \n",
    "    if len(temp_df_4) != 0:\n",
    "        recieved = temp_df_4.iloc[:, 2].value_counts()\n",
    "        recieved_emotion = recieved[recieved == recieved.max()].index[0]\n",
    "        temp_dataset_4 = pd.DataFrame(data = {\"sender_name\": sender_name,\n",
    "                                              \"sender_id\": number,\n",
    "                                              \"emotion_sent\": emotion_sent,\n",
    "                                              \"reciever_name\": name_4,\n",
    "                                              \"emotion_recieved\": recieved_emotion}, index = [0])\n",
    "        with_exitment_5 = pd.concat([with_exitment_5, temp_dataset_4], ignore_index = True)"
   ]
  },
  {
   "cell_type": "markdown",
   "metadata": {},
   "source": [
    "### Объединяем таблицы и сортируем"
   ]
  },
  {
   "cell_type": "code",
   "execution_count": 29,
   "metadata": {},
   "outputs": [
    {
     "data": {
      "text/html": [
       "<div>\n",
       "<style scoped>\n",
       "    .dataframe tbody tr th:only-of-type {\n",
       "        vertical-align: middle;\n",
       "    }\n",
       "\n",
       "    .dataframe tbody tr th {\n",
       "        vertical-align: top;\n",
       "    }\n",
       "\n",
       "    .dataframe thead th {\n",
       "        text-align: right;\n",
       "    }\n",
       "</style>\n",
       "<table border=\"1\" class=\"dataframe\">\n",
       "  <thead>\n",
       "    <tr style=\"text-align: right;\">\n",
       "      <th></th>\n",
       "      <th>emotion_recieved</th>\n",
       "      <th>emotion_sent</th>\n",
       "      <th>reciever_name</th>\n",
       "      <th>sender_id</th>\n",
       "      <th>sender_name</th>\n",
       "    </tr>\n",
       "  </thead>\n",
       "  <tbody>\n",
       "    <tr>\n",
       "      <th>0</th>\n",
       "      <td>positive</td>\n",
       "      <td>base</td>\n",
       "      <td>polina</td>\n",
       "      <td>14200</td>\n",
       "      <td>dima</td>\n",
       "    </tr>\n",
       "    <tr>\n",
       "      <th>1</th>\n",
       "      <td>positive</td>\n",
       "      <td>NaN</td>\n",
       "      <td>polina</td>\n",
       "      <td>14363</td>\n",
       "      <td>dima</td>\n",
       "    </tr>\n",
       "    <tr>\n",
       "      <th>2</th>\n",
       "      <td>negative</td>\n",
       "      <td>NaN</td>\n",
       "      <td>zhenya</td>\n",
       "      <td>14363</td>\n",
       "      <td>dima</td>\n",
       "    </tr>\n",
       "    <tr>\n",
       "      <th>3</th>\n",
       "      <td>positive</td>\n",
       "      <td>base</td>\n",
       "      <td>ilya</td>\n",
       "      <td>16529</td>\n",
       "      <td>dima</td>\n",
       "    </tr>\n",
       "    <tr>\n",
       "      <th>4</th>\n",
       "      <td>positive</td>\n",
       "      <td>base</td>\n",
       "      <td>polina</td>\n",
       "      <td>16529</td>\n",
       "      <td>dima</td>\n",
       "    </tr>\n",
       "    <tr>\n",
       "      <th>...</th>\n",
       "      <td>...</td>\n",
       "      <td>...</td>\n",
       "      <td>...</td>\n",
       "      <td>...</td>\n",
       "      <td>...</td>\n",
       "    </tr>\n",
       "    <tr>\n",
       "      <th>5523</th>\n",
       "      <td>positive</td>\n",
       "      <td>positive</td>\n",
       "      <td>ilya</td>\n",
       "      <td>51030</td>\n",
       "      <td>zhenya</td>\n",
       "    </tr>\n",
       "    <tr>\n",
       "      <th>5524</th>\n",
       "      <td>positive</td>\n",
       "      <td>positive</td>\n",
       "      <td>ilya</td>\n",
       "      <td>51032</td>\n",
       "      <td>zhenya</td>\n",
       "    </tr>\n",
       "    <tr>\n",
       "      <th>5525</th>\n",
       "      <td>positive</td>\n",
       "      <td>positive</td>\n",
       "      <td>ilya</td>\n",
       "      <td>51185</td>\n",
       "      <td>zhenya</td>\n",
       "    </tr>\n",
       "    <tr>\n",
       "      <th>5526</th>\n",
       "      <td>positive</td>\n",
       "      <td>positive</td>\n",
       "      <td>ilya</td>\n",
       "      <td>51213</td>\n",
       "      <td>zhenya</td>\n",
       "    </tr>\n",
       "    <tr>\n",
       "      <th>5527</th>\n",
       "      <td>positive</td>\n",
       "      <td>positive</td>\n",
       "      <td>ilya</td>\n",
       "      <td>51223</td>\n",
       "      <td>zhenya</td>\n",
       "    </tr>\n",
       "  </tbody>\n",
       "</table>\n",
       "<p>5528 rows × 5 columns</p>\n",
       "</div>"
      ],
      "text/plain": [
       "     emotion_recieved emotion_sent reciever_name sender_id sender_name\n",
       "0            positive         base        polina     14200        dima\n",
       "1            positive          NaN        polina     14363        dima\n",
       "2            negative          NaN        zhenya     14363        dima\n",
       "3            positive         base          ilya     16529        dima\n",
       "4            positive         base        polina     16529        dima\n",
       "...               ...          ...           ...       ...         ...\n",
       "5523         positive     positive          ilya     51030      zhenya\n",
       "5524         positive     positive          ilya     51032      zhenya\n",
       "5525         positive     positive          ilya     51185      zhenya\n",
       "5526         positive     positive          ilya     51213      zhenya\n",
       "5527         positive     positive          ilya     51223      zhenya\n",
       "\n",
       "[5528 rows x 5 columns]"
      ]
     },
     "execution_count": 29,
     "metadata": {},
     "output_type": "execute_result"
    }
   ],
   "source": [
    "union_table = pd.concat([with_exitment_1, with_exitment_2, with_exitment_3, with_exitment_4, with_exitment_5], \n",
    "          sort = True, ignore_index = True)\n",
    "union_table"
   ]
  },
  {
   "cell_type": "markdown",
   "metadata": {},
   "source": [
    "#### Получил и отправил одинаковые эмоции"
   ]
  },
  {
   "cell_type": "code",
   "execution_count": 30,
   "metadata": {},
   "outputs": [
    {
     "data": {
      "text/html": [
       "<div>\n",
       "<style scoped>\n",
       "    .dataframe tbody tr th:only-of-type {\n",
       "        vertical-align: middle;\n",
       "    }\n",
       "\n",
       "    .dataframe tbody tr th {\n",
       "        vertical-align: top;\n",
       "    }\n",
       "\n",
       "    .dataframe thead th {\n",
       "        text-align: right;\n",
       "    }\n",
       "</style>\n",
       "<table border=\"1\" class=\"dataframe\">\n",
       "  <thead>\n",
       "    <tr style=\"text-align: right;\">\n",
       "      <th></th>\n",
       "      <th>emotion_recieved</th>\n",
       "      <th>emotion_sent</th>\n",
       "      <th>reciever_name</th>\n",
       "      <th>sender_id</th>\n",
       "      <th>sender_name</th>\n",
       "    </tr>\n",
       "  </thead>\n",
       "  <tbody>\n",
       "    <tr>\n",
       "      <th>448</th>\n",
       "      <td>negative</td>\n",
       "      <td>negative</td>\n",
       "      <td>polina</td>\n",
       "      <td>2847</td>\n",
       "      <td>dima_k</td>\n",
       "    </tr>\n",
       "    <tr>\n",
       "      <th>449</th>\n",
       "      <td>positive</td>\n",
       "      <td>positive</td>\n",
       "      <td>ilya</td>\n",
       "      <td>2849</td>\n",
       "      <td>dima_k</td>\n",
       "    </tr>\n",
       "    <tr>\n",
       "      <th>451</th>\n",
       "      <td>positive</td>\n",
       "      <td>positive</td>\n",
       "      <td>ilya</td>\n",
       "      <td>2850</td>\n",
       "      <td>dima_k</td>\n",
       "    </tr>\n",
       "    <tr>\n",
       "      <th>453</th>\n",
       "      <td>positive</td>\n",
       "      <td>positive</td>\n",
       "      <td>ilya</td>\n",
       "      <td>2866</td>\n",
       "      <td>dima_k</td>\n",
       "    </tr>\n",
       "    <tr>\n",
       "      <th>455</th>\n",
       "      <td>positive</td>\n",
       "      <td>positive</td>\n",
       "      <td>ilya</td>\n",
       "      <td>2868</td>\n",
       "      <td>dima_k</td>\n",
       "    </tr>\n",
       "    <tr>\n",
       "      <th>...</th>\n",
       "      <td>...</td>\n",
       "      <td>...</td>\n",
       "      <td>...</td>\n",
       "      <td>...</td>\n",
       "      <td>...</td>\n",
       "    </tr>\n",
       "    <tr>\n",
       "      <th>5523</th>\n",
       "      <td>positive</td>\n",
       "      <td>positive</td>\n",
       "      <td>ilya</td>\n",
       "      <td>51030</td>\n",
       "      <td>zhenya</td>\n",
       "    </tr>\n",
       "    <tr>\n",
       "      <th>5524</th>\n",
       "      <td>positive</td>\n",
       "      <td>positive</td>\n",
       "      <td>ilya</td>\n",
       "      <td>51032</td>\n",
       "      <td>zhenya</td>\n",
       "    </tr>\n",
       "    <tr>\n",
       "      <th>5525</th>\n",
       "      <td>positive</td>\n",
       "      <td>positive</td>\n",
       "      <td>ilya</td>\n",
       "      <td>51185</td>\n",
       "      <td>zhenya</td>\n",
       "    </tr>\n",
       "    <tr>\n",
       "      <th>5526</th>\n",
       "      <td>positive</td>\n",
       "      <td>positive</td>\n",
       "      <td>ilya</td>\n",
       "      <td>51213</td>\n",
       "      <td>zhenya</td>\n",
       "    </tr>\n",
       "    <tr>\n",
       "      <th>5527</th>\n",
       "      <td>positive</td>\n",
       "      <td>positive</td>\n",
       "      <td>ilya</td>\n",
       "      <td>51223</td>\n",
       "      <td>zhenya</td>\n",
       "    </tr>\n",
       "  </tbody>\n",
       "</table>\n",
       "<p>2731 rows × 5 columns</p>\n",
       "</div>"
      ],
      "text/plain": [
       "     emotion_recieved emotion_sent reciever_name sender_id sender_name\n",
       "448          negative     negative        polina      2847      dima_k\n",
       "449          positive     positive          ilya      2849      dima_k\n",
       "451          positive     positive          ilya      2850      dima_k\n",
       "453          positive     positive          ilya      2866      dima_k\n",
       "455          positive     positive          ilya      2868      dima_k\n",
       "...               ...          ...           ...       ...         ...\n",
       "5523         positive     positive          ilya     51030      zhenya\n",
       "5524         positive     positive          ilya     51032      zhenya\n",
       "5525         positive     positive          ilya     51185      zhenya\n",
       "5526         positive     positive          ilya     51213      zhenya\n",
       "5527         positive     positive          ilya     51223      zhenya\n",
       "\n",
       "[2731 rows x 5 columns]"
      ]
     },
     "execution_count": 30,
     "metadata": {},
     "output_type": "execute_result"
    }
   ],
   "source": [
    "union_similar = union_table[union_table.emotion_recieved == union_table.emotion_sent]\n",
    "union_similar"
   ]
  },
  {
   "cell_type": "markdown",
   "metadata": {},
   "source": [
    "#### Человек, который больше всего заражал эмоциями"
   ]
  },
  {
   "cell_type": "code",
   "execution_count": 31,
   "metadata": {},
   "outputs": [
    {
     "data": {
      "text/plain": [
       "sender_name\n",
       "polina    1286\n",
       "ilya       784\n",
       "zhenya     581\n",
       "dima_k      80\n",
       "Name: sender_id, dtype: int64"
      ]
     },
     "execution_count": 31,
     "metadata": {},
     "output_type": "execute_result"
    }
   ],
   "source": [
    "max_emotion_sent = union_similar.groupby([\"sender_name\"]).count()[\"sender_id\"]\n",
    "max_emotion_sent.sort_values(ascending = False)"
   ]
  },
  {
   "cell_type": "code",
   "execution_count": 44,
   "metadata": {},
   "outputs": [
    {
     "data": {
      "text/plain": [
       "sender_name\n",
       "dima_k     3.0\n",
       "ilya      29.0\n",
       "polina    47.0\n",
       "zhenya    21.0\n",
       "Name: sender_id, dtype: float64"
      ]
     },
     "execution_count": 44,
     "metadata": {},
     "output_type": "execute_result"
    }
   ],
   "source": [
    "round(max_emotion_sent / len(union_similar) * 100)"
   ]
  },
  {
   "cell_type": "markdown",
   "metadata": {},
   "source": [
    "#### Человек, который больше всего принимал эмоции других"
   ]
  },
  {
   "cell_type": "code",
   "execution_count": 32,
   "metadata": {},
   "outputs": [
    {
     "data": {
      "text/plain": [
       "reciever_name\n",
       "ilya      959\n",
       "polina    828\n",
       "zhenya    576\n",
       "dima_k    303\n",
       "dima       65\n",
       "Name: sender_id, dtype: int64"
      ]
     },
     "execution_count": 32,
     "metadata": {},
     "output_type": "execute_result"
    }
   ],
   "source": [
    "max_emotion_recieved = union_similar.groupby([\"reciever_name\"]).count()[\"sender_id\"]\n",
    "max_emotion_recieved.sort_values(ascending = False)"
   ]
  },
  {
   "cell_type": "markdown",
   "metadata": {},
   "source": [
    "### Устойчивые пары"
   ]
  },
  {
   "cell_type": "code",
   "execution_count": 33,
   "metadata": {},
   "outputs": [
    {
     "data": {
      "text/html": [
       "<div>\n",
       "<style scoped>\n",
       "    .dataframe tbody tr th:only-of-type {\n",
       "        vertical-align: middle;\n",
       "    }\n",
       "\n",
       "    .dataframe tbody tr th {\n",
       "        vertical-align: top;\n",
       "    }\n",
       "\n",
       "    .dataframe thead th {\n",
       "        text-align: right;\n",
       "    }\n",
       "</style>\n",
       "<table border=\"1\" class=\"dataframe\">\n",
       "  <thead>\n",
       "    <tr style=\"text-align: right;\">\n",
       "      <th></th>\n",
       "      <th>emotion_recieved</th>\n",
       "      <th>emotion_sent</th>\n",
       "      <th>reciever_name</th>\n",
       "      <th>sender_id</th>\n",
       "      <th>sender_name</th>\n",
       "    </tr>\n",
       "  </thead>\n",
       "  <tbody>\n",
       "    <tr>\n",
       "      <th>448</th>\n",
       "      <td>negative</td>\n",
       "      <td>negative</td>\n",
       "      <td>polina</td>\n",
       "      <td>2847</td>\n",
       "      <td>dima_k</td>\n",
       "    </tr>\n",
       "    <tr>\n",
       "      <th>449</th>\n",
       "      <td>positive</td>\n",
       "      <td>positive</td>\n",
       "      <td>ilya</td>\n",
       "      <td>2849</td>\n",
       "      <td>dima_k</td>\n",
       "    </tr>\n",
       "    <tr>\n",
       "      <th>451</th>\n",
       "      <td>positive</td>\n",
       "      <td>positive</td>\n",
       "      <td>ilya</td>\n",
       "      <td>2850</td>\n",
       "      <td>dima_k</td>\n",
       "    </tr>\n",
       "    <tr>\n",
       "      <th>453</th>\n",
       "      <td>positive</td>\n",
       "      <td>positive</td>\n",
       "      <td>ilya</td>\n",
       "      <td>2866</td>\n",
       "      <td>dima_k</td>\n",
       "    </tr>\n",
       "    <tr>\n",
       "      <th>455</th>\n",
       "      <td>positive</td>\n",
       "      <td>positive</td>\n",
       "      <td>ilya</td>\n",
       "      <td>2868</td>\n",
       "      <td>dima_k</td>\n",
       "    </tr>\n",
       "    <tr>\n",
       "      <th>...</th>\n",
       "      <td>...</td>\n",
       "      <td>...</td>\n",
       "      <td>...</td>\n",
       "      <td>...</td>\n",
       "      <td>...</td>\n",
       "    </tr>\n",
       "    <tr>\n",
       "      <th>5523</th>\n",
       "      <td>positive</td>\n",
       "      <td>positive</td>\n",
       "      <td>ilya</td>\n",
       "      <td>51030</td>\n",
       "      <td>zhenya</td>\n",
       "    </tr>\n",
       "    <tr>\n",
       "      <th>5524</th>\n",
       "      <td>positive</td>\n",
       "      <td>positive</td>\n",
       "      <td>ilya</td>\n",
       "      <td>51032</td>\n",
       "      <td>zhenya</td>\n",
       "    </tr>\n",
       "    <tr>\n",
       "      <th>5525</th>\n",
       "      <td>positive</td>\n",
       "      <td>positive</td>\n",
       "      <td>ilya</td>\n",
       "      <td>51185</td>\n",
       "      <td>zhenya</td>\n",
       "    </tr>\n",
       "    <tr>\n",
       "      <th>5526</th>\n",
       "      <td>positive</td>\n",
       "      <td>positive</td>\n",
       "      <td>ilya</td>\n",
       "      <td>51213</td>\n",
       "      <td>zhenya</td>\n",
       "    </tr>\n",
       "    <tr>\n",
       "      <th>5527</th>\n",
       "      <td>positive</td>\n",
       "      <td>positive</td>\n",
       "      <td>ilya</td>\n",
       "      <td>51223</td>\n",
       "      <td>zhenya</td>\n",
       "    </tr>\n",
       "  </tbody>\n",
       "</table>\n",
       "<p>2731 rows × 5 columns</p>\n",
       "</div>"
      ],
      "text/plain": [
       "     emotion_recieved emotion_sent reciever_name sender_id sender_name\n",
       "448          negative     negative        polina      2847      dima_k\n",
       "449          positive     positive          ilya      2849      dima_k\n",
       "451          positive     positive          ilya      2850      dima_k\n",
       "453          positive     positive          ilya      2866      dima_k\n",
       "455          positive     positive          ilya      2868      dima_k\n",
       "...               ...          ...           ...       ...         ...\n",
       "5523         positive     positive          ilya     51030      zhenya\n",
       "5524         positive     positive          ilya     51032      zhenya\n",
       "5525         positive     positive          ilya     51185      zhenya\n",
       "5526         positive     positive          ilya     51213      zhenya\n",
       "5527         positive     positive          ilya     51223      zhenya\n",
       "\n",
       "[2731 rows x 5 columns]"
      ]
     },
     "execution_count": 33,
     "metadata": {},
     "output_type": "execute_result"
    }
   ],
   "source": [
    "union_similar"
   ]
  },
  {
   "cell_type": "code",
   "execution_count": 34,
   "metadata": {},
   "outputs": [
    {
     "data": {
      "text/plain": [
       "sender_name  reciever_name  emotion_sent\n",
       "dima_k       ilya           positive         26\n",
       "             polina         negative          2\n",
       "                            positive         49\n",
       "             zhenya         positive          3\n",
       "ilya         dima           negative          5\n",
       "                            positive          9\n",
       "             dima_k         positive         52\n",
       "             polina         positive        515\n",
       "             zhenya         negative          7\n",
       "                            positive        196\n",
       "polina       dima           negative         21\n",
       "                            positive         17\n",
       "             dima_k         negative          2\n",
       "                            positive        230\n",
       "             ilya           negative          9\n",
       "                            positive        637\n",
       "             zhenya         negative        138\n",
       "                            positive        232\n",
       "zhenya       dima           negative         13\n",
       "             dima_k         positive         19\n",
       "             ilya           negative          8\n",
       "                            positive        279\n",
       "             polina         negative         98\n",
       "                            positive        164\n",
       "Name: emotion_recieved, dtype: int64"
      ]
     },
     "execution_count": 34,
     "metadata": {},
     "output_type": "execute_result"
    }
   ],
   "source": [
    "union_similar.groupby([\"sender_name\", \"reciever_name\", \"emotion_sent\"]).count()[\"emotion_recieved\"]"
   ]
  },
  {
   "cell_type": "markdown",
   "metadata": {},
   "source": [
    "### Гистограммы"
   ]
  },
  {
   "cell_type": "code",
   "execution_count": 35,
   "metadata": {},
   "outputs": [],
   "source": [
    "import matplotlib.pyplot as plt"
   ]
  },
  {
   "cell_type": "markdown",
   "metadata": {},
   "source": [
    "#### Только позитивные и только негативные эмоции"
   ]
  },
  {
   "cell_type": "code",
   "execution_count": 36,
   "metadata": {},
   "outputs": [],
   "source": [
    "all_positive = union_similar[union_similar.emotion_sent == \"positive\"]\n",
    "all_negative = union_similar[union_similar.emotion_sent == \"negative\"]"
   ]
  },
  {
   "cell_type": "code",
   "execution_count": 47,
   "metadata": {},
   "outputs": [
    {
     "name": "stdout",
     "output_type": "stream",
     "text": [
      "0.02146336288818366\n",
      "0.015076126977808737\n"
     ]
    }
   ],
   "source": [
    "positive_emotions = [\"neutral\", \"surprise\", \"happy\"]\n",
    "negative_emotions = [\"fear\", \"sad\", \"angry\"]\n",
    "\n",
    "positive_count = len(df_1[df_1.emotion.isin(positive_emotions)]) + len(df_2[df_2.emotion.isin(positive_emotions)]) + len(df_3[df_3.emotion.isin(positive_emotions)]) + len(df_4[df_4.emotion.isin(positive_emotions)]) + len(df_5[df_5.emotion.isin(positive_emotions)])\n",
    "negative_count = len(df_1[df_1.emotion.isin(negative_emotions)]) + len(df_2[df_2.emotion.isin(negative_emotions)]) + len(df_3[df_3.emotion.isin(negative_emotions)]) + len(df_4[df_4.emotion.isin(negative_emotions)]) + len(df_5[df_5.emotion.isin(negative_emotions)])\n",
    "print(len(all_positive) / positive_count)\n",
    "print(len(all_negative) / negative_count)\n"
   ]
  },
  {
   "cell_type": "markdown",
   "metadata": {},
   "source": [
    "#### Стадии"
   ]
  },
  {
   "cell_type": "code",
   "execution_count": 37,
   "metadata": {},
   "outputs": [],
   "source": [
    "stage_1 = 25440\n",
    "stage_2 = 26880\n",
    "stage_3 = 35400\n",
    "stage_4 = 39474"
   ]
  },
  {
   "cell_type": "markdown",
   "metadata": {},
   "source": [
    "#### Для негативных эмоций"
   ]
  },
  {
   "cell_type": "code",
   "execution_count": 38,
   "metadata": {},
   "outputs": [
    {
     "data": {
      "image/png": "[encoded data removed]",
      "text/plain": [
       "<Figure size 1440x1584 with 20 Axes>"
      ]
     },
     "metadata": {
      "needs_background": "light"
     },
     "output_type": "display_data"
    }
   ],
   "source": [
    "figsize = (20, 22)\n",
    "fig, axes = plt.subplots(nrows = 5, ncols = 4, figsize = figsize)\n",
    "\n",
    "# максимальное количество строк в датасетах\n",
    "count_elements = max([len(df_1), len(df_2), len(df_3), len(df_4), len(df_5)])\n",
    "# индекс отправителей\n",
    "sender_index = {name_1: 0, name_2: 1, name_3: 2, name_4: 3, name_5: 4}\n",
    "# отправители\n",
    "senders = [name_1, name_2, name_3, name_4, name_5]"
   ]
  },
  {
   "cell_type": "code",
   "execution_count": 39,
   "metadata": {},
   "outputs": [
    {
     "data": {
      "image/png": "[encoded data removed]",
      "text/plain": [
       "<Figure size 1440x1584 with 20 Axes>"
      ]
     },
     "execution_count": 39,
     "metadata": {},
     "output_type": "execute_result"
    }
   ],
   "source": [
    "for sender_name in senders:\n",
    "    sender = sender_name\n",
    "    recievers = [name_1, name_2, name_3, name_4, name_5]\n",
    "    recievers.remove(sender)\n",
    "\n",
    "    for reciever in recievers:\n",
    "        if reciever != sender:\n",
    "            negative = all_negative[(all_negative.sender_name == sender) & (all_negative.reciever_name == reciever)][\"sender_id\"]\n",
    "            negative_grid = pd.Series([0 for x in range(1, count_elements + 1)])\n",
    "\n",
    "            for i in negative_grid.index:\n",
    "                if i in negative.values:\n",
    "                    negative_grid[i] = 1\n",
    "\n",
    "            negative_grid = negative_grid[1:]\n",
    "\n",
    "            # нужно исправить логику деления на стадии\n",
    "            hist_negative = pd.DataFrame(negative_grid, columns = [\"contageon\"])\n",
    "            hist_negative[\"stage\"] = 1\n",
    "            hist_negative.loc[0: stage_1, \"stage\"] = 1\n",
    "            hist_negative.loc[stage_1 + 1:stage_2, \"stage\"] = 2\n",
    "            hist_negative.loc[stage_2 + 1:stage_3, \"stage\"] = 3\n",
    "            hist_negative.loc[stage_3 + 1:stage_4, \"stage\"] = 4\n",
    "\n",
    "            # Делим на части\n",
    "            parts_number = 10\n",
    "            part_name = 1\n",
    "            count_rows = 0\n",
    "            multiplier = 1\n",
    "            partition = round(len(hist_negative) / parts_number)\n",
    "\n",
    "            hist_negative[\"part\"] = 1\n",
    "\n",
    "            while count_rows <= len(hist_negative):\n",
    "                hist_negative.loc[count_rows:partition * multiplier, \"part\"] = part_name\n",
    "                count_rows += partition\n",
    "                multiplier += 1\n",
    "                part_name += 1\n",
    "\n",
    "            hist_data = hist_negative.groupby([\"part\", \"stage\"]).sum()\n",
    "            hist_data.plot(ax = axes[sender_index[sender], recievers.index(reciever)], kind = \"bar\", \n",
    "                           color = \"blue\", sharex = True, sharey = True, title = reciever, grid = True, legend = False)\n",
    "            axes[sender_index[sender], recievers.index(reciever)].set_ylabel(sender)\n",
    "fig"
   ]
  },
  {
   "cell_type": "markdown",
   "metadata": {},
   "source": [
    "#### Для позитивных эмоций"
   ]
  },
  {
   "cell_type": "code",
   "execution_count": 40,
   "metadata": {},
   "outputs": [
    {
     "data": {
      "image/png": "[encoded data removed]",
      "text/plain": [
       "<Figure size 1440x1584 with 20 Axes>"
      ]
     },
     "metadata": {
      "needs_background": "light"
     },
     "output_type": "display_data"
    }
   ],
   "source": [
    "figsize = (20, 22)\n",
    "fig, axes = plt.subplots(nrows = 5, ncols = 4, figsize = figsize)\n",
    "\n",
    "# максимальное количество строк в датасетах\n",
    "count_elements = max([len(df_1), len(df_2), len(df_3), len(df_4), len(df_5)])\n",
    "# индекс отправителей\n",
    "sender_index = {name_1: 0, name_2: 1, name_3: 2, name_4: 3, name_5: 4}\n",
    "# отправители\n",
    "senders = [name_1, name_2, name_3, name_4, name_5]"
   ]
  },
  {
   "cell_type": "code",
   "execution_count": 41,
   "metadata": {},
   "outputs": [
    {
     "data": {
      "image/png": "[encoded data removed]",
      "text/plain": [
       "<Figure size 1440x1584 with 20 Axes>"
      ]
     },
     "execution_count": 41,
     "metadata": {},
     "output_type": "execute_result"
    }
   ],
   "source": [
    "for sender_name in senders:\n",
    "    sender = sender_name\n",
    "    recievers = [name_1, name_2, name_3, name_4, name_5]\n",
    "    recievers.remove(sender)\n",
    "\n",
    "    for reciever in recievers:\n",
    "        if reciever != sender:\n",
    "            negative = all_positive[(all_positive.sender_name == sender) & (all_positive.reciever_name == reciever)][\"sender_id\"]\n",
    "            negative_grid = pd.Series([0 for x in range(1, count_elements + 1)])\n",
    "\n",
    "            for i in negative_grid.index:\n",
    "                if i in negative.values:\n",
    "                    negative_grid[i ] = 1\n",
    "\n",
    "            negative_grid = negative_grid[1:]\n",
    "\n",
    "            # нужно исправить логику деления на стадии\n",
    "            hist_negative = pd.DataFrame(negative_grid, columns = [\"contageon\"])\n",
    "            hist_negative[\"stage\"] = 1\n",
    "            hist_negative.loc[0: stage_1, \"stage\"] = 1\n",
    "            hist_negative.loc[stage_1 + 1:stage_2, \"stage\"] = 2\n",
    "            hist_negative.loc[stage_2 + 1:stage_3, \"stage\"] = 3\n",
    "            hist_negative.loc[stage_3 + 1:stage_4, \"stage\"] = 4\n",
    "\n",
    "            # Делим на части\n",
    "            parts_number = 10\n",
    "            part_name = 1\n",
    "            count_rows = 0\n",
    "            multiplier = 1\n",
    "            partition = round(len(hist_negative) / parts_number)\n",
    "\n",
    "            hist_negative[\"part\"] = 1\n",
    "\n",
    "            while count_rows <= len(hist_negative):\n",
    "                hist_negative.loc[count_rows:partition * multiplier, \"part\"] = part_name\n",
    "                count_rows += partition\n",
    "                multiplier += 1\n",
    "                part_name += 1\n",
    "\n",
    "            hist_data = hist_negative.groupby([\"part\", \"stage\"]).sum()\n",
    "            hist_data.plot(ax = axes[sender_index[sender], recievers.index(reciever)], kind = \"bar\", \n",
    "                           color = \"blue\", sharex = True, sharey = True, title = reciever, grid = True, legend = False)\n",
    "            axes[sender_index[sender], recievers.index(reciever)].set_ylabel(sender)\n",
    "fig"
   ]
  },
  {
   "cell_type": "markdown",
   "metadata": {},
   "source": [
    "#### Общая гистограмма"
   ]
  },
  {
   "cell_type": "code",
   "execution_count": 42,
   "metadata": {},
   "outputs": [
    {
     "data": {
      "text/plain": [
       "Text(0.5, 0, 'Стадии обсуждения')"
      ]
     },
     "execution_count": 42,
     "metadata": {},
     "output_type": "execute_result"
    },
    {
     "data": {
      "image/png": "[encoded data removed]",
      "text/plain": [
       "<Figure size 432x288 with 1 Axes>"
      ]
     },
     "metadata": {
      "needs_background": "light"
     },
     "output_type": "display_data"
    }
   ],
   "source": [
    "# Сначала нужно разделить на фазы общий датасет\n",
    "\n",
    "hist_union = union_similar.copy()\n",
    "\n",
    "hist_union[\"stage\"] = 1\n",
    "hist_union.loc[(hist_union[\"sender_id\"].astype(int) > stage_1) & (hist_union[\"sender_id\"].astype(int) <= stage_2), \"stage\"] = 2\n",
    "hist_union.loc[(hist_union[\"sender_id\"].astype(int) > stage_2) & (hist_union[\"sender_id\"].astype(int) <= stage_3), \"stage\"] = 3\n",
    "hist_union.loc[(hist_union[\"sender_id\"].astype(int) > stage_3), \"stage\"] = 4\n",
    "\n",
    "hist_union_grouped = hist_union.groupby([\"stage\", \"emotion_sent\"]).count()\n",
    "hist_union_grouped_plot = hist_union_grouped[\"emotion_recieved\"].plot(kind = \"bar\")\n",
    "hist_union_grouped_plot.set_ylabel(\"Количество заражений\")\n",
    "hist_union_grouped_plot.set_xlabel(\"Стадии обсуждения\")\n"
   ]
  },
  {
   "cell_type": "markdown",
   "metadata": {},
   "source": [
    "#### Сколько в среднем происходит заражений по фазам и эмоциям"
   ]
  },
  {
   "cell_type": "code",
   "execution_count": 46,
   "metadata": {},
   "outputs": [
    {
     "data": {
      "text/plain": [
       "sender_name  emotion_sent\n",
       "dima_k       negative        1.000000\n",
       "             positive        1.040000\n",
       "ilya         negative        1.000000\n",
       "             positive        1.117221\n",
       "polina       negative        1.030303\n",
       "             positive        1.152893\n",
       "zhenya       negative        1.000000\n",
       "             positive        1.206266\n",
       "Name: count, dtype: float64"
      ]
     },
     "execution_count": 46,
     "metadata": {},
     "output_type": "execute_result"
    }
   ],
   "source": [
    "hist_union[\"count\"] = 1\n",
    "hist_union_grouped = hist_union.groupby([\"sender_id\", \"sender_name\", \"emotion_sent\"]).sum().reset_index()\n",
    "\n",
    "hist_union_grouped.groupby([\"sender_name\", \"emotion_sent\"]).mean().astype(float)[\"count\"]\n",
    "#hist_union_grouped = hist_union.groupby([\"stage\", \"sender_name\", \"emotion_sent\"]).agg({\"count\": mean})"
   ]
  },
  {
   "cell_type": "code",
   "execution_count": null,
   "metadata": {},
   "outputs": [],
   "source": []
  }
 ],
 "metadata": {
  "kernelspec": {
   "display_name": "Python 3",
   "language": "python",
   "name": "python3"
  },
  "language_info": {
   "codemirror_mode": {
    "name": "ipython",
    "version": 3
   },
   "file_extension": ".py",
   "mimetype": "text/x-python",
   "name": "python",
   "nbconvert_exporter": "python",
   "pygments_lexer": "ipython3",
   "version": "3.7.6"
  }
 },
 "nbformat": 4,
 "nbformat_minor": 4
}
