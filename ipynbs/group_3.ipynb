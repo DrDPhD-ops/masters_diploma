{
 "cells": [
  {
   "cell_type": "code",
   "execution_count": 1,
   "metadata": {},
   "outputs": [],
   "source": [
    "import pandas as pd\n",
    "import numpy as np"
   ]
  },
  {
   "cell_type": "markdown",
   "metadata": {},
   "source": [
    "### Файлы для обработки"
   ]
  },
  {
   "cell_type": "code",
   "execution_count": 2,
   "metadata": {},
   "outputs": [
    {
     "data": {
      "text/plain": [
       "['gosha_k.csv', 'katya_t.csv', 'malika.csv', 'marina_s.csv', 'nikita_b.csv']"
      ]
     },
     "execution_count": 2,
     "metadata": {},
     "output_type": "execute_result"
    }
   ],
   "source": [
    "from os import listdir\n",
    "from os.path import isfile, join\n",
    "\n",
    "\n",
    "data_catalog = \"..//..//Realtime-Emotion-Detection-master//video_emotions_recognized//3_group//\"\n",
    "data_files = [f for f in listdir(data_catalog) if isfile(join(data_catalog, f))]\n",
    "data_files = sorted(data_files)\n",
    "data_files"
   ]
  },
  {
   "cell_type": "markdown",
   "metadata": {},
   "source": [
    "### Имена участников"
   ]
  },
  {
   "cell_type": "code",
   "execution_count": 3,
   "metadata": {},
   "outputs": [],
   "source": [
    "name_1 = \"gosha_k\"\n",
    "name_2 = \"katya_t\"\n",
    "name_3 = \"malika_m\"\n",
    "name_4 = \"marina_s\"\n",
    "name_5 = \"nikita_b\""
   ]
  },
  {
   "cell_type": "markdown",
   "metadata": {},
   "source": [
    "### 1 датасет"
   ]
  },
  {
   "cell_type": "code",
   "execution_count": 4,
   "metadata": {},
   "outputs": [
    {
     "data": {
      "text/html": [
       "<div>\n",
       "<style scoped>\n",
       "    .dataframe tbody tr th:only-of-type {\n",
       "        vertical-align: middle;\n",
       "    }\n",
       "\n",
       "    .dataframe tbody tr th {\n",
       "        vertical-align: top;\n",
       "    }\n",
       "\n",
       "    .dataframe thead th {\n",
       "        text-align: right;\n",
       "    }\n",
       "</style>\n",
       "<table border=\"1\" class=\"dataframe\">\n",
       "  <thead>\n",
       "    <tr style=\"text-align: right;\">\n",
       "      <th></th>\n",
       "      <th>number</th>\n",
       "      <th>emotion</th>\n",
       "    </tr>\n",
       "  </thead>\n",
       "  <tbody>\n",
       "    <tr>\n",
       "      <th>0</th>\n",
       "      <td>1</td>\n",
       "      <td>NaN</td>\n",
       "    </tr>\n",
       "    <tr>\n",
       "      <th>1</th>\n",
       "      <td>2</td>\n",
       "      <td>NaN</td>\n",
       "    </tr>\n",
       "    <tr>\n",
       "      <th>2</th>\n",
       "      <td>3</td>\n",
       "      <td>NaN</td>\n",
       "    </tr>\n",
       "    <tr>\n",
       "      <th>3</th>\n",
       "      <td>4</td>\n",
       "      <td>NaN</td>\n",
       "    </tr>\n",
       "    <tr>\n",
       "      <th>4</th>\n",
       "      <td>5</td>\n",
       "      <td>NaN</td>\n",
       "    </tr>\n",
       "  </tbody>\n",
       "</table>\n",
       "</div>"
      ],
      "text/plain": [
       "   number emotion\n",
       "0       1     NaN\n",
       "1       2     NaN\n",
       "2       3     NaN\n",
       "3       4     NaN\n",
       "4       5     NaN"
      ]
     },
     "execution_count": 4,
     "metadata": {},
     "output_type": "execute_result"
    }
   ],
   "source": [
    "df_1 = pd.read_csv(data_catalog + data_files[0], sep = \"\\t\", names = [\"number\", \"emotion\"])\n",
    "df_1.head()"
   ]
  },
  {
   "cell_type": "markdown",
   "metadata": {},
   "source": [
    "#### Базовая эмоция"
   ]
  },
  {
   "cell_type": "code",
   "execution_count": 5,
   "metadata": {},
   "outputs": [
    {
     "data": {
      "text/plain": [
       "happy      12017\n",
       "neutral     2944\n",
       "fear         130\n",
       "Name: emotion, dtype: int64"
      ]
     },
     "execution_count": 5,
     "metadata": {},
     "output_type": "execute_result"
    }
   ],
   "source": [
    "base_1 = df_1[\"emotion\"].value_counts()\n",
    "base_1"
   ]
  },
  {
   "cell_type": "code",
   "execution_count": 6,
   "metadata": {},
   "outputs": [
    {
     "data": {
      "text/html": [
       "<div>\n",
       "<style scoped>\n",
       "    .dataframe tbody tr th:only-of-type {\n",
       "        vertical-align: middle;\n",
       "    }\n",
       "\n",
       "    .dataframe tbody tr th {\n",
       "        vertical-align: top;\n",
       "    }\n",
       "\n",
       "    .dataframe thead th {\n",
       "        text-align: right;\n",
       "    }\n",
       "</style>\n",
       "<table border=\"1\" class=\"dataframe\">\n",
       "  <thead>\n",
       "    <tr style=\"text-align: right;\">\n",
       "      <th></th>\n",
       "      <th>number</th>\n",
       "      <th>emotion</th>\n",
       "      <th>emotion_mapped</th>\n",
       "    </tr>\n",
       "  </thead>\n",
       "  <tbody>\n",
       "    <tr>\n",
       "      <th>0</th>\n",
       "      <td>1</td>\n",
       "      <td>NaN</td>\n",
       "      <td>NaN</td>\n",
       "    </tr>\n",
       "    <tr>\n",
       "      <th>1</th>\n",
       "      <td>2</td>\n",
       "      <td>NaN</td>\n",
       "      <td>NaN</td>\n",
       "    </tr>\n",
       "    <tr>\n",
       "      <th>2</th>\n",
       "      <td>3</td>\n",
       "      <td>NaN</td>\n",
       "      <td>NaN</td>\n",
       "    </tr>\n",
       "    <tr>\n",
       "      <th>3</th>\n",
       "      <td>4</td>\n",
       "      <td>NaN</td>\n",
       "      <td>NaN</td>\n",
       "    </tr>\n",
       "    <tr>\n",
       "      <th>4</th>\n",
       "      <td>5</td>\n",
       "      <td>NaN</td>\n",
       "      <td>NaN</td>\n",
       "    </tr>\n",
       "  </tbody>\n",
       "</table>\n",
       "</div>"
      ],
      "text/plain": [
       "   number emotion emotion_mapped\n",
       "0       1     NaN            NaN\n",
       "1       2     NaN            NaN\n",
       "2       3     NaN            NaN\n",
       "3       4     NaN            NaN\n",
       "4       5     NaN            NaN"
      ]
     },
     "execution_count": 6,
     "metadata": {},
     "output_type": "execute_result"
    }
   ],
   "source": [
    "base_emotion_1_1 = \"happy\"\n",
    "base_emotion_1_2 = \"neutral\"\n",
    "\n",
    "df_1[\"emotion_mapped\"] = df_1[\"emotion\"].replace([base_emotion_1_1, base_emotion_1_2], \"base\")\n",
    "df_1[\"emotion_mapped\"] = df_1[\"emotion_mapped\"].map({\"neutral\": \"positive\", \"fear\": \"negative\", \n",
    "                                                     \"surprise\": \"positive\", \"happy\": \"positive\", \n",
    "                                                     \"sad\": \"negative\", \"base\": \"base\", \"angry\": \"negative\"})\n",
    "df_1.head()"
   ]
  },
  {
   "cell_type": "markdown",
   "metadata": {},
   "source": [
    "####  Отклонения от базовой эмоции"
   ]
  },
  {
   "cell_type": "code",
   "execution_count": 7,
   "metadata": {},
   "outputs": [],
   "source": [
    "deviations_1 = df_1[(pd.notnull(df_1.emotion)) & (df_1.emotion != base_emotion_1_1) & \n",
    "                    (df_1.emotion != base_emotion_1_2)][\"number\"]\n",
    "deviations_1 = list(deviations_1.values)"
   ]
  },
  {
   "cell_type": "markdown",
   "metadata": {},
   "source": [
    "### 2 датасет"
   ]
  },
  {
   "cell_type": "code",
   "execution_count": 8,
   "metadata": {},
   "outputs": [
    {
     "data": {
      "text/html": [
       "<div>\n",
       "<style scoped>\n",
       "    .dataframe tbody tr th:only-of-type {\n",
       "        vertical-align: middle;\n",
       "    }\n",
       "\n",
       "    .dataframe tbody tr th {\n",
       "        vertical-align: top;\n",
       "    }\n",
       "\n",
       "    .dataframe thead th {\n",
       "        text-align: right;\n",
       "    }\n",
       "</style>\n",
       "<table border=\"1\" class=\"dataframe\">\n",
       "  <thead>\n",
       "    <tr style=\"text-align: right;\">\n",
       "      <th></th>\n",
       "      <th>number</th>\n",
       "      <th>emotion</th>\n",
       "    </tr>\n",
       "  </thead>\n",
       "  <tbody>\n",
       "    <tr>\n",
       "      <th>0</th>\n",
       "      <td>1</td>\n",
       "      <td>NaN</td>\n",
       "    </tr>\n",
       "    <tr>\n",
       "      <th>1</th>\n",
       "      <td>2</td>\n",
       "      <td>NaN</td>\n",
       "    </tr>\n",
       "    <tr>\n",
       "      <th>2</th>\n",
       "      <td>3</td>\n",
       "      <td>NaN</td>\n",
       "    </tr>\n",
       "    <tr>\n",
       "      <th>3</th>\n",
       "      <td>4</td>\n",
       "      <td>NaN</td>\n",
       "    </tr>\n",
       "    <tr>\n",
       "      <th>4</th>\n",
       "      <td>5</td>\n",
       "      <td>NaN</td>\n",
       "    </tr>\n",
       "  </tbody>\n",
       "</table>\n",
       "</div>"
      ],
      "text/plain": [
       "   number emotion\n",
       "0       1     NaN\n",
       "1       2     NaN\n",
       "2       3     NaN\n",
       "3       4     NaN\n",
       "4       5     NaN"
      ]
     },
     "execution_count": 8,
     "metadata": {},
     "output_type": "execute_result"
    }
   ],
   "source": [
    "df_2 = pd.read_csv(data_catalog + data_files[1], sep = \"\\t\", names = [\"number\", \"emotion\"])\n",
    "df_2.head()"
   ]
  },
  {
   "cell_type": "markdown",
   "metadata": {},
   "source": [
    "#### Базовая эмоция"
   ]
  },
  {
   "cell_type": "code",
   "execution_count": 9,
   "metadata": {},
   "outputs": [
    {
     "data": {
      "text/plain": [
       "happy       35318\n",
       "fear          961\n",
       "surprise      539\n",
       "neutral       135\n",
       "Name: emotion, dtype: int64"
      ]
     },
     "execution_count": 9,
     "metadata": {},
     "output_type": "execute_result"
    }
   ],
   "source": [
    "base_2 = df_2[\"emotion\"].value_counts()\n",
    "base_2"
   ]
  },
  {
   "cell_type": "code",
   "execution_count": 10,
   "metadata": {},
   "outputs": [
    {
     "data": {
      "text/html": [
       "<div>\n",
       "<style scoped>\n",
       "    .dataframe tbody tr th:only-of-type {\n",
       "        vertical-align: middle;\n",
       "    }\n",
       "\n",
       "    .dataframe tbody tr th {\n",
       "        vertical-align: top;\n",
       "    }\n",
       "\n",
       "    .dataframe thead th {\n",
       "        text-align: right;\n",
       "    }\n",
       "</style>\n",
       "<table border=\"1\" class=\"dataframe\">\n",
       "  <thead>\n",
       "    <tr style=\"text-align: right;\">\n",
       "      <th></th>\n",
       "      <th>number</th>\n",
       "      <th>emotion</th>\n",
       "      <th>emotion_mapped</th>\n",
       "    </tr>\n",
       "  </thead>\n",
       "  <tbody>\n",
       "    <tr>\n",
       "      <th>0</th>\n",
       "      <td>1</td>\n",
       "      <td>NaN</td>\n",
       "      <td>NaN</td>\n",
       "    </tr>\n",
       "    <tr>\n",
       "      <th>1</th>\n",
       "      <td>2</td>\n",
       "      <td>NaN</td>\n",
       "      <td>NaN</td>\n",
       "    </tr>\n",
       "    <tr>\n",
       "      <th>2</th>\n",
       "      <td>3</td>\n",
       "      <td>NaN</td>\n",
       "      <td>NaN</td>\n",
       "    </tr>\n",
       "    <tr>\n",
       "      <th>3</th>\n",
       "      <td>4</td>\n",
       "      <td>NaN</td>\n",
       "      <td>NaN</td>\n",
       "    </tr>\n",
       "    <tr>\n",
       "      <th>4</th>\n",
       "      <td>5</td>\n",
       "      <td>NaN</td>\n",
       "      <td>NaN</td>\n",
       "    </tr>\n",
       "  </tbody>\n",
       "</table>\n",
       "</div>"
      ],
      "text/plain": [
       "   number emotion emotion_mapped\n",
       "0       1     NaN            NaN\n",
       "1       2     NaN            NaN\n",
       "2       3     NaN            NaN\n",
       "3       4     NaN            NaN\n",
       "4       5     NaN            NaN"
      ]
     },
     "execution_count": 10,
     "metadata": {},
     "output_type": "execute_result"
    }
   ],
   "source": [
    "base_emotion_2 = base_2[base_2 == base_2.max()].index[0]\n",
    "\n",
    "\n",
    "df_2[\"emotion_mapped\"] = df_2[\"emotion\"].replace(base_emotion_2, \"base\")\n",
    "df_2[\"emotion_mapped\"] = df_2[\"emotion_mapped\"].map({\"neutral\": \"positive\", \"fear\": \"negative\", \n",
    "                                                     \"surprise\": \"positive\", \"happy\": \"positive\", \n",
    "                                                     \"sad\": \"negative\", \"base\": \"base\", \"angry\": \"negative\"})\n",
    "df_2.head()"
   ]
  },
  {
   "cell_type": "markdown",
   "metadata": {},
   "source": [
    "####  Отклонения от базовой эмоции"
   ]
  },
  {
   "cell_type": "code",
   "execution_count": 11,
   "metadata": {},
   "outputs": [],
   "source": [
    "deviations_2 = df_2[(pd.notnull(df_2.emotion)) & (df_2.emotion != base_emotion_2)][\"number\"]\n",
    "deviations_2 = list(deviations_2.values)"
   ]
  },
  {
   "cell_type": "markdown",
   "metadata": {},
   "source": [
    "### 3 датасет"
   ]
  },
  {
   "cell_type": "code",
   "execution_count": 12,
   "metadata": {},
   "outputs": [
    {
     "data": {
      "text/html": [
       "<div>\n",
       "<style scoped>\n",
       "    .dataframe tbody tr th:only-of-type {\n",
       "        vertical-align: middle;\n",
       "    }\n",
       "\n",
       "    .dataframe tbody tr th {\n",
       "        vertical-align: top;\n",
       "    }\n",
       "\n",
       "    .dataframe thead th {\n",
       "        text-align: right;\n",
       "    }\n",
       "</style>\n",
       "<table border=\"1\" class=\"dataframe\">\n",
       "  <thead>\n",
       "    <tr style=\"text-align: right;\">\n",
       "      <th></th>\n",
       "      <th>number</th>\n",
       "      <th>emotion</th>\n",
       "    </tr>\n",
       "  </thead>\n",
       "  <tbody>\n",
       "    <tr>\n",
       "      <th>0</th>\n",
       "      <td>1</td>\n",
       "      <td>NaN</td>\n",
       "    </tr>\n",
       "    <tr>\n",
       "      <th>1</th>\n",
       "      <td>2</td>\n",
       "      <td>NaN</td>\n",
       "    </tr>\n",
       "    <tr>\n",
       "      <th>2</th>\n",
       "      <td>3</td>\n",
       "      <td>NaN</td>\n",
       "    </tr>\n",
       "    <tr>\n",
       "      <th>3</th>\n",
       "      <td>4</td>\n",
       "      <td>NaN</td>\n",
       "    </tr>\n",
       "    <tr>\n",
       "      <th>4</th>\n",
       "      <td>5</td>\n",
       "      <td>NaN</td>\n",
       "    </tr>\n",
       "  </tbody>\n",
       "</table>\n",
       "</div>"
      ],
      "text/plain": [
       "   number emotion\n",
       "0       1     NaN\n",
       "1       2     NaN\n",
       "2       3     NaN\n",
       "3       4     NaN\n",
       "4       5     NaN"
      ]
     },
     "execution_count": 12,
     "metadata": {},
     "output_type": "execute_result"
    }
   ],
   "source": [
    "df_3 = pd.read_csv(data_catalog + data_files[2], sep = \"\\t\", names = [\"number\", \"emotion\"])\n",
    "df_3.head()"
   ]
  },
  {
   "cell_type": "markdown",
   "metadata": {},
   "source": [
    "#### Базовая эмоция"
   ]
  },
  {
   "cell_type": "code",
   "execution_count": 13,
   "metadata": {},
   "outputs": [
    {
     "data": {
      "text/plain": [
       "happy       7274\n",
       "neutral     7144\n",
       "fear         681\n",
       "surprise     282\n",
       "sad            9\n",
       "angry          6\n",
       "Name: emotion, dtype: int64"
      ]
     },
     "execution_count": 13,
     "metadata": {},
     "output_type": "execute_result"
    }
   ],
   "source": [
    "base_3 = df_3[\"emotion\"].value_counts()\n",
    "base_3"
   ]
  },
  {
   "cell_type": "code",
   "execution_count": 14,
   "metadata": {},
   "outputs": [
    {
     "data": {
      "text/html": [
       "<div>\n",
       "<style scoped>\n",
       "    .dataframe tbody tr th:only-of-type {\n",
       "        vertical-align: middle;\n",
       "    }\n",
       "\n",
       "    .dataframe tbody tr th {\n",
       "        vertical-align: top;\n",
       "    }\n",
       "\n",
       "    .dataframe thead th {\n",
       "        text-align: right;\n",
       "    }\n",
       "</style>\n",
       "<table border=\"1\" class=\"dataframe\">\n",
       "  <thead>\n",
       "    <tr style=\"text-align: right;\">\n",
       "      <th></th>\n",
       "      <th>number</th>\n",
       "      <th>emotion</th>\n",
       "      <th>emotion_mapped</th>\n",
       "    </tr>\n",
       "  </thead>\n",
       "  <tbody>\n",
       "    <tr>\n",
       "      <th>0</th>\n",
       "      <td>1</td>\n",
       "      <td>NaN</td>\n",
       "      <td>NaN</td>\n",
       "    </tr>\n",
       "    <tr>\n",
       "      <th>1</th>\n",
       "      <td>2</td>\n",
       "      <td>NaN</td>\n",
       "      <td>NaN</td>\n",
       "    </tr>\n",
       "    <tr>\n",
       "      <th>2</th>\n",
       "      <td>3</td>\n",
       "      <td>NaN</td>\n",
       "      <td>NaN</td>\n",
       "    </tr>\n",
       "    <tr>\n",
       "      <th>3</th>\n",
       "      <td>4</td>\n",
       "      <td>NaN</td>\n",
       "      <td>NaN</td>\n",
       "    </tr>\n",
       "    <tr>\n",
       "      <th>4</th>\n",
       "      <td>5</td>\n",
       "      <td>NaN</td>\n",
       "      <td>NaN</td>\n",
       "    </tr>\n",
       "  </tbody>\n",
       "</table>\n",
       "</div>"
      ],
      "text/plain": [
       "   number emotion emotion_mapped\n",
       "0       1     NaN            NaN\n",
       "1       2     NaN            NaN\n",
       "2       3     NaN            NaN\n",
       "3       4     NaN            NaN\n",
       "4       5     NaN            NaN"
      ]
     },
     "execution_count": 14,
     "metadata": {},
     "output_type": "execute_result"
    }
   ],
   "source": [
    "base_emotion_3_1 = base_3[base_3 == base_3.max()].index[0]\n",
    "base_emotion_3_2 = \"neutral\"\n",
    "\n",
    "\n",
    "df_3[\"emotion_mapped\"] = df_3[\"emotion\"].replace([base_emotion_3_1, base_emotion_3_2], \"base\")\n",
    "df_3[\"emotion_mapped\"] = df_3[\"emotion_mapped\"].map({\"neutral\": \"positive\", \"fear\": \"negative\", \n",
    "                                                     \"surprise\": \"positive\", \"happy\": \"positive\", \n",
    "                                                     \"sad\": \"negative\", \"base\": \"base\", \"angry\": \"negative\"})\n",
    "df_3.head()"
   ]
  },
  {
   "cell_type": "markdown",
   "metadata": {},
   "source": [
    "####  Отклонения от базовой эмоции"
   ]
  },
  {
   "cell_type": "code",
   "execution_count": 15,
   "metadata": {},
   "outputs": [],
   "source": [
    "deviations_3 = df_3[(pd.notnull(df_3.emotion)) & (df_3.emotion != base_emotion_3_1) &\n",
    "                   (df_3.emotion != base_emotion_3_2)][\"number\"]\n",
    "deviations_3 = list(deviations_3.values)"
   ]
  },
  {
   "cell_type": "markdown",
   "metadata": {},
   "source": [
    "### 4 датасет"
   ]
  },
  {
   "cell_type": "code",
   "execution_count": 16,
   "metadata": {},
   "outputs": [
    {
     "data": {
      "text/html": [
       "<div>\n",
       "<style scoped>\n",
       "    .dataframe tbody tr th:only-of-type {\n",
       "        vertical-align: middle;\n",
       "    }\n",
       "\n",
       "    .dataframe tbody tr th {\n",
       "        vertical-align: top;\n",
       "    }\n",
       "\n",
       "    .dataframe thead th {\n",
       "        text-align: right;\n",
       "    }\n",
       "</style>\n",
       "<table border=\"1\" class=\"dataframe\">\n",
       "  <thead>\n",
       "    <tr style=\"text-align: right;\">\n",
       "      <th></th>\n",
       "      <th>number</th>\n",
       "      <th>emotion</th>\n",
       "    </tr>\n",
       "  </thead>\n",
       "  <tbody>\n",
       "    <tr>\n",
       "      <th>0</th>\n",
       "      <td>1</td>\n",
       "      <td>NaN</td>\n",
       "    </tr>\n",
       "    <tr>\n",
       "      <th>1</th>\n",
       "      <td>2</td>\n",
       "      <td>NaN</td>\n",
       "    </tr>\n",
       "    <tr>\n",
       "      <th>2</th>\n",
       "      <td>3</td>\n",
       "      <td>NaN</td>\n",
       "    </tr>\n",
       "    <tr>\n",
       "      <th>3</th>\n",
       "      <td>4</td>\n",
       "      <td>NaN</td>\n",
       "    </tr>\n",
       "    <tr>\n",
       "      <th>4</th>\n",
       "      <td>5</td>\n",
       "      <td>NaN</td>\n",
       "    </tr>\n",
       "  </tbody>\n",
       "</table>\n",
       "</div>"
      ],
      "text/plain": [
       "   number emotion\n",
       "0       1     NaN\n",
       "1       2     NaN\n",
       "2       3     NaN\n",
       "3       4     NaN\n",
       "4       5     NaN"
      ]
     },
     "execution_count": 16,
     "metadata": {},
     "output_type": "execute_result"
    }
   ],
   "source": [
    "df_4 = pd.read_csv(data_catalog + data_files[3], sep = \"\\t\", names = [\"number\", \"emotion\"])\n",
    "df_4.head()"
   ]
  },
  {
   "cell_type": "markdown",
   "metadata": {},
   "source": [
    "#### Базовая эмоция"
   ]
  },
  {
   "cell_type": "code",
   "execution_count": 17,
   "metadata": {},
   "outputs": [
    {
     "data": {
      "text/plain": [
       "happy       26962\n",
       "neutral      8503\n",
       "fear          127\n",
       "surprise        4\n",
       "Name: emotion, dtype: int64"
      ]
     },
     "execution_count": 17,
     "metadata": {},
     "output_type": "execute_result"
    }
   ],
   "source": [
    "base_4 = df_4[\"emotion\"].value_counts()\n",
    "base_4"
   ]
  },
  {
   "cell_type": "code",
   "execution_count": 18,
   "metadata": {},
   "outputs": [
    {
     "data": {
      "text/html": [
       "<div>\n",
       "<style scoped>\n",
       "    .dataframe tbody tr th:only-of-type {\n",
       "        vertical-align: middle;\n",
       "    }\n",
       "\n",
       "    .dataframe tbody tr th {\n",
       "        vertical-align: top;\n",
       "    }\n",
       "\n",
       "    .dataframe thead th {\n",
       "        text-align: right;\n",
       "    }\n",
       "</style>\n",
       "<table border=\"1\" class=\"dataframe\">\n",
       "  <thead>\n",
       "    <tr style=\"text-align: right;\">\n",
       "      <th></th>\n",
       "      <th>number</th>\n",
       "      <th>emotion</th>\n",
       "      <th>emotion_mapped</th>\n",
       "    </tr>\n",
       "  </thead>\n",
       "  <tbody>\n",
       "    <tr>\n",
       "      <th>0</th>\n",
       "      <td>1</td>\n",
       "      <td>NaN</td>\n",
       "      <td>NaN</td>\n",
       "    </tr>\n",
       "    <tr>\n",
       "      <th>1</th>\n",
       "      <td>2</td>\n",
       "      <td>NaN</td>\n",
       "      <td>NaN</td>\n",
       "    </tr>\n",
       "    <tr>\n",
       "      <th>2</th>\n",
       "      <td>3</td>\n",
       "      <td>NaN</td>\n",
       "      <td>NaN</td>\n",
       "    </tr>\n",
       "    <tr>\n",
       "      <th>3</th>\n",
       "      <td>4</td>\n",
       "      <td>NaN</td>\n",
       "      <td>NaN</td>\n",
       "    </tr>\n",
       "    <tr>\n",
       "      <th>4</th>\n",
       "      <td>5</td>\n",
       "      <td>NaN</td>\n",
       "      <td>NaN</td>\n",
       "    </tr>\n",
       "  </tbody>\n",
       "</table>\n",
       "</div>"
      ],
      "text/plain": [
       "   number emotion emotion_mapped\n",
       "0       1     NaN            NaN\n",
       "1       2     NaN            NaN\n",
       "2       3     NaN            NaN\n",
       "3       4     NaN            NaN\n",
       "4       5     NaN            NaN"
      ]
     },
     "execution_count": 18,
     "metadata": {},
     "output_type": "execute_result"
    }
   ],
   "source": [
    "base_emotion_4_1 = base_4[base_4 == base_4.max()].index[0]\n",
    "base_emotion_4_2 = \"neutral\"\n",
    "\n",
    "\n",
    "df_4[\"emotion_mapped\"] = df_4[\"emotion\"].replace([base_emotion_4_1, base_emotion_4_2], \"base\")\n",
    "df_4[\"emotion_mapped\"] = df_4[\"emotion_mapped\"].map({\"neutral\": \"positive\", \"fear\": \"negative\", \n",
    "                                                     \"surprise\": \"positive\", \"happy\": \"positive\", \n",
    "                                                     \"sad\": \"negative\", \"base\": \"base\", \"angry\": \"negative\"})\n",
    "df_4.head()"
   ]
  },
  {
   "cell_type": "markdown",
   "metadata": {},
   "source": [
    "####  Отклонения от базовой эмоции"
   ]
  },
  {
   "cell_type": "code",
   "execution_count": 19,
   "metadata": {},
   "outputs": [],
   "source": [
    "deviations_4 = df_4[(pd.notnull(df_4.emotion)) & (df_4.emotion != base_emotion_4_1) &\n",
    "                   (df_4.emotion != base_emotion_4_2)][\"number\"]\n",
    "deviations_4 = list(deviations_4.values)"
   ]
  },
  {
   "cell_type": "markdown",
   "metadata": {},
   "source": [
    "### 5 датасет"
   ]
  },
  {
   "cell_type": "code",
   "execution_count": 20,
   "metadata": {},
   "outputs": [
    {
     "data": {
      "text/html": [
       "<div>\n",
       "<style scoped>\n",
       "    .dataframe tbody tr th:only-of-type {\n",
       "        vertical-align: middle;\n",
       "    }\n",
       "\n",
       "    .dataframe tbody tr th {\n",
       "        vertical-align: top;\n",
       "    }\n",
       "\n",
       "    .dataframe thead th {\n",
       "        text-align: right;\n",
       "    }\n",
       "</style>\n",
       "<table border=\"1\" class=\"dataframe\">\n",
       "  <thead>\n",
       "    <tr style=\"text-align: right;\">\n",
       "      <th></th>\n",
       "      <th>number</th>\n",
       "      <th>emotion</th>\n",
       "    </tr>\n",
       "  </thead>\n",
       "  <tbody>\n",
       "    <tr>\n",
       "      <th>0</th>\n",
       "      <td>1</td>\n",
       "      <td>NaN</td>\n",
       "    </tr>\n",
       "    <tr>\n",
       "      <th>1</th>\n",
       "      <td>2</td>\n",
       "      <td>NaN</td>\n",
       "    </tr>\n",
       "    <tr>\n",
       "      <th>2</th>\n",
       "      <td>3</td>\n",
       "      <td>NaN</td>\n",
       "    </tr>\n",
       "    <tr>\n",
       "      <th>3</th>\n",
       "      <td>4</td>\n",
       "      <td>NaN</td>\n",
       "    </tr>\n",
       "    <tr>\n",
       "      <th>4</th>\n",
       "      <td>5</td>\n",
       "      <td>NaN</td>\n",
       "    </tr>\n",
       "  </tbody>\n",
       "</table>\n",
       "</div>"
      ],
      "text/plain": [
       "   number emotion\n",
       "0       1     NaN\n",
       "1       2     NaN\n",
       "2       3     NaN\n",
       "3       4     NaN\n",
       "4       5     NaN"
      ]
     },
     "execution_count": 20,
     "metadata": {},
     "output_type": "execute_result"
    }
   ],
   "source": [
    "df_5 = pd.read_csv(data_catalog + data_files[4], sep = \"\\t\", names = [\"number\", \"emotion\"])\n",
    "df_5.head()"
   ]
  },
  {
   "cell_type": "markdown",
   "metadata": {},
   "source": [
    "#### Базовая эмоция"
   ]
  },
  {
   "cell_type": "code",
   "execution_count": 21,
   "metadata": {},
   "outputs": [
    {
     "data": {
      "text/plain": [
       "happy      443\n",
       "neutral     55\n",
       "fear         5\n",
       "Name: emotion, dtype: int64"
      ]
     },
     "execution_count": 21,
     "metadata": {},
     "output_type": "execute_result"
    }
   ],
   "source": [
    "base_5 = df_5[\"emotion\"].value_counts()\n",
    "base_5"
   ]
  },
  {
   "cell_type": "code",
   "execution_count": 22,
   "metadata": {},
   "outputs": [
    {
     "data": {
      "text/html": [
       "<div>\n",
       "<style scoped>\n",
       "    .dataframe tbody tr th:only-of-type {\n",
       "        vertical-align: middle;\n",
       "    }\n",
       "\n",
       "    .dataframe tbody tr th {\n",
       "        vertical-align: top;\n",
       "    }\n",
       "\n",
       "    .dataframe thead th {\n",
       "        text-align: right;\n",
       "    }\n",
       "</style>\n",
       "<table border=\"1\" class=\"dataframe\">\n",
       "  <thead>\n",
       "    <tr style=\"text-align: right;\">\n",
       "      <th></th>\n",
       "      <th>number</th>\n",
       "      <th>emotion</th>\n",
       "      <th>emotion_mapped</th>\n",
       "    </tr>\n",
       "  </thead>\n",
       "  <tbody>\n",
       "    <tr>\n",
       "      <th>0</th>\n",
       "      <td>1</td>\n",
       "      <td>NaN</td>\n",
       "      <td>NaN</td>\n",
       "    </tr>\n",
       "    <tr>\n",
       "      <th>1</th>\n",
       "      <td>2</td>\n",
       "      <td>NaN</td>\n",
       "      <td>NaN</td>\n",
       "    </tr>\n",
       "    <tr>\n",
       "      <th>2</th>\n",
       "      <td>3</td>\n",
       "      <td>NaN</td>\n",
       "      <td>NaN</td>\n",
       "    </tr>\n",
       "    <tr>\n",
       "      <th>3</th>\n",
       "      <td>4</td>\n",
       "      <td>NaN</td>\n",
       "      <td>NaN</td>\n",
       "    </tr>\n",
       "    <tr>\n",
       "      <th>4</th>\n",
       "      <td>5</td>\n",
       "      <td>NaN</td>\n",
       "      <td>NaN</td>\n",
       "    </tr>\n",
       "  </tbody>\n",
       "</table>\n",
       "</div>"
      ],
      "text/plain": [
       "   number emotion emotion_mapped\n",
       "0       1     NaN            NaN\n",
       "1       2     NaN            NaN\n",
       "2       3     NaN            NaN\n",
       "3       4     NaN            NaN\n",
       "4       5     NaN            NaN"
      ]
     },
     "execution_count": 22,
     "metadata": {},
     "output_type": "execute_result"
    }
   ],
   "source": [
    "base_emotion_5 = base_5[base_5 == base_5.max()].index[0]\n",
    "\n",
    "df_5[\"emotion_mapped\"] = df_5[\"emotion\"].replace(base_emotion_5, \"base\")\n",
    "df_5[\"emotion_mapped\"] = df_5[\"emotion_mapped\"].map({\"neutral\": \"positive\", \"fear\": \"negative\", \n",
    "                                                     \"surprise\": \"positive\", \"happy\": \"positive\", \n",
    "                                                     \"sad\": \"negative\", \"base\": \"base\", \"angry\": \"negative\"})\n",
    "df_5.head()"
   ]
  },
  {
   "cell_type": "markdown",
   "metadata": {},
   "source": [
    "####  Отклонения от базовой эмоции"
   ]
  },
  {
   "cell_type": "code",
   "execution_count": 23,
   "metadata": {},
   "outputs": [],
   "source": [
    "deviations_5 = df_5[(pd.notnull(df_5.emotion)) & (df_5.emotion != base_emotion_5)][\"number\"]\n",
    "deviations_5 = list(deviations_5.values)"
   ]
  },
  {
   "cell_type": "markdown",
   "metadata": {},
   "source": [
    "### 1 человек"
   ]
  },
  {
   "cell_type": "code",
   "execution_count": 24,
   "metadata": {},
   "outputs": [],
   "source": [
    "with_exitment_1 = pd.DataFrame(columns = [\"sender_name\", \"sender_id\", \"emotion_sent\", \"reciever_name\", \n",
    "                                          \"emotion_recieved\"])\n",
    "\n",
    "for number in deviations_1:\n",
    "    \n",
    "    temp_df_2 = df_2[(df_2.number >= number) & (df_2.number <= number + 100) & \n",
    "                     (df_2.emotion != base_emotion_2) & (pd.notnull(df_2.emotion))]\n",
    "    temp_df_3 = df_3[(df_3.number >= number) & (df_3.number <= number + 100) & \n",
    "                     (df_3.emotion != base_emotion_3_1) & (df_3.emotion != base_emotion_3_2) & \n",
    "                     (pd.notnull(df_3.emotion))]\n",
    "    temp_df_4 = df_4[(df_4.number >= number) & (df_4.number <= number + 100) & \n",
    "                     (df_4.emotion != base_emotion_4_1) & (df_4.emotion != base_emotion_4_2) & \n",
    "                     (pd.notnull(df_4.emotion))]\n",
    "    temp_df_5 = df_5[(df_5.number >= number) & (df_5.number <= number + 100) & \n",
    "                     (df_5.emotion != base_emotion_5) & (pd.notnull(df_5.emotion))]\n",
    "    \n",
    "    emotion_sent = df_1.loc[number - 1, \"emotion_mapped\"]\n",
    "    sender_name = name_1\n",
    "    \n",
    "    if len(temp_df_2) != 0:\n",
    "        recieved = temp_df_2.iloc[:, 2].value_counts()\n",
    "        recieved_emotion = recieved[recieved == recieved.max()].index[0]\n",
    "        temp_dataset_2 = pd.DataFrame(data = {\"sender_name\": sender_name, \n",
    "                                              \"sender_id\": number, \n",
    "                                              \"emotion_sent\": emotion_sent,\n",
    "                                              \"reciever_name\": name_2, \n",
    "                                              \"emotion_recieved\": recieved_emotion}, index = [0])\n",
    "        with_exitment_1 = pd.concat([with_exitment_1, temp_dataset_2], ignore_index = True)\n",
    "\n",
    "    if len(temp_df_3) != 0:\n",
    "        recieved = temp_df_3.iloc[:, 2].value_counts()\n",
    "        recieved_emotion = recieved[recieved == recieved.max()].index[0]\n",
    "        temp_dataset_3 = pd.DataFrame(data = {\"sender_name\": sender_name, \n",
    "                                              \"sender_id\": number, \n",
    "                                              \"emotion_sent\": emotion_sent,\n",
    "                                              \"reciever_name\": name_3, \n",
    "                                              \"emotion_recieved\": recieved_emotion}, index = [0])\n",
    "        with_exitment_1 = pd.concat([with_exitment_1, temp_dataset_3], ignore_index = True)\n",
    "        \n",
    "    if len(temp_df_4) != 0:\n",
    "        recieved = temp_df_4.iloc[:, 2].value_counts()\n",
    "        recieved_emotion = recieved[recieved == recieved.max()].index[0]\n",
    "        temp_dataset_4 = pd.DataFrame(data = {\"sender_name\": sender_name, \n",
    "                                              \"sender_id\": number, \n",
    "                                              \"emotion_sent\": emotion_sent,\n",
    "                                              \"reciever_name\": name_4, \n",
    "                                              \"emotion_recieved\": recieved_emotion}, index = [0])\n",
    "        with_exitment_1 = pd.concat([with_exitment_1, temp_dataset_4], ignore_index = True)\n",
    "        \n",
    "    if len(temp_df_5) != 0:\n",
    "        recieved = temp_df_5.iloc[:, 2].value_counts()\n",
    "        recieved_emotion = recieved[recieved == recieved.max()].index[0]\n",
    "        temp_dataset_5 = pd.DataFrame(data = {\"sender_name\": sender_name, \n",
    "                                              \"sender_id\": number, \n",
    "                                              \"emotion_sent\": emotion_sent,\n",
    "                                              \"reciever_name\": name_5, \n",
    "                                              \"emotion_recieved\": recieved_emotion}, index = [0])\n",
    "        with_exitment_1 = pd.concat([with_exitment_1, temp_dataset_5], ignore_index = True)"
   ]
  },
  {
   "cell_type": "markdown",
   "metadata": {},
   "source": [
    "### 2 человек"
   ]
  },
  {
   "cell_type": "code",
   "execution_count": 25,
   "metadata": {},
   "outputs": [],
   "source": [
    "with_exitment_2 = pd.DataFrame(columns = [\"sender_name\", \"sender_id\", \"emotion_sent\", \"reciever_name\", \n",
    "                                          \"emotion_recieved\"])\n",
    "\n",
    "for number in deviations_2:\n",
    "    \n",
    "    temp_df_1 = df_1[(df_1.number >= number) & (df_1.number <= number + 100) & \n",
    "                     (df_1.emotion != base_emotion_1_1) & (df_1.emotion != base_emotion_1_2) &\n",
    "                     (pd.notnull(df_1.emotion))]\n",
    "    temp_df_3 = df_3[(df_3.number >= number) & (df_3.number <= number + 100) & \n",
    "                     (df_3.emotion != base_emotion_3_1) & (df_3.emotion != base_emotion_3_2) & \n",
    "                     (pd.notnull(df_3.emotion))]\n",
    "    temp_df_4 = df_4[(df_4.number >= number) & (df_4.number <= number + 100) & \n",
    "                     (df_4.emotion != base_emotion_4_1) & (df_4.emotion != base_emotion_4_2) & \n",
    "                     (pd.notnull(df_4.emotion))]\n",
    "    temp_df_5 = df_5[(df_5.number >= number) & (df_5.number <= number + 100) & \n",
    "                     (df_5.emotion != base_emotion_5) & (pd.notnull(df_5.emotion))]\n",
    "    \n",
    "    emotion_sent = df_2.loc[number - 1, \"emotion_mapped\"]\n",
    "    sender_name = name_2\n",
    "    \n",
    "    if len(temp_df_1) != 0:\n",
    "        recieved = temp_df_1.iloc[:, 2].value_counts()\n",
    "        recieved_emotion = recieved[recieved == recieved.max()].index[0]\n",
    "        temp_dataset_1 = pd.DataFrame(data = {\"sender_name\": sender_name, \n",
    "                                              \"sender_id\": number, \n",
    "                                              \"emotion_sent\": emotion_sent,\n",
    "                                              \"reciever_name\": name_1, \n",
    "                                              \"emotion_recieved\": recieved_emotion}, index = [0])\n",
    "        with_exitment_2 = pd.concat([with_exitment_2, temp_dataset_1], ignore_index = True)\n",
    "\n",
    "    if len(temp_df_3) != 0:\n",
    "        recieved = temp_df_3.iloc[:, 2].value_counts()\n",
    "        recieved_emotion = recieved[recieved == recieved.max()].index[0]\n",
    "        temp_dataset_3 = pd.DataFrame(data = {\"sender_name\": sender_name, \n",
    "                                              \"sender_id\": number, \n",
    "                                              \"emotion_sent\": emotion_sent,\n",
    "                                              \"reciever_name\": name_3, \n",
    "                                              \"emotion_recieved\": recieved_emotion}, index = [0])\n",
    "        with_exitment_2 = pd.concat([with_exitment_2, temp_dataset_3], ignore_index = True)\n",
    "        \n",
    "    if len(temp_df_4) != 0:\n",
    "        recieved = temp_df_4.iloc[:, 2].value_counts()\n",
    "        recieved_emotion = recieved[recieved == recieved.max()].index[0]\n",
    "        temp_dataset_4 = pd.DataFrame(data = {\"sender_name\": sender_name, \n",
    "                                              \"sender_id\": number, \n",
    "                                              \"emotion_sent\": emotion_sent,\n",
    "                                              \"reciever_name\": name_4, \n",
    "                                              \"emotion_recieved\": recieved_emotion}, index = [0])\n",
    "        with_exitment_2 = pd.concat([with_exitment_2, temp_dataset_4], ignore_index = True)\n",
    "        \n",
    "    if len(temp_df_5) != 0:\n",
    "        recieved = temp_df_5.iloc[:, 2].value_counts()\n",
    "        recieved_emotion = recieved[recieved == recieved.max()].index[0]\n",
    "        temp_dataset_5 = pd.DataFrame(data = {\"sender_name\": sender_name, \n",
    "                                              \"sender_id\": number, \n",
    "                                              \"emotion_sent\": emotion_sent,\n",
    "                                              \"reciever_name\": name_5, \n",
    "                                              \"emotion_recieved\": recieved_emotion}, index = [0])\n",
    "        with_exitment_2 = pd.concat([with_exitment_2, temp_dataset_5], ignore_index = True)"
   ]
  },
  {
   "cell_type": "markdown",
   "metadata": {},
   "source": [
    "### 3 человек"
   ]
  },
  {
   "cell_type": "code",
   "execution_count": 26,
   "metadata": {},
   "outputs": [],
   "source": [
    "with_exitment_3 = pd.DataFrame(columns = [\"sender_name\", \"sender_id\", \"emotion_sent\", \"reciever_name\", \n",
    "                                          \"emotion_recieved\"])\n",
    "\n",
    "for number in deviations_3:\n",
    "    \n",
    "    temp_df_1 = df_1[(df_1.number >= number) & (df_1.number <= number + 100) & \n",
    "                     (df_1.emotion != base_emotion_1_1) & (df_1.emotion != base_emotion_1_2) &\n",
    "                     (pd.notnull(df_1.emotion))]\n",
    "    temp_df_2 = df_2[(df_2.number >= number) & (df_2.number <= number + 100) & \n",
    "                     (df_2.emotion != base_emotion_2) & (pd.notnull(df_2.emotion))]\n",
    "    temp_df_4 = df_4[(df_4.number >= number) & (df_4.number <= number + 100) & \n",
    "                     (df_4.emotion != base_emotion_4_1) & (df_4.emotion != base_emotion_4_2) & \n",
    "                     (pd.notnull(df_4.emotion))]\n",
    "    temp_df_5 = df_5[(df_5.number >= number) & (df_5.number <= number + 100) & \n",
    "                     (df_5.emotion != base_emotion_5) & (pd.notnull(df_5.emotion))]\n",
    "    \n",
    "    emotion_sent = df_3.loc[number - 1, \"emotion_mapped\"]\n",
    "    sender_name = name_3\n",
    "    \n",
    "    if len(temp_df_1) != 0:\n",
    "        recieved = temp_df_1.iloc[:, 2].value_counts()\n",
    "        recieved_emotion = recieved[recieved == recieved.max()].index[0]\n",
    "        temp_dataset_1 = pd.DataFrame(data = {\"sender_name\": sender_name, \n",
    "                                              \"sender_id\": number, \n",
    "                                              \"emotion_sent\": emotion_sent,\n",
    "                                              \"reciever_name\": name_1, \n",
    "                                              \"emotion_recieved\": recieved_emotion}, index = [0])\n",
    "        with_exitment_3 = pd.concat([with_exitment_3, temp_dataset_1], ignore_index = True)\n",
    "\n",
    "    if len(temp_df_2) != 0:\n",
    "        recieved = temp_df_2.iloc[:, 2].value_counts()\n",
    "        recieved_emotion = recieved[recieved == recieved.max()].index[0]\n",
    "        temp_dataset_2 = pd.DataFrame(data = {\"sender_name\": sender_name, \n",
    "                                              \"sender_id\": number, \n",
    "                                              \"emotion_sent\": emotion_sent,\n",
    "                                              \"reciever_name\": name_2, \n",
    "                                              \"emotion_recieved\": recieved_emotion}, index = [0])\n",
    "        with_exitment_3 = pd.concat([with_exitment_3, temp_dataset_2], ignore_index = True)\n",
    "        \n",
    "    if len(temp_df_4) != 0:\n",
    "        recieved = temp_df_4.iloc[:, 2].value_counts()\n",
    "        recieved_emotion = recieved[recieved == recieved.max()].index[0]\n",
    "        temp_dataset_4 = pd.DataFrame(data = {\"sender_name\": sender_name, \n",
    "                                              \"sender_id\": number, \n",
    "                                              \"emotion_sent\": emotion_sent,\n",
    "                                              \"reciever_name\": name_4, \n",
    "                                              \"emotion_recieved\": recieved_emotion}, index = [0])\n",
    "        with_exitment_3 = pd.concat([with_exitment_3, temp_dataset_4], ignore_index = True)\n",
    "        \n",
    "    if len(temp_df_5) != 0:\n",
    "        recieved = temp_df_5.iloc[:, 2].value_counts()\n",
    "        recieved_emotion = recieved[recieved == recieved.max()].index[0]\n",
    "        temp_dataset_5 = pd.DataFrame(data = {\"sender_name\": sender_name, \n",
    "                                              \"sender_id\": number, \n",
    "                                              \"emotion_sent\": emotion_sent,\n",
    "                                              \"reciever_name\": name_5, \n",
    "                                              \"emotion_recieved\": recieved_emotion}, index = [0])\n",
    "        with_exitment_3 = pd.concat([with_exitment_3, temp_dataset_5], ignore_index = True)"
   ]
  },
  {
   "cell_type": "markdown",
   "metadata": {},
   "source": [
    "### 4 человек"
   ]
  },
  {
   "cell_type": "code",
   "execution_count": 27,
   "metadata": {},
   "outputs": [],
   "source": [
    "with_exitment_4 = pd.DataFrame(columns = [\"sender_name\", \"sender_id\", \"emotion_sent\", \"reciever_name\", \n",
    "                                          \"emotion_recieved\"])\n",
    "\n",
    "for number in deviations_4:\n",
    "    \n",
    "    temp_df_1 = df_1[(df_1.number >= number) & (df_1.number <= number + 100) & \n",
    "                     (df_1.emotion != base_emotion_1_1) & (df_1.emotion != base_emotion_1_2) &\n",
    "                     (pd.notnull(df_1.emotion))]\n",
    "    temp_df_2 = df_2[(df_2.number >= number) & (df_2.number <= number + 100) & \n",
    "                     (df_2.emotion != base_emotion_2) & (pd.notnull(df_2.emotion))]\n",
    "    temp_df_3 = df_3[(df_3.number >= number) & (df_3.number <= number + 100) & \n",
    "                     (df_3.emotion != base_emotion_3_1) & (df_3.emotion != base_emotion_3_2) & \n",
    "                     (pd.notnull(df_3.emotion))]\n",
    "    temp_df_5 = df_5[(df_5.number >= number) & (df_5.number <= number + 100) & \n",
    "                     (df_5.emotion != base_emotion_5) & (pd.notnull(df_5.emotion))]\n",
    "    \n",
    "    emotion_sent = df_4.loc[number - 1, \"emotion_mapped\"]\n",
    "    sender_name = name_4\n",
    "    \n",
    "    if len(temp_df_1) != 0:\n",
    "        recieved = temp_df_1.iloc[:, 2].value_counts()\n",
    "        recieved_emotion = recieved[recieved == recieved.max()].index[0]\n",
    "        temp_dataset_1 = pd.DataFrame(data = {\"sender_name\": sender_name, \n",
    "                                              \"sender_id\": number, \n",
    "                                              \"emotion_sent\": emotion_sent,\n",
    "                                              \"reciever_name\": name_1, \n",
    "                                              \"emotion_recieved\": recieved_emotion}, index = [0])\n",
    "        with_exitment_4 = pd.concat([with_exitment_4, temp_dataset_1], ignore_index = True)\n",
    "\n",
    "    if len(temp_df_2) != 0:\n",
    "        recieved = temp_df_2.iloc[:, 2].value_counts()\n",
    "        recieved_emotion = recieved[recieved == recieved.max()].index[0]\n",
    "        temp_dataset_2 = pd.DataFrame(data = {\"sender_name\": sender_name, \n",
    "                                              \"sender_id\": number, \n",
    "                                              \"emotion_sent\": emotion_sent,\n",
    "                                              \"reciever_name\": name_2, \n",
    "                                              \"emotion_recieved\": recieved_emotion}, index = [0])\n",
    "        with_exitment_4 = pd.concat([with_exitment_4, temp_dataset_2], ignore_index = True)\n",
    "        \n",
    "    if len(temp_df_3) != 0:\n",
    "        recieved = temp_df_3.iloc[:, 2].value_counts()\n",
    "        recieved_emotion = recieved[recieved == recieved.max()].index[0]\n",
    "        temp_dataset_3 = pd.DataFrame(data = {\"sender_name\": sender_name, \n",
    "                                              \"sender_id\": number, \n",
    "                                              \"emotion_sent\": emotion_sent,\n",
    "                                              \"reciever_name\": name_3, \n",
    "                                              \"emotion_recieved\": recieved_emotion}, index = [0])\n",
    "        with_exitment_4 = pd.concat([with_exitment_4, temp_dataset_3], ignore_index = True)\n",
    "        \n",
    "    if len(temp_df_5) != 0:\n",
    "        recieved = temp_df_5.iloc[:, 2].value_counts()\n",
    "        recieved_emotion = recieved[recieved == recieved.max()].index[0]\n",
    "        temp_dataset_5 = pd.DataFrame(data = {\"sender_name\": sender_name, \n",
    "                                              \"sender_id\": number, \n",
    "                                              \"emotion_sent\": emotion_sent,\n",
    "                                              \"reciever_name\": name_5, \n",
    "                                              \"emotion_recieved\": recieved_emotion}, index = [0])\n",
    "        with_exitment_4 = pd.concat([with_exitment_4, temp_dataset_5], ignore_index = True)"
   ]
  },
  {
   "cell_type": "markdown",
   "metadata": {},
   "source": [
    "### 5 человек"
   ]
  },
  {
   "cell_type": "code",
   "execution_count": 28,
   "metadata": {},
   "outputs": [],
   "source": [
    "with_exitment_5 = pd.DataFrame(columns = [\"sender_name\", \"sender_id\", \"emotion_sent\", \"reciever_name\", \n",
    "                                          \"emotion_recieved\"])\n",
    "\n",
    "for number in deviations_5:\n",
    "    \n",
    "    temp_df_1 = df_1[(df_1.number >= number) & (df_1.number <= number + 100) & \n",
    "                     (df_1.emotion != base_emotion_1_1) & (df_1.emotion != base_emotion_1_2) &\n",
    "                     (pd.notnull(df_1.emotion))]\n",
    "    temp_df_2 = df_2[(df_2.number >= number) & (df_2.number <= number + 100) & \n",
    "                     (df_2.emotion != base_emotion_2) & (pd.notnull(df_2.emotion))]\n",
    "    temp_df_3 = df_3[(df_3.number >= number) & (df_3.number <= number + 100) & \n",
    "                     (df_3.emotion != base_emotion_3_1) & (df_3.emotion != base_emotion_3_2) & \n",
    "                     (pd.notnull(df_3.emotion))]\n",
    "    temp_df_4 = df_4[(df_4.number >= number) & (df_4.number <= number + 100) & \n",
    "                     (df_4.emotion != base_emotion_4_1) & (df_4.emotion != base_emotion_4_2) & \n",
    "                     (pd.notnull(df_4.emotion))]\n",
    "    \n",
    "    emotion_sent = df_5.loc[number - 1, \"emotion_mapped\"]\n",
    "    sender_name = name_5\n",
    "    \n",
    "    if len(temp_df_1) != 0:\n",
    "        recieved = temp_df_1.iloc[:, 2].value_counts()\n",
    "        recieved_emotion = recieved[recieved == recieved.max()].index[0]\n",
    "        temp_dataset_1 = pd.DataFrame(data = {\"sender_name\": sender_name, \n",
    "                                              \"sender_id\": number, \n",
    "                                              \"emotion_sent\": emotion_sent,\n",
    "                                              \"reciever_name\": name_1, \n",
    "                                              \"emotion_recieved\": recieved_emotion}, index = [0])\n",
    "        with_exitment_5 = pd.concat([with_exitment_5, temp_dataset_1], ignore_index = True)\n",
    "\n",
    "    if len(temp_df_2) != 0:\n",
    "        recieved = temp_df_2.iloc[:, 2].value_counts()\n",
    "        recieved_emotion = recieved[recieved == recieved.max()].index[0]\n",
    "        temp_dataset_2 = pd.DataFrame(data = {\"sender_name\": sender_name,\n",
    "                                              \"sender_id\": number,\n",
    "                                              \"emotion_sent\": emotion_sent,\n",
    "                                              \"reciever_name\": name_2,\n",
    "                                              \"emotion_recieved\": recieved_emotion}, index = [0])\n",
    "        with_exitment_5 = pd.concat([with_exitment_5, temp_dataset_2], ignore_index = True)\n",
    "        \n",
    "    if len(temp_df_3) != 0:\n",
    "        recieved = temp_df_3.iloc[:, 2].value_counts()\n",
    "        recieved_emotion = recieved[recieved == recieved.max()].index[0]\n",
    "        temp_dataset_3 = pd.DataFrame(data = {\"sender_name\": sender_name,\n",
    "                                              \"sender_id\": number,\n",
    "                                              \"emotion_sent\": emotion_sent,\n",
    "                                              \"reciever_name\": name_3,\n",
    "                                              \"emotion_recieved\": recieved_emotion}, index = [0])\n",
    "        with_exitment_5 = pd.concat([with_exitment_5, temp_dataset_3], ignore_index = True)\n",
    "        \n",
    "    if len(temp_df_4) != 0:\n",
    "        recieved = temp_df_4.iloc[:, 2].value_counts()\n",
    "        recieved_emotion = recieved[recieved == recieved.max()].index[0]\n",
    "        temp_dataset_4 = pd.DataFrame(data = {\"sender_name\": sender_name,\n",
    "                                              \"sender_id\": number,\n",
    "                                              \"emotion_sent\": emotion_sent,\n",
    "                                              \"reciever_name\": name_4,\n",
    "                                              \"emotion_recieved\": recieved_emotion}, index = [0])\n",
    "        with_exitment_5 = pd.concat([with_exitment_5, temp_dataset_4], ignore_index = True)"
   ]
  },
  {
   "cell_type": "markdown",
   "metadata": {},
   "source": [
    "### Объединяем таблицы и сортируем"
   ]
  },
  {
   "cell_type": "code",
   "execution_count": 29,
   "metadata": {},
   "outputs": [
    {
     "data": {
      "text/html": [
       "<div>\n",
       "<style scoped>\n",
       "    .dataframe tbody tr th:only-of-type {\n",
       "        vertical-align: middle;\n",
       "    }\n",
       "\n",
       "    .dataframe tbody tr th {\n",
       "        vertical-align: top;\n",
       "    }\n",
       "\n",
       "    .dataframe thead th {\n",
       "        text-align: right;\n",
       "    }\n",
       "</style>\n",
       "<table border=\"1\" class=\"dataframe\">\n",
       "  <thead>\n",
       "    <tr style=\"text-align: right;\">\n",
       "      <th></th>\n",
       "      <th>emotion_recieved</th>\n",
       "      <th>emotion_sent</th>\n",
       "      <th>reciever_name</th>\n",
       "      <th>sender_id</th>\n",
       "      <th>sender_name</th>\n",
       "    </tr>\n",
       "  </thead>\n",
       "  <tbody>\n",
       "    <tr>\n",
       "      <th>0</th>\n",
       "      <td>negative</td>\n",
       "      <td>negative</td>\n",
       "      <td>katya_t</td>\n",
       "      <td>7472</td>\n",
       "      <td>gosha_k</td>\n",
       "    </tr>\n",
       "    <tr>\n",
       "      <th>1</th>\n",
       "      <td>negative</td>\n",
       "      <td>negative</td>\n",
       "      <td>katya_t</td>\n",
       "      <td>7473</td>\n",
       "      <td>gosha_k</td>\n",
       "    </tr>\n",
       "    <tr>\n",
       "      <th>2</th>\n",
       "      <td>negative</td>\n",
       "      <td>negative</td>\n",
       "      <td>katya_t</td>\n",
       "      <td>7482</td>\n",
       "      <td>gosha_k</td>\n",
       "    </tr>\n",
       "    <tr>\n",
       "      <th>3</th>\n",
       "      <td>negative</td>\n",
       "      <td>negative</td>\n",
       "      <td>katya_t</td>\n",
       "      <td>7484</td>\n",
       "      <td>gosha_k</td>\n",
       "    </tr>\n",
       "    <tr>\n",
       "      <th>4</th>\n",
       "      <td>negative</td>\n",
       "      <td>negative</td>\n",
       "      <td>katya_t</td>\n",
       "      <td>12811</td>\n",
       "      <td>gosha_k</td>\n",
       "    </tr>\n",
       "    <tr>\n",
       "      <th>...</th>\n",
       "      <td>...</td>\n",
       "      <td>...</td>\n",
       "      <td>...</td>\n",
       "      <td>...</td>\n",
       "      <td>...</td>\n",
       "    </tr>\n",
       "    <tr>\n",
       "      <th>1306</th>\n",
       "      <td>positive</td>\n",
       "      <td>positive</td>\n",
       "      <td>malika_m</td>\n",
       "      <td>33497</td>\n",
       "      <td>nikita_b</td>\n",
       "    </tr>\n",
       "    <tr>\n",
       "      <th>1307</th>\n",
       "      <td>negative</td>\n",
       "      <td>positive</td>\n",
       "      <td>gosha_k</td>\n",
       "      <td>33498</td>\n",
       "      <td>nikita_b</td>\n",
       "    </tr>\n",
       "    <tr>\n",
       "      <th>1308</th>\n",
       "      <td>positive</td>\n",
       "      <td>positive</td>\n",
       "      <td>malika_m</td>\n",
       "      <td>33498</td>\n",
       "      <td>nikita_b</td>\n",
       "    </tr>\n",
       "    <tr>\n",
       "      <th>1309</th>\n",
       "      <td>negative</td>\n",
       "      <td>positive</td>\n",
       "      <td>gosha_k</td>\n",
       "      <td>33500</td>\n",
       "      <td>nikita_b</td>\n",
       "    </tr>\n",
       "    <tr>\n",
       "      <th>1310</th>\n",
       "      <td>positive</td>\n",
       "      <td>positive</td>\n",
       "      <td>malika_m</td>\n",
       "      <td>33500</td>\n",
       "      <td>nikita_b</td>\n",
       "    </tr>\n",
       "  </tbody>\n",
       "</table>\n",
       "<p>1311 rows × 5 columns</p>\n",
       "</div>"
      ],
      "text/plain": [
       "     emotion_recieved emotion_sent reciever_name sender_id sender_name\n",
       "0            negative     negative       katya_t      7472     gosha_k\n",
       "1            negative     negative       katya_t      7473     gosha_k\n",
       "2            negative     negative       katya_t      7482     gosha_k\n",
       "3            negative     negative       katya_t      7484     gosha_k\n",
       "4            negative     negative       katya_t     12811     gosha_k\n",
       "...               ...          ...           ...       ...         ...\n",
       "1306         positive     positive      malika_m     33497    nikita_b\n",
       "1307         negative     positive       gosha_k     33498    nikita_b\n",
       "1308         positive     positive      malika_m     33498    nikita_b\n",
       "1309         negative     positive       gosha_k     33500    nikita_b\n",
       "1310         positive     positive      malika_m     33500    nikita_b\n",
       "\n",
       "[1311 rows x 5 columns]"
      ]
     },
     "execution_count": 29,
     "metadata": {},
     "output_type": "execute_result"
    }
   ],
   "source": [
    "union_table = pd.concat([with_exitment_1, with_exitment_2, with_exitment_3, with_exitment_4, with_exitment_5], \n",
    "          sort = True, ignore_index = True)\n",
    "union_table"
   ]
  },
  {
   "cell_type": "markdown",
   "metadata": {},
   "source": [
    "#### Получил и отправил одинаковые эмоции"
   ]
  },
  {
   "cell_type": "code",
   "execution_count": 30,
   "metadata": {},
   "outputs": [
    {
     "data": {
      "text/html": [
       "<div>\n",
       "<style scoped>\n",
       "    .dataframe tbody tr th:only-of-type {\n",
       "        vertical-align: middle;\n",
       "    }\n",
       "\n",
       "    .dataframe tbody tr th {\n",
       "        vertical-align: top;\n",
       "    }\n",
       "\n",
       "    .dataframe thead th {\n",
       "        text-align: right;\n",
       "    }\n",
       "</style>\n",
       "<table border=\"1\" class=\"dataframe\">\n",
       "  <thead>\n",
       "    <tr style=\"text-align: right;\">\n",
       "      <th></th>\n",
       "      <th>emotion_recieved</th>\n",
       "      <th>emotion_sent</th>\n",
       "      <th>reciever_name</th>\n",
       "      <th>sender_id</th>\n",
       "      <th>sender_name</th>\n",
       "    </tr>\n",
       "  </thead>\n",
       "  <tbody>\n",
       "    <tr>\n",
       "      <th>0</th>\n",
       "      <td>negative</td>\n",
       "      <td>negative</td>\n",
       "      <td>katya_t</td>\n",
       "      <td>7472</td>\n",
       "      <td>gosha_k</td>\n",
       "    </tr>\n",
       "    <tr>\n",
       "      <th>1</th>\n",
       "      <td>negative</td>\n",
       "      <td>negative</td>\n",
       "      <td>katya_t</td>\n",
       "      <td>7473</td>\n",
       "      <td>gosha_k</td>\n",
       "    </tr>\n",
       "    <tr>\n",
       "      <th>2</th>\n",
       "      <td>negative</td>\n",
       "      <td>negative</td>\n",
       "      <td>katya_t</td>\n",
       "      <td>7482</td>\n",
       "      <td>gosha_k</td>\n",
       "    </tr>\n",
       "    <tr>\n",
       "      <th>3</th>\n",
       "      <td>negative</td>\n",
       "      <td>negative</td>\n",
       "      <td>katya_t</td>\n",
       "      <td>7484</td>\n",
       "      <td>gosha_k</td>\n",
       "    </tr>\n",
       "    <tr>\n",
       "      <th>4</th>\n",
       "      <td>negative</td>\n",
       "      <td>negative</td>\n",
       "      <td>katya_t</td>\n",
       "      <td>12811</td>\n",
       "      <td>gosha_k</td>\n",
       "    </tr>\n",
       "    <tr>\n",
       "      <th>...</th>\n",
       "      <td>...</td>\n",
       "      <td>...</td>\n",
       "      <td>...</td>\n",
       "      <td>...</td>\n",
       "      <td>...</td>\n",
       "    </tr>\n",
       "    <tr>\n",
       "      <th>1294</th>\n",
       "      <td>positive</td>\n",
       "      <td>positive</td>\n",
       "      <td>katya_t</td>\n",
       "      <td>30338</td>\n",
       "      <td>nikita_b</td>\n",
       "    </tr>\n",
       "    <tr>\n",
       "      <th>1304</th>\n",
       "      <td>positive</td>\n",
       "      <td>positive</td>\n",
       "      <td>malika_m</td>\n",
       "      <td>33496</td>\n",
       "      <td>nikita_b</td>\n",
       "    </tr>\n",
       "    <tr>\n",
       "      <th>1306</th>\n",
       "      <td>positive</td>\n",
       "      <td>positive</td>\n",
       "      <td>malika_m</td>\n",
       "      <td>33497</td>\n",
       "      <td>nikita_b</td>\n",
       "    </tr>\n",
       "    <tr>\n",
       "      <th>1308</th>\n",
       "      <td>positive</td>\n",
       "      <td>positive</td>\n",
       "      <td>malika_m</td>\n",
       "      <td>33498</td>\n",
       "      <td>nikita_b</td>\n",
       "    </tr>\n",
       "    <tr>\n",
       "      <th>1310</th>\n",
       "      <td>positive</td>\n",
       "      <td>positive</td>\n",
       "      <td>malika_m</td>\n",
       "      <td>33500</td>\n",
       "      <td>nikita_b</td>\n",
       "    </tr>\n",
       "  </tbody>\n",
       "</table>\n",
       "<p>711 rows × 5 columns</p>\n",
       "</div>"
      ],
      "text/plain": [
       "     emotion_recieved emotion_sent reciever_name sender_id sender_name\n",
       "0            negative     negative       katya_t      7472     gosha_k\n",
       "1            negative     negative       katya_t      7473     gosha_k\n",
       "2            negative     negative       katya_t      7482     gosha_k\n",
       "3            negative     negative       katya_t      7484     gosha_k\n",
       "4            negative     negative       katya_t     12811     gosha_k\n",
       "...               ...          ...           ...       ...         ...\n",
       "1294         positive     positive       katya_t     30338    nikita_b\n",
       "1304         positive     positive      malika_m     33496    nikita_b\n",
       "1306         positive     positive      malika_m     33497    nikita_b\n",
       "1308         positive     positive      malika_m     33498    nikita_b\n",
       "1310         positive     positive      malika_m     33500    nikita_b\n",
       "\n",
       "[711 rows x 5 columns]"
      ]
     },
     "execution_count": 30,
     "metadata": {},
     "output_type": "execute_result"
    }
   ],
   "source": [
    "union_similar = union_table[union_table.emotion_recieved == union_table.emotion_sent]\n",
    "union_similar"
   ]
  },
  {
   "cell_type": "markdown",
   "metadata": {},
   "source": [
    "#### Человек, который больше всего заражал эмоциями"
   ]
  },
  {
   "cell_type": "code",
   "execution_count": 31,
   "metadata": {
    "scrolled": true
   },
   "outputs": [
    {
     "data": {
      "text/plain": [
       "sender_name\n",
       "katya_t     367\n",
       "malika_m    251\n",
       "marina_s     38\n",
       "gosha_k      34\n",
       "nikita_b     21\n",
       "Name: sender_id, dtype: int64"
      ]
     },
     "execution_count": 31,
     "metadata": {},
     "output_type": "execute_result"
    }
   ],
   "source": [
    "max_emotion_sent = union_similar.groupby([\"sender_name\"]).count()[\"sender_id\"]\n",
    "max_emotion_sent.sort_values(ascending = False)"
   ]
  },
  {
   "cell_type": "code",
   "execution_count": 46,
   "metadata": {},
   "outputs": [
    {
     "data": {
      "text/plain": [
       "sender_name\n",
       "gosha_k      5.0\n",
       "katya_t     52.0\n",
       "malika_m    35.0\n",
       "marina_s     5.0\n",
       "nikita_b     3.0\n",
       "Name: sender_id, dtype: float64"
      ]
     },
     "execution_count": 46,
     "metadata": {},
     "output_type": "execute_result"
    }
   ],
   "source": [
    "round(max_emotion_sent / len(union_similar) * 100)"
   ]
  },
  {
   "cell_type": "markdown",
   "metadata": {},
   "source": [
    "#### Человек, который больше всего принимал эмоции других"
   ]
  },
  {
   "cell_type": "code",
   "execution_count": 32,
   "metadata": {
    "scrolled": false
   },
   "outputs": [
    {
     "data": {
      "text/plain": [
       "reciever_name\n",
       "malika_m    195\n",
       "gosha_k     166\n",
       "katya_t     148\n",
       "nikita_b    114\n",
       "marina_s     88\n",
       "Name: sender_id, dtype: int64"
      ]
     },
     "execution_count": 32,
     "metadata": {},
     "output_type": "execute_result"
    }
   ],
   "source": [
    "max_emotion_recieved = union_similar.groupby([\"reciever_name\"]).count()[\"sender_id\"]\n",
    "max_emotion_recieved.sort_values(ascending = False)"
   ]
  },
  {
   "cell_type": "markdown",
   "metadata": {},
   "source": [
    "### Устойчивые пары"
   ]
  },
  {
   "cell_type": "code",
   "execution_count": 33,
   "metadata": {},
   "outputs": [
    {
     "data": {
      "text/plain": [
       "sender_name  reciever_name  emotion_sent\n",
       "gosha_k      katya_t        negative         10\n",
       "             malika_m       negative         15\n",
       "             marina_s       negative          8\n",
       "             nikita_b       negative          1\n",
       "katya_t      gosha_k        negative        118\n",
       "             malika_m       negative         75\n",
       "                            positive         66\n",
       "             marina_s       negative         43\n",
       "             nikita_b       negative         30\n",
       "                            positive         35\n",
       "malika_m     gosha_k        negative         43\n",
       "             katya_t        negative         93\n",
       "                            positive         30\n",
       "             marina_s       negative         37\n",
       "             nikita_b       positive         48\n",
       "marina_s     gosha_k        negative          2\n",
       "             katya_t        negative         10\n",
       "             malika_m       negative         25\n",
       "                            positive          1\n",
       "nikita_b     gosha_k        negative          3\n",
       "             katya_t        positive          5\n",
       "             malika_m       negative          3\n",
       "                            positive         10\n",
       "Name: emotion_recieved, dtype: int64"
      ]
     },
     "execution_count": 33,
     "metadata": {},
     "output_type": "execute_result"
    }
   ],
   "source": [
    "union_similar.groupby([\"sender_name\", \"reciever_name\", \"emotion_sent\"]).count()[\"emotion_recieved\"]"
   ]
  },
  {
   "cell_type": "markdown",
   "metadata": {},
   "source": [
    "### Гистограммы"
   ]
  },
  {
   "cell_type": "code",
   "execution_count": 34,
   "metadata": {},
   "outputs": [],
   "source": [
    "import numpy as np\n",
    "import matplotlib.pyplot as plt"
   ]
  },
  {
   "cell_type": "markdown",
   "metadata": {},
   "source": [
    "#### Только позитивные и только негативные эмоции"
   ]
  },
  {
   "cell_type": "code",
   "execution_count": 35,
   "metadata": {},
   "outputs": [],
   "source": [
    "all_positive = union_similar[union_similar.emotion_sent == \"positive\"]\n",
    "all_negative = union_similar[union_similar.emotion_sent == \"negative\"]"
   ]
  },
  {
   "cell_type": "code",
   "execution_count": 36,
   "metadata": {},
   "outputs": [
    {
     "data": {
      "text/html": [
       "<div>\n",
       "<style scoped>\n",
       "    .dataframe tbody tr th:only-of-type {\n",
       "        vertical-align: middle;\n",
       "    }\n",
       "\n",
       "    .dataframe tbody tr th {\n",
       "        vertical-align: top;\n",
       "    }\n",
       "\n",
       "    .dataframe thead th {\n",
       "        text-align: right;\n",
       "    }\n",
       "</style>\n",
       "<table border=\"1\" class=\"dataframe\">\n",
       "  <thead>\n",
       "    <tr style=\"text-align: right;\">\n",
       "      <th></th>\n",
       "      <th>emotion_recieved</th>\n",
       "      <th>emotion_sent</th>\n",
       "      <th>reciever_name</th>\n",
       "      <th>sender_id</th>\n",
       "      <th>sender_name</th>\n",
       "    </tr>\n",
       "  </thead>\n",
       "  <tbody>\n",
       "    <tr>\n",
       "      <th>0</th>\n",
       "      <td>negative</td>\n",
       "      <td>negative</td>\n",
       "      <td>katya_t</td>\n",
       "      <td>7472</td>\n",
       "      <td>gosha_k</td>\n",
       "    </tr>\n",
       "    <tr>\n",
       "      <th>1</th>\n",
       "      <td>negative</td>\n",
       "      <td>negative</td>\n",
       "      <td>katya_t</td>\n",
       "      <td>7473</td>\n",
       "      <td>gosha_k</td>\n",
       "    </tr>\n",
       "    <tr>\n",
       "      <th>2</th>\n",
       "      <td>negative</td>\n",
       "      <td>negative</td>\n",
       "      <td>katya_t</td>\n",
       "      <td>7482</td>\n",
       "      <td>gosha_k</td>\n",
       "    </tr>\n",
       "    <tr>\n",
       "      <th>3</th>\n",
       "      <td>negative</td>\n",
       "      <td>negative</td>\n",
       "      <td>katya_t</td>\n",
       "      <td>7484</td>\n",
       "      <td>gosha_k</td>\n",
       "    </tr>\n",
       "    <tr>\n",
       "      <th>4</th>\n",
       "      <td>negative</td>\n",
       "      <td>negative</td>\n",
       "      <td>katya_t</td>\n",
       "      <td>12811</td>\n",
       "      <td>gosha_k</td>\n",
       "    </tr>\n",
       "    <tr>\n",
       "      <th>...</th>\n",
       "      <td>...</td>\n",
       "      <td>...</td>\n",
       "      <td>...</td>\n",
       "      <td>...</td>\n",
       "      <td>...</td>\n",
       "    </tr>\n",
       "    <tr>\n",
       "      <th>1267</th>\n",
       "      <td>negative</td>\n",
       "      <td>negative</td>\n",
       "      <td>malika_m</td>\n",
       "      <td>18603</td>\n",
       "      <td>nikita_b</td>\n",
       "    </tr>\n",
       "    <tr>\n",
       "      <th>1268</th>\n",
       "      <td>negative</td>\n",
       "      <td>negative</td>\n",
       "      <td>gosha_k</td>\n",
       "      <td>18604</td>\n",
       "      <td>nikita_b</td>\n",
       "    </tr>\n",
       "    <tr>\n",
       "      <th>1269</th>\n",
       "      <td>negative</td>\n",
       "      <td>negative</td>\n",
       "      <td>malika_m</td>\n",
       "      <td>18604</td>\n",
       "      <td>nikita_b</td>\n",
       "    </tr>\n",
       "    <tr>\n",
       "      <th>1270</th>\n",
       "      <td>negative</td>\n",
       "      <td>negative</td>\n",
       "      <td>gosha_k</td>\n",
       "      <td>18605</td>\n",
       "      <td>nikita_b</td>\n",
       "    </tr>\n",
       "    <tr>\n",
       "      <th>1271</th>\n",
       "      <td>negative</td>\n",
       "      <td>negative</td>\n",
       "      <td>malika_m</td>\n",
       "      <td>18605</td>\n",
       "      <td>nikita_b</td>\n",
       "    </tr>\n",
       "  </tbody>\n",
       "</table>\n",
       "<p>516 rows × 5 columns</p>\n",
       "</div>"
      ],
      "text/plain": [
       "     emotion_recieved emotion_sent reciever_name sender_id sender_name\n",
       "0            negative     negative       katya_t      7472     gosha_k\n",
       "1            negative     negative       katya_t      7473     gosha_k\n",
       "2            negative     negative       katya_t      7482     gosha_k\n",
       "3            negative     negative       katya_t      7484     gosha_k\n",
       "4            negative     negative       katya_t     12811     gosha_k\n",
       "...               ...          ...           ...       ...         ...\n",
       "1267         negative     negative      malika_m     18603    nikita_b\n",
       "1268         negative     negative       gosha_k     18604    nikita_b\n",
       "1269         negative     negative      malika_m     18604    nikita_b\n",
       "1270         negative     negative       gosha_k     18605    nikita_b\n",
       "1271         negative     negative      malika_m     18605    nikita_b\n",
       "\n",
       "[516 rows x 5 columns]"
      ]
     },
     "execution_count": 36,
     "metadata": {},
     "output_type": "execute_result"
    }
   ],
   "source": [
    "all_negative"
   ]
  },
  {
   "cell_type": "code",
   "execution_count": 37,
   "metadata": {},
   "outputs": [
    {
     "data": {
      "text/html": [
       "<div>\n",
       "<style scoped>\n",
       "    .dataframe tbody tr th:only-of-type {\n",
       "        vertical-align: middle;\n",
       "    }\n",
       "\n",
       "    .dataframe tbody tr th {\n",
       "        vertical-align: top;\n",
       "    }\n",
       "\n",
       "    .dataframe thead th {\n",
       "        text-align: right;\n",
       "    }\n",
       "</style>\n",
       "<table border=\"1\" class=\"dataframe\">\n",
       "  <thead>\n",
       "    <tr style=\"text-align: right;\">\n",
       "      <th></th>\n",
       "      <th>emotion_recieved</th>\n",
       "      <th>emotion_sent</th>\n",
       "      <th>reciever_name</th>\n",
       "      <th>sender_id</th>\n",
       "      <th>sender_name</th>\n",
       "    </tr>\n",
       "  </thead>\n",
       "  <tbody>\n",
       "    <tr>\n",
       "      <th>196</th>\n",
       "      <td>positive</td>\n",
       "      <td>positive</td>\n",
       "      <td>malika_m</td>\n",
       "      <td>12695</td>\n",
       "      <td>katya_t</td>\n",
       "    </tr>\n",
       "    <tr>\n",
       "      <th>197</th>\n",
       "      <td>positive</td>\n",
       "      <td>positive</td>\n",
       "      <td>malika_m</td>\n",
       "      <td>12696</td>\n",
       "      <td>katya_t</td>\n",
       "    </tr>\n",
       "    <tr>\n",
       "      <th>198</th>\n",
       "      <td>positive</td>\n",
       "      <td>positive</td>\n",
       "      <td>malika_m</td>\n",
       "      <td>12697</td>\n",
       "      <td>katya_t</td>\n",
       "    </tr>\n",
       "    <tr>\n",
       "      <th>199</th>\n",
       "      <td>positive</td>\n",
       "      <td>positive</td>\n",
       "      <td>malika_m</td>\n",
       "      <td>12698</td>\n",
       "      <td>katya_t</td>\n",
       "    </tr>\n",
       "    <tr>\n",
       "      <th>214</th>\n",
       "      <td>positive</td>\n",
       "      <td>positive</td>\n",
       "      <td>malika_m</td>\n",
       "      <td>13890</td>\n",
       "      <td>katya_t</td>\n",
       "    </tr>\n",
       "    <tr>\n",
       "      <th>...</th>\n",
       "      <td>...</td>\n",
       "      <td>...</td>\n",
       "      <td>...</td>\n",
       "      <td>...</td>\n",
       "      <td>...</td>\n",
       "    </tr>\n",
       "    <tr>\n",
       "      <th>1294</th>\n",
       "      <td>positive</td>\n",
       "      <td>positive</td>\n",
       "      <td>katya_t</td>\n",
       "      <td>30338</td>\n",
       "      <td>nikita_b</td>\n",
       "    </tr>\n",
       "    <tr>\n",
       "      <th>1304</th>\n",
       "      <td>positive</td>\n",
       "      <td>positive</td>\n",
       "      <td>malika_m</td>\n",
       "      <td>33496</td>\n",
       "      <td>nikita_b</td>\n",
       "    </tr>\n",
       "    <tr>\n",
       "      <th>1306</th>\n",
       "      <td>positive</td>\n",
       "      <td>positive</td>\n",
       "      <td>malika_m</td>\n",
       "      <td>33497</td>\n",
       "      <td>nikita_b</td>\n",
       "    </tr>\n",
       "    <tr>\n",
       "      <th>1308</th>\n",
       "      <td>positive</td>\n",
       "      <td>positive</td>\n",
       "      <td>malika_m</td>\n",
       "      <td>33498</td>\n",
       "      <td>nikita_b</td>\n",
       "    </tr>\n",
       "    <tr>\n",
       "      <th>1310</th>\n",
       "      <td>positive</td>\n",
       "      <td>positive</td>\n",
       "      <td>malika_m</td>\n",
       "      <td>33500</td>\n",
       "      <td>nikita_b</td>\n",
       "    </tr>\n",
       "  </tbody>\n",
       "</table>\n",
       "<p>195 rows × 5 columns</p>\n",
       "</div>"
      ],
      "text/plain": [
       "     emotion_recieved emotion_sent reciever_name sender_id sender_name\n",
       "196          positive     positive      malika_m     12695     katya_t\n",
       "197          positive     positive      malika_m     12696     katya_t\n",
       "198          positive     positive      malika_m     12697     katya_t\n",
       "199          positive     positive      malika_m     12698     katya_t\n",
       "214          positive     positive      malika_m     13890     katya_t\n",
       "...               ...          ...           ...       ...         ...\n",
       "1294         positive     positive       katya_t     30338    nikita_b\n",
       "1304         positive     positive      malika_m     33496    nikita_b\n",
       "1306         positive     positive      malika_m     33497    nikita_b\n",
       "1308         positive     positive      malika_m     33498    nikita_b\n",
       "1310         positive     positive      malika_m     33500    nikita_b\n",
       "\n",
       "[195 rows x 5 columns]"
      ]
     },
     "execution_count": 37,
     "metadata": {},
     "output_type": "execute_result"
    }
   ],
   "source": [
    "all_positive"
   ]
  },
  {
   "cell_type": "code",
   "execution_count": 49,
   "metadata": {},
   "outputs": [
    {
     "name": "stdout",
     "output_type": "stream",
     "text": [
      "0.0019189135996851014\n",
      "0.2688900468994268\n"
     ]
    }
   ],
   "source": [
    "positive_emotions = [\"neutral\", \"surprise\", \"happy\"]\n",
    "negative_emotions = [\"fear\", \"sad\", \"angry\"]\n",
    "\n",
    "positive_count = len(df_1[df_1.emotion.isin(positive_emotions)]) + len(df_2[df_2.emotion.isin(positive_emotions)]) + len(df_3[df_3.emotion.isin(positive_emotions)]) + len(df_4[df_4.emotion.isin(positive_emotions)]) + len(df_5[df_5.emotion.isin(positive_emotions)])\n",
    "negative_count = len(df_1[df_1.emotion.isin(negative_emotions)]) + len(df_2[df_2.emotion.isin(negative_emotions)]) + len(df_3[df_3.emotion.isin(negative_emotions)]) + len(df_4[df_4.emotion.isin(negative_emotions)]) + len(df_5[df_5.emotion.isin(negative_emotions)])\n",
    "print(len(all_positive) / positive_count)\n",
    "print(len(all_negative) / negative_count)\n"
   ]
  },
  {
   "cell_type": "markdown",
   "metadata": {},
   "source": [
    "#### Стадии"
   ]
  },
  {
   "cell_type": "code",
   "execution_count": 38,
   "metadata": {},
   "outputs": [],
   "source": [
    "stage_1 = 25440\n",
    "stage_2 = 26880\n",
    "stage_3 = 35400\n",
    "stage_4 = 39474"
   ]
  },
  {
   "cell_type": "markdown",
   "metadata": {},
   "source": [
    "#### Для негативных эмоций"
   ]
  },
  {
   "cell_type": "code",
   "execution_count": 39,
   "metadata": {},
   "outputs": [
    {
     "data": {
      "image/png": "[encoded data removed]",
      "text/plain": [
       "<Figure size 1440x1584 with 20 Axes>"
      ]
     },
     "metadata": {
      "needs_background": "light"
     },
     "output_type": "display_data"
    }
   ],
   "source": [
    "figsize = (20, 22)\n",
    "fig, axes = plt.subplots(nrows = 5, ncols = 4, figsize = figsize)\n",
    "\n",
    "# максимальное количество строк в датасетах\n",
    "count_elements = max([len(df_1), len(df_2), len(df_3), len(df_4), len(df_5)])\n",
    "# индекс отправителей\n",
    "sender_index = {name_1: 0, name_2: 1, name_3: 2, name_4: 3, name_5: 4}\n",
    "# отправители\n",
    "senders = [name_1, name_2, name_3, name_4, name_5]"
   ]
  },
  {
   "cell_type": "code",
   "execution_count": 40,
   "metadata": {},
   "outputs": [
    {
     "data": {
      "image/png": "[encoded data removed]",
      "text/plain": [
       "<Figure size 1440x1584 with 20 Axes>"
      ]
     },
     "execution_count": 40,
     "metadata": {},
     "output_type": "execute_result"
    }
   ],
   "source": [
    "for sender_name in senders:\n",
    "    sender = sender_name\n",
    "    recievers = [name_1, name_2, name_3, name_4, name_5]\n",
    "    recievers.remove(sender)\n",
    "\n",
    "    for reciever in recievers:\n",
    "        if reciever != sender:\n",
    "            negative = all_negative[(all_negative.sender_name == sender) & (all_negative.reciever_name == reciever)][\"sender_id\"]\n",
    "            negative_grid = pd.Series([0 for x in range(1, count_elements + 1)])\n",
    "\n",
    "            for i in negative_grid.index:\n",
    "                if i in negative.values:\n",
    "                    negative_grid[i] = 1\n",
    "\n",
    "            negative_grid = negative_grid[1:]\n",
    "\n",
    "            # нужно исправить логику деления на стадии\n",
    "            hist_negative = pd.DataFrame(negative_grid, columns = [\"contageon\"])\n",
    "            hist_negative[\"stage\"] = 1\n",
    "            hist_negative.loc[0: stage_1, \"stage\"] = 1\n",
    "            hist_negative.loc[stage_1 + 1:stage_2, \"stage\"] = 2\n",
    "            hist_negative.loc[stage_2 + 1:stage_3, \"stage\"] = 3\n",
    "            hist_negative.loc[stage_3 + 1:stage_4, \"stage\"] = 4\n",
    "\n",
    "            # Делим на части\n",
    "            parts_number = 10\n",
    "            part_name = 1\n",
    "            count_rows = 0\n",
    "            multiplier = 1\n",
    "            partition = round(len(hist_negative) / parts_number)\n",
    "\n",
    "            hist_negative[\"part\"] = 1\n",
    "\n",
    "            while count_rows <= len(hist_negative):\n",
    "                hist_negative.loc[count_rows:partition * multiplier, \"part\"] = part_name\n",
    "                count_rows += partition\n",
    "                multiplier += 1\n",
    "                part_name += 1\n",
    "\n",
    "            hist_data = hist_negative.groupby([\"part\", \"stage\"]).sum()\n",
    "            hist_data.plot(ax = axes[sender_index[sender], recievers.index(reciever)], kind = \"bar\", \n",
    "                           color = \"blue\", sharex = True, sharey = True, title = reciever, grid = True, legend = False)\n",
    "            axes[sender_index[sender], recievers.index(reciever)].set_ylabel(sender)\n",
    "fig"
   ]
  },
  {
   "cell_type": "markdown",
   "metadata": {},
   "source": [
    "#### Для позитивных эмоций"
   ]
  },
  {
   "cell_type": "code",
   "execution_count": 41,
   "metadata": {},
   "outputs": [
    {
     "data": {
      "image/png": "[encoded data removed]",
      "text/plain": [
       "<Figure size 1440x1584 with 20 Axes>"
      ]
     },
     "metadata": {
      "needs_background": "light"
     },
     "output_type": "display_data"
    }
   ],
   "source": [
    "figsize = (20, 22)\n",
    "fig, axes = plt.subplots(nrows = 5, ncols = 4, figsize = figsize)\n",
    "\n",
    "# максимальное количество строк в датасетах\n",
    "count_elements = max([len(df_1), len(df_2), len(df_3), len(df_4), len(df_5)])\n",
    "# индекс отправителей\n",
    "sender_index = {name_1: 0, name_2: 1, name_3: 2, name_4: 3, name_5: 4}\n",
    "# отправители\n",
    "senders = [name_1, name_2, name_3, name_4, name_5]"
   ]
  },
  {
   "cell_type": "code",
   "execution_count": 42,
   "metadata": {},
   "outputs": [
    {
     "data": {
      "image/png": "[encoded data removed]",
      "text/plain": [
       "<Figure size 1440x1584 with 20 Axes>"
      ]
     },
     "execution_count": 42,
     "metadata": {},
     "output_type": "execute_result"
    }
   ],
   "source": [
    "for sender_name in senders:\n",
    "    sender = sender_name\n",
    "    recievers = [name_1, name_2, name_3, name_4, name_5]\n",
    "    recievers.remove(sender)\n",
    "\n",
    "    for reciever in recievers:\n",
    "        if reciever != sender:\n",
    "            negative = all_positive[(all_positive.sender_name == sender) & (all_positive.reciever_name == reciever)][\"sender_id\"]\n",
    "            negative_grid = pd.Series([0 for x in range(1, count_elements + 1)])\n",
    "\n",
    "            for i in negative_grid.index:\n",
    "                if i in negative.values:\n",
    "                    negative_grid[i ] = 1\n",
    "\n",
    "            negative_grid = negative_grid[1:]\n",
    "\n",
    "            # нужно исправить логику деления на стадии\n",
    "            hist_negative = pd.DataFrame(negative_grid, columns = [\"contageon\"])\n",
    "            hist_negative[\"stage\"] = 1\n",
    "            hist_negative.loc[0: stage_1, \"stage\"] = 1\n",
    "            hist_negative.loc[stage_1 + 1:stage_2, \"stage\"] = 2\n",
    "            hist_negative.loc[stage_2 + 1:stage_3, \"stage\"] = 3\n",
    "            hist_negative.loc[stage_3 + 1:stage_4, \"stage\"] = 4\n",
    "\n",
    "            # Делим на части\n",
    "            parts_number = 10\n",
    "            part_name = 1\n",
    "            count_rows = 0\n",
    "            multiplier = 1\n",
    "            partition = round(len(hist_negative) / parts_number)\n",
    "\n",
    "            hist_negative[\"part\"] = 1\n",
    "\n",
    "            while count_rows <= len(hist_negative):\n",
    "                hist_negative.loc[count_rows:partition * multiplier, \"part\"] = part_name\n",
    "                count_rows += partition\n",
    "                multiplier += 1\n",
    "                part_name += 1\n",
    "\n",
    "            hist_data = hist_negative.groupby([\"part\", \"stage\"]).sum()\n",
    "            hist_data.plot(ax = axes[sender_index[sender], recievers.index(reciever)], kind = \"bar\", \n",
    "                           color = \"blue\", sharex = True, sharey = True, title = reciever, grid = True, legend = False)\n",
    "            axes[sender_index[sender], recievers.index(reciever)].set_ylabel(sender)\n",
    "fig"
   ]
  },
  {
   "cell_type": "markdown",
   "metadata": {},
   "source": [
    "#### Общая гистограмма"
   ]
  },
  {
   "cell_type": "code",
   "execution_count": 43,
   "metadata": {},
   "outputs": [
    {
     "data": {
      "text/plain": [
       "Text(0.5, 0, 'Стадии обсуждения')"
      ]
     },
     "execution_count": 43,
     "metadata": {},
     "output_type": "execute_result"
    },
    {
     "data": {
      "image/png": "[encoded data removed]",
      "text/plain": [
       "<Figure size 432x288 with 1 Axes>"
      ]
     },
     "metadata": {
      "needs_background": "light"
     },
     "output_type": "display_data"
    }
   ],
   "source": [
    "# Сначала нужно разделить на фазы общий датасет\n",
    "\n",
    "hist_union = union_similar.copy()\n",
    "\n",
    "hist_union[\"stage\"] = 1\n",
    "hist_union.loc[(hist_union[\"sender_id\"].astype(int) > stage_1) & (hist_union[\"sender_id\"].astype(int) <= stage_2), \"stage\"] = 2\n",
    "hist_union.loc[(hist_union[\"sender_id\"].astype(int) > stage_2) & (hist_union[\"sender_id\"].astype(int) <= stage_3), \"stage\"] = 3\n",
    "hist_union.loc[(hist_union[\"sender_id\"].astype(int) > stage_3), \"stage\"] = 4\n",
    "\n",
    "hist_union_grouped = hist_union.groupby([\"stage\", \"emotion_sent\"]).count()\n",
    "hist_union_grouped_plot = hist_union_grouped[\"emotion_recieved\"].plot(kind = \"bar\")\n",
    "hist_union_grouped_plot.set_ylabel(\"Количество заражений\")\n",
    "hist_union_grouped_plot.set_xlabel(\"Стадии обсуждения\")\n"
   ]
  },
  {
   "cell_type": "markdown",
   "metadata": {},
   "source": [
    "#### Сколько в среднем происходит заражений по фазам и эмоциям"
   ]
  },
  {
   "cell_type": "code",
   "execution_count": 48,
   "metadata": {},
   "outputs": [
    {
     "data": {
      "text/plain": [
       "sender_name  emotion_sent\n",
       "gosha_k      negative        1.096774\n",
       "katya_t      negative        1.027027\n",
       "             positive        1.202381\n",
       "malika_m     negative        1.029762\n",
       "             positive        1.300000\n",
       "marina_s     negative        1.156250\n",
       "             positive        1.000000\n",
       "nikita_b     negative        2.000000\n",
       "             positive        1.071429\n",
       "Name: count, dtype: float64"
      ]
     },
     "execution_count": 48,
     "metadata": {},
     "output_type": "execute_result"
    }
   ],
   "source": [
    "hist_union[\"count\"] = 1\n",
    "hist_union_grouped = hist_union.groupby([\"sender_id\", \"sender_name\", \"emotion_sent\"]).sum().reset_index()\n",
    "\n",
    "hist_union_grouped.groupby([\"sender_name\", \"emotion_sent\"]).mean().astype(float)[\"count\"]\n",
    "#hist_union_grouped = hist_union.groupby([\"stage\", \"sender_name\", \"emotion_sent\"]).agg({\"count\": mean})"
   ]
  },
  {
   "cell_type": "code",
   "execution_count": 45,
   "metadata": {},
   "outputs": [
    {
     "ename": "SyntaxError",
     "evalue": "invalid syntax (<ipython-input-45-5efa65fcd2a5>, line 1)",
     "output_type": "error",
     "traceback": [
      "\u001b[0;36m  File \u001b[0;32m\"<ipython-input-45-5efa65fcd2a5>\"\u001b[0;36m, line \u001b[0;32m1\u001b[0m\n\u001b[0;31m    -------------------------------------------------------------------------------------------------------------------\u001b[0m\n\u001b[0m                                                                                                                       ^\u001b[0m\n\u001b[0;31mSyntaxError\u001b[0m\u001b[0;31m:\u001b[0m invalid syntax\n"
     ]
    }
   ],
   "source": [
    "-------------------------------------------------------------------------------------------------------------------"
   ]
  },
  {
   "cell_type": "code",
   "execution_count": null,
   "metadata": {},
   "outputs": [],
   "source": []
  }
 ],
 "metadata": {
  "kernelspec": {
   "display_name": "Python 3",
   "language": "python",
   "name": "python3"
  },
  "language_info": {
   "codemirror_mode": {
    "name": "ipython",
    "version": 3
   },
   "file_extension": ".py",
   "mimetype": "text/x-python",
   "name": "python",
   "nbconvert_exporter": "python",
   "pygments_lexer": "ipython3",
   "version": "3.7.6"
  }
 },
 "nbformat": 4,
 "nbformat_minor": 4
}
